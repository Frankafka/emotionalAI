{
 "cells": [
  {
   "cell_type": "markdown",
   "metadata": {},
   "source": [
    "# Emotional AI: EDA"
   ]
  },
  {
   "cell_type": "markdown",
   "metadata": {},
   "source": [
    "Anaysis by Frank Flavell"
   ]
  },
  {
   "cell_type": "markdown",
   "metadata": {},
   "source": [
    "## Guiding EDA Questions\n",
    "\n",
    "[**Descriptive Statistics**](#1)\n",
    "\n",
    "**How many utterances in total?**\n",
    "\n",
    "* There are 102,980.0 utterances in total.\n",
    "\n",
    "**What is the minimum and mazimum length of utterances after cleaning?**\n",
    "\n",
    "* The longest document has 254.0 words\n",
    "* The shortest document has 1.0 words\n",
    "\n",
    "**What is the average word count per utterance?**\n",
    "\n",
    "* The average word count is 11.2 words per utterance\n",
    "\n",
    "**What is the distribution of Utterances by length?**\n",
    "\n",
    "<img src=\"images/emotion_ai_dist_utter_length.png\" width=\"400\" height=\"400\" align=\"left\"/>\n"
   ]
  },
  {
   "cell_type": "markdown",
   "metadata": {},
   "source": [
    "[**Word Frequency**](#2)\n",
    "\n",
    "**What are the most frequent words?**\n",
    "\n",
    "<img src=\"images/emotion_ai_most_frequent_words.png\" width=\"500\" height=\"400\" align=\"left\"/>\n"
   ]
  },
  {
   "cell_type": "code",
   "execution_count": null,
   "metadata": {},
   "outputs": [],
   "source": [
    "**How does removing stop words affect the most frequent words?**\n",
    "\n",
    "**How many utterances per emotion? What does the class imbalance look like?**\n",
    "\n",
    "**How many words per emotion?**\n",
    "\n",
    "**What are the most frequent words per emotion?**"
   ]
  },
  {
   "cell_type": "markdown",
   "metadata": {},
   "source": [
    "# Package Import"
   ]
  },
  {
   "cell_type": "code",
   "execution_count": 2,
   "metadata": {
    "scrolled": true
   },
   "outputs": [
    {
     "name": "stderr",
     "output_type": "stream",
     "text": [
      "[nltk_data] Downloading package stopwords to\n",
      "[nltk_data]     /Users/matthewflavell/nltk_data...\n",
      "[nltk_data]   Package stopwords is already up-to-date!\n",
      "[nltk_data] Downloading package punkt to\n",
      "[nltk_data]     /Users/matthewflavell/nltk_data...\n",
      "[nltk_data]   Package punkt is already up-to-date!\n",
      "[nltk_data] Downloading package wordnet to\n",
      "[nltk_data]     /Users/matthewflavell/nltk_data...\n",
      "[nltk_data]   Package wordnet is already up-to-date!\n"
     ]
    }
   ],
   "source": [
    "# import external libraries\n",
    "import pandas as pd\n",
    "import numpy as np\n",
    "import matplotlib as cm\n",
    "import matplotlib.pyplot as plt\n",
    "import seaborn as sns\n",
    "\n",
    "from collections import Counter\n",
    "import re #regex\n",
    "import random\n",
    "from sklearn.feature_extraction.text import CountVectorizer\n",
    "from sklearn.feature_extraction.text import TfidfVectorizer\n",
    "from sklearn.decomposition import LatentDirichletAllocation\n",
    "\n",
    "import nltk\n",
    "from nltk.probability import FreqDist\n",
    "from nltk.corpus import stopwords\n",
    "from nltk.stem import PorterStemmer\n",
    "from nltk.tokenize import word_tokenize\n",
    "\n",
    "from sklearn.feature_extraction.text import CountVectorizer\n",
    "from sklearn.feature_extraction.text import TfidfVectorizer\n",
    "from sklearn.feature_extraction.text import TfidfTransformer\n",
    "from sklearn.decomposition import LatentDirichletAllocation\n",
    "from sklearn.metrics.pairwise import linear_kernel\n",
    "from sklearn.metrics import confusion_matrix\n",
    "from sklearn.naive_bayes import MultinomialNB\n",
    "from sklearn import metrics\n",
    "from sklearn.model_selection import train_test_split\n",
    "from sklearn.ensemble import RandomForestClassifier\n",
    "from sklearn.metrics import accuracy_score\n",
    "from sklearn.metrics import f1_score\n",
    "\n",
    "nltk.download('stopwords')\n",
    "nltk.download('punkt')\n",
    "nltk.download('wordnet')\n",
    "\n",
    "# Configure matplotlib for jupyter.\n",
    "%matplotlib inline"
   ]
  },
  {
   "cell_type": "markdown",
   "metadata": {},
   "source": [
    "# Data Import"
   ]
  },
  {
   "cell_type": "code",
   "execution_count": 4,
   "metadata": {},
   "outputs": [],
   "source": [
    "#Import cleaned data from pickle\n",
    "df = pd.read_pickle('data/dialogue_cleaned.pickle')"
   ]
  },
  {
   "cell_type": "code",
   "execution_count": 6,
   "metadata": {
    "scrolled": true
   },
   "outputs": [
    {
     "data": {
      "text/html": [
       "<div>\n",
       "<style scoped>\n",
       "    .dataframe tbody tr th:only-of-type {\n",
       "        vertical-align: middle;\n",
       "    }\n",
       "\n",
       "    .dataframe tbody tr th {\n",
       "        vertical-align: top;\n",
       "    }\n",
       "\n",
       "    .dataframe thead th {\n",
       "        text-align: right;\n",
       "    }\n",
       "</style>\n",
       "<table border=\"1\" class=\"dataframe\">\n",
       "  <thead>\n",
       "    <tr style=\"text-align: right;\">\n",
       "      <th></th>\n",
       "      <th>dialogue</th>\n",
       "      <th>topic</th>\n",
       "      <th>emotion</th>\n",
       "      <th>type</th>\n",
       "    </tr>\n",
       "  </thead>\n",
       "  <tbody>\n",
       "    <tr>\n",
       "      <td>0</td>\n",
       "      <td>The kitchen stinks.</td>\n",
       "      <td>1</td>\n",
       "      <td>2</td>\n",
       "      <td>3</td>\n",
       "    </tr>\n",
       "    <tr>\n",
       "      <td>1</td>\n",
       "      <td>I’ll throw out the garbage.</td>\n",
       "      <td>1</td>\n",
       "      <td>0</td>\n",
       "      <td>4</td>\n",
       "    </tr>\n",
       "    <tr>\n",
       "      <td>2</td>\n",
       "      <td>So Dick, how about getting some coffee for ton...</td>\n",
       "      <td>1</td>\n",
       "      <td>4</td>\n",
       "      <td>3</td>\n",
       "    </tr>\n",
       "    <tr>\n",
       "      <td>3</td>\n",
       "      <td>Coffee? I don’t honestly like that kind of stuff.</td>\n",
       "      <td>1</td>\n",
       "      <td>2</td>\n",
       "      <td>4</td>\n",
       "    </tr>\n",
       "    <tr>\n",
       "      <td>4</td>\n",
       "      <td>Come on, you can at least try a little, beside...</td>\n",
       "      <td>1</td>\n",
       "      <td>0</td>\n",
       "      <td>3</td>\n",
       "    </tr>\n",
       "  </tbody>\n",
       "</table>\n",
       "</div>"
      ],
      "text/plain": [
       "                                            dialogue  topic  emotion  type\n",
       "0                                The kitchen stinks.      1        2     3\n",
       "1                        I’ll throw out the garbage.      1        0     4\n",
       "2  So Dick, how about getting some coffee for ton...      1        4     3\n",
       "3  Coffee? I don’t honestly like that kind of stuff.      1        2     4\n",
       "4  Come on, you can at least try a little, beside...      1        0     3"
      ]
     },
     "execution_count": 6,
     "metadata": {},
     "output_type": "execute_result"
    }
   ],
   "source": [
    "df.head()"
   ]
  },
  {
   "cell_type": "markdown",
   "metadata": {},
   "source": [
    "# <span id=\"1\"></span>1. Descriptive Statistics\n",
    "#### [Return Contents](#0)"
   ]
  },
  {
   "cell_type": "markdown",
   "metadata": {},
   "source": [
    "* There are 102,980.0 utterances in total\n",
    "* The longest document has 254.0 words\n",
    "* The shortest document has 1.0 words\n",
    "* The average word count is 11.2 words per utterance"
   ]
  },
  {
   "cell_type": "code",
   "execution_count": 7,
   "metadata": {},
   "outputs": [],
   "source": [
    "# count the common length of description\n",
    "df['utter_len'] = df.dialogue.apply(lambda x: len(x.split(\" \")))"
   ]
  },
  {
   "cell_type": "code",
   "execution_count": 8,
   "metadata": {},
   "outputs": [
    {
     "data": {
      "text/html": [
       "<div>\n",
       "<style scoped>\n",
       "    .dataframe tbody tr th:only-of-type {\n",
       "        vertical-align: middle;\n",
       "    }\n",
       "\n",
       "    .dataframe tbody tr th {\n",
       "        vertical-align: top;\n",
       "    }\n",
       "\n",
       "    .dataframe thead th {\n",
       "        text-align: right;\n",
       "    }\n",
       "</style>\n",
       "<table border=\"1\" class=\"dataframe\">\n",
       "  <thead>\n",
       "    <tr style=\"text-align: right;\">\n",
       "      <th></th>\n",
       "      <th>dialogue</th>\n",
       "      <th>topic</th>\n",
       "      <th>emotion</th>\n",
       "      <th>type</th>\n",
       "      <th>utter_len</th>\n",
       "    </tr>\n",
       "  </thead>\n",
       "  <tbody>\n",
       "    <tr>\n",
       "      <td>0</td>\n",
       "      <td>The kitchen stinks.</td>\n",
       "      <td>1</td>\n",
       "      <td>2</td>\n",
       "      <td>3</td>\n",
       "      <td>3</td>\n",
       "    </tr>\n",
       "    <tr>\n",
       "      <td>1</td>\n",
       "      <td>I’ll throw out the garbage.</td>\n",
       "      <td>1</td>\n",
       "      <td>0</td>\n",
       "      <td>4</td>\n",
       "      <td>5</td>\n",
       "    </tr>\n",
       "  </tbody>\n",
       "</table>\n",
       "</div>"
      ],
      "text/plain": [
       "                      dialogue  topic  emotion  type  utter_len\n",
       "0          The kitchen stinks.      1        2     3          3\n",
       "1  I’ll throw out the garbage.      1        0     4          5"
      ]
     },
     "execution_count": 8,
     "metadata": {},
     "output_type": "execute_result"
    }
   ],
   "source": [
    "df.head(2)"
   ]
  },
  {
   "cell_type": "code",
   "execution_count": 9,
   "metadata": {
    "scrolled": true
   },
   "outputs": [
    {
     "name": "stdout",
     "output_type": "stream",
     "text": [
      "There are 102980.0 utterances in total\n",
      "The longest document has 254.0 words\n",
      "The shortest document has 1.0 words\n",
      "The average word count is 11.2 words per utterance\n"
     ]
    }
   ],
   "source": [
    "df.utter_len.describe()\n",
    "\n",
    "print(\"There are {} utterances in total\".format(df.utter_len.describe()['count']))\n",
    "print(\"The longest document has {} words\".format(df.utter_len.describe()['max']))\n",
    "print(\"The shortest document has {} words\".format(df.utter_len.describe()['min']))\n",
    "print(\"The average word count is {} words per utterance\".format(round(df.utter_len.describe()['mean'], 1)))"
   ]
  },
  {
   "cell_type": "code",
   "execution_count": 10,
   "metadata": {},
   "outputs": [
    {
     "data": {
      "text/plain": [
       "Text(0, 0.5, 'Number of utterances')"
      ]
     },
     "execution_count": 10,
     "metadata": {},
     "output_type": "execute_result"
    },
    {
     "data": {
      "image/png": "[encoded data removed]",
      "text/plain": [
       "<Figure size 432x288 with 1 Axes>"
      ]
     },
     "metadata": {
      "needs_background": "light"
     },
     "output_type": "display_data"
    }
   ],
   "source": [
    "# examining the distribution of the description lengths\n",
    "df.utter_len.hist(bins = 140)\n",
    "plt.xlim([0, 120])\n",
    "plt.title('Distribution of Utterances by Length')\n",
    "plt.xlabel('Length of utterance')\n",
    "plt.ylabel('Number of utterances')"
   ]
  },
  {
   "cell_type": "markdown",
   "metadata": {},
   "source": [
    "# <span id=\"1\"></span>2. Word Frequency\n",
    "#### [Return Contents](#0)"
   ]
  },
  {
   "cell_type": "markdown",
   "metadata": {},
   "source": [
    "## Identify The Most Frequent Words"
   ]
  },
  {
   "cell_type": "markdown",
   "metadata": {},
   "source": [
    "There are a lot of stop words in the list of most frequent words in thedescriptions.  We will need to remove the stop words to get closer to isolating the most relevant keywords in the descriptions."
   ]
  },
  {
   "cell_type": "code",
   "execution_count": 11,
   "metadata": {},
   "outputs": [],
   "source": [
    "# getting the word frequency of the original utterance\n",
    "word_freq = df.dialogue.str.split(expand=True).stack().value_counts()"
   ]
  },
  {
   "cell_type": "code",
   "execution_count": 12,
   "metadata": {
    "scrolled": true
   },
   "outputs": [
    {
     "data": {
      "text/plain": [
       "I       40129\n",
       "the     35173\n",
       "you     33198\n",
       "to      31943\n",
       "a       26785\n",
       "and     14910\n",
       "is      13630\n",
       "of      12978\n",
       "in      11860\n",
       "for     11848\n",
       "have    11543\n",
       "it       9107\n",
       "your     8878\n",
       "that     8077\n",
       "are      7998\n",
       "be       7336\n",
       "my       6961\n",
       "do       6959\n",
       "I’m      6677\n",
       "like     6548\n",
       "dtype: int64"
      ]
     },
     "execution_count": 12,
     "metadata": {},
     "output_type": "execute_result"
    }
   ],
   "source": [
    "word_freq[:20]"
   ]
  },
  {
   "cell_type": "code",
   "execution_count": 14,
   "metadata": {
    "scrolled": true
   },
   "outputs": [
    {
     "data": {
      "text/plain": [
       "Text(0, 0.5, 'Frequency')"
      ]
     },
     "execution_count": 14,
     "metadata": {},
     "output_type": "execute_result"
    },
    {
     "data": {
      "image/png": "[encoded data removed]",
      "text/plain": [
       "<Figure size 720x720 with 1 Axes>"
      ]
     },
     "metadata": {
      "needs_background": "light"
     },
     "output_type": "display_data"
    }
   ],
   "source": [
    "word_freq_top_20 = word_freq[:20]\n",
    "word_freq_top_20 = dict(word_freq_top_20)\n",
    "plt.figure(figsize=(10,10))\n",
    "plt.bar(range(len(word_freq_top_20)), word_freq_top_20.values(), tick_label=list(word_freq_top_20.keys()))\n",
    "plt.title('Most Frequent Words')\n",
    "plt.xlabel('Words')\n",
    "plt.ylabel('Frequency')"
   ]
  },
  {
   "cell_type": "code",
   "execution_count": 40,
   "metadata": {},
   "outputs": [],
   "source": [
    "# getting the word frequency of the original utterance\n",
    "word_freq_clean = df.utter_clean.str.split(expand=True).stack().value_counts()"
   ]
  },
  {
   "cell_type": "code",
   "execution_count": 41,
   "metadata": {},
   "outputs": [
    {
     "data": {
      "text/plain": [
       "like      7121\n",
       "yes       6238\n",
       "well      5157\n",
       "im        4775\n",
       "think     4672\n",
       "good      4550\n",
       "know      4349\n",
       "get       4265\n",
       "would     4196\n",
       "go        3949\n",
       "one       3700\n",
       "dont      3675\n",
       "see       3674\n",
       "right     3620\n",
       "really    3516\n",
       "want      3302\n",
       "please    3266\n",
       "time      3248\n",
       "oh        3065\n",
       "thats     2953\n",
       "dtype: int64"
      ]
     },
     "execution_count": 41,
     "metadata": {},
     "output_type": "execute_result"
    }
   ],
   "source": [
    "word_freq_clean[:20]"
   ]
  },
  {
   "cell_type": "code",
   "execution_count": 48,
   "metadata": {},
   "outputs": [
    {
     "name": "stdout",
     "output_type": "stream",
     "text": [
      "[{'mightn', 'those', 'about', \"hasn't\", 'these', 'i', 'her', 'themselves', 'myself', 'yourself', 'can', 'herself', 'down', 'because', 'ain', \"she's\", 'he', 'his', 'and', 'why', 'wouldn', 'on', 'below', 'yourselves', 'itself', 'same', 'all', 'few', 'having', 'she', 'am', 'will', 'does', \"you'll\", 'did', 'which', 'couldn', \"you've\", 'own', 'you', 'yours', 'its', 'off', 'y', 'at', 'from', 'this', 's', \"mustn't\", 'some', 'just', 'haven', 'as', 'such', 'now', \"haven't\", 'not', 'of', 'doesn', 'isn', 'their', 'both', \"didn't\", 'that', 'above', 'other', 'needn', 'further', 'no', \"couldn't\", 'during', 'me', 'doing', 'theirs', \"mightn't\", 'shan', 'after', \"doesn't\", 'wasn', 'shouldn', \"shan't\", 'm', 'aren', 'where', 've', 'nor', 'being', 'but', 'are', 'for', 'my', 'by', 'through', \"needn't\", 'is', 'when', \"you'd\", 'more', 're', 'a', \"should've\", 'while', 'there', 'do', 'over', 'him', 'in', 'd', 'here', \"weren't\", 'any', 'your', 'don', 'was', 'them', 'out', 'again', 'weren', 'than', 'be', 'very', 'ours', 'what', 'himself', 'hasn', 'they', \"don't\", 'we', 'mustn', 'most', \"won't\", \"hadn't\", \"you're\", 'to', 'until', 'ma', 'before', 'been', \"wouldn't\", 'hers', 'too', 'with', 'into', 'an', \"wasn't\", 't', 'our', \"shouldn't\", 'each', 'if', 'once', 'or', 'has', 'it', 'how', 'whom', 'up', 'll', 'between', \"isn't\", 'under', 'had', 'didn', 'who', \"that'll\", 'hadn', 'won', \"aren't\", 'so', 'against', 'only', 'should', \"it's\", 'were', 'then', 'ourselves', 'the', 'o', 'have'}]\n"
     ]
    }
   ],
   "source": [
    "stop_words=set(stopwords.words(\"english\"))\n",
    "print(stop_words)"
   ]
  },
  {
   "cell_type": "code",
   "execution_count": null,
   "metadata": {},
   "outputs": [],
   "source": []
  },
  {
   "cell_type": "markdown",
   "metadata": {},
   "source": [
    "## Compare Original with Cleaned"
   ]
  },
  {
   "cell_type": "markdown",
   "metadata": {},
   "source": [
    "After comparing the original utterance with the cleaned version, we may want to be more selective with our stop words than using the standard stopwords included in NLTK.  Some of the utterances will not retain the emotional meaning if we are too hasty.\n",
    "\n",
    "For example, "
   ]
  },
  {
   "cell_type": "code",
   "execution_count": 46,
   "metadata": {
    "scrolled": false
   },
   "outputs": [
    {
     "data": {
      "text/html": [
       "<div>\n",
       "<style scoped>\n",
       "    .dataframe tbody tr th:only-of-type {\n",
       "        vertical-align: middle;\n",
       "    }\n",
       "\n",
       "    .dataframe tbody tr th {\n",
       "        vertical-align: top;\n",
       "    }\n",
       "\n",
       "    .dataframe thead th {\n",
       "        text-align: right;\n",
       "    }\n",
       "</style>\n",
       "<table border=\"1\" class=\"dataframe\">\n",
       "  <thead>\n",
       "    <tr style=\"text-align: right;\">\n",
       "      <th></th>\n",
       "      <th>dialogue</th>\n",
       "      <th>topic</th>\n",
       "      <th>emotion</th>\n",
       "      <th>type</th>\n",
       "      <th>utter_clean</th>\n",
       "    </tr>\n",
       "  </thead>\n",
       "  <tbody>\n",
       "    <tr>\n",
       "      <td>0</td>\n",
       "      <td>The kitchen stinks .</td>\n",
       "      <td>1</td>\n",
       "      <td>2</td>\n",
       "      <td>3</td>\n",
       "      <td>kitchen stinks</td>\n",
       "    </tr>\n",
       "    <tr>\n",
       "      <td>1</td>\n",
       "      <td>I'll throw out the garbage .</td>\n",
       "      <td>1</td>\n",
       "      <td>0</td>\n",
       "      <td>4</td>\n",
       "      <td>ill throw garbage</td>\n",
       "    </tr>\n",
       "    <tr>\n",
       "      <td>2</td>\n",
       "      <td>So Dick , how about getting some coffee for to...</td>\n",
       "      <td>1</td>\n",
       "      <td>4</td>\n",
       "      <td>3</td>\n",
       "      <td>dick getting coffee tonight</td>\n",
       "    </tr>\n",
       "    <tr>\n",
       "      <td>3</td>\n",
       "      <td>Coffee ? I don ’ t honestly like that kind of...</td>\n",
       "      <td>1</td>\n",
       "      <td>2</td>\n",
       "      <td>4</td>\n",
       "      <td>coffee honestly like kind stuff</td>\n",
       "    </tr>\n",
       "    <tr>\n",
       "      <td>4</td>\n",
       "      <td>Come on , you can at least try a little , bes...</td>\n",
       "      <td>1</td>\n",
       "      <td>0</td>\n",
       "      <td>3</td>\n",
       "      <td>come least try little besides cigarette</td>\n",
       "    </tr>\n",
       "    <tr>\n",
       "      <td>5</td>\n",
       "      <td>What ’ s wrong with that ? Cigarette is the t...</td>\n",
       "      <td>1</td>\n",
       "      <td>1</td>\n",
       "      <td>1</td>\n",
       "      <td>wrong cigarette thing go crazy</td>\n",
       "    </tr>\n",
       "    <tr>\n",
       "      <td>6</td>\n",
       "      <td>Not for me , Dick .</td>\n",
       "      <td>1</td>\n",
       "      <td>0</td>\n",
       "      <td>1</td>\n",
       "      <td>dick</td>\n",
       "    </tr>\n",
       "    <tr>\n",
       "      <td>7</td>\n",
       "      <td>Are things still going badly with your housegu...</td>\n",
       "      <td>1</td>\n",
       "      <td>0</td>\n",
       "      <td>2</td>\n",
       "      <td>things still going badly houseguest</td>\n",
       "    </tr>\n",
       "    <tr>\n",
       "      <td>8</td>\n",
       "      <td>Getting worse . Now he ’ s eating me out of h...</td>\n",
       "      <td>1</td>\n",
       "      <td>1</td>\n",
       "      <td>1</td>\n",
       "      <td>getting worse eating house home tried talking ...</td>\n",
       "    </tr>\n",
       "    <tr>\n",
       "      <td>9</td>\n",
       "      <td>Leo , I really think you ’ re beating around ...</td>\n",
       "      <td>1</td>\n",
       "      <td>0</td>\n",
       "      <td>3</td>\n",
       "      <td>leo really think beating around bush guy know ...</td>\n",
       "    </tr>\n",
       "  </tbody>\n",
       "</table>\n",
       "</div>"
      ],
      "text/plain": [
       "                                            dialogue  topic  emotion  type  \\\n",
       "0                              The kitchen stinks .       1        2     3   \n",
       "1                      I'll throw out the garbage .       1        0     4   \n",
       "2  So Dick , how about getting some coffee for to...      1        4     3   \n",
       "3   Coffee ? I don ’ t honestly like that kind of...      1        2     4   \n",
       "4   Come on , you can at least try a little , bes...      1        0     3   \n",
       "5   What ’ s wrong with that ? Cigarette is the t...      1        1     1   \n",
       "6                               Not for me , Dick .       1        0     1   \n",
       "7  Are things still going badly with your housegu...      1        0     2   \n",
       "8   Getting worse . Now he ’ s eating me out of h...      1        1     1   \n",
       "9   Leo , I really think you ’ re beating around ...      1        0     3   \n",
       "\n",
       "                                         utter_clean  \n",
       "0                                     kitchen stinks  \n",
       "1                                  ill throw garbage  \n",
       "2                        dick getting coffee tonight  \n",
       "3                    coffee honestly like kind stuff  \n",
       "4            come least try little besides cigarette  \n",
       "5                     wrong cigarette thing go crazy  \n",
       "6                                               dick  \n",
       "7                things still going badly houseguest  \n",
       "8  getting worse eating house home tried talking ...  \n",
       "9  leo really think beating around bush guy know ...  "
      ]
     },
     "execution_count": 46,
     "metadata": {},
     "output_type": "execute_result"
    }
   ],
   "source": [
    "df.head(10)"
   ]
  },
  {
   "cell_type": "code",
   "execution_count": null,
   "metadata": {},
   "outputs": [],
   "source": []
  },
  {
   "cell_type": "code",
   "execution_count": null,
   "metadata": {},
   "outputs": [],
   "source": []
  },
  {
   "cell_type": "markdown",
   "metadata": {},
   "source": [
    "## Remove Stop Words and Compare Descriptions"
   ]
  },
  {
   "cell_type": "markdown",
   "metadata": {},
   "source": [
    "After removing stop words, the descriptions are closer to containing only the key words that are most relevant for each movie."
   ]
  },
  {
   "cell_type": "code",
   "execution_count": 376,
   "metadata": {},
   "outputs": [],
   "source": [
    "# first of all, let us remove some useless words to see how our documents change\n",
    "from nltk.corpus import stopwords \n",
    "from nltk.tokenize import word_tokenize \n",
    "stop_words = set(stopwords.words('english')) "
   ]
  },
  {
   "cell_type": "code",
   "execution_count": 377,
   "metadata": {},
   "outputs": [
    {
     "data": {
      "text/html": [
       "<div>\n",
       "<style scoped>\n",
       "    .dataframe tbody tr th:only-of-type {\n",
       "        vertical-align: middle;\n",
       "    }\n",
       "\n",
       "    .dataframe tbody tr th {\n",
       "        vertical-align: top;\n",
       "    }\n",
       "\n",
       "    .dataframe thead th {\n",
       "        text-align: right;\n",
       "    }\n",
       "</style>\n",
       "<table border=\"1\" class=\"dataframe\">\n",
       "  <thead>\n",
       "    <tr style=\"text-align: right;\">\n",
       "      <th></th>\n",
       "      <th>movieId</th>\n",
       "      <th>imdbId</th>\n",
       "      <th>tmdbId</th>\n",
       "      <th>desc</th>\n",
       "      <th>desc_leng</th>\n",
       "      <th>desc_cleaned</th>\n",
       "      <th>without_stopwords</th>\n",
       "    </tr>\n",
       "  </thead>\n",
       "  <tbody>\n",
       "    <tr>\n",
       "      <td>0</td>\n",
       "      <td>1</td>\n",
       "      <td>114709</td>\n",
       "      <td>862</td>\n",
       "      <td>Led by Woody, Andy's toys live happily in his ...</td>\n",
       "      <td>50</td>\n",
       "      <td>led by woody, andy's toys live happily in his ...</td>\n",
       "      <td>led woody, andy's toys live happily room andy'...</td>\n",
       "    </tr>\n",
       "    <tr>\n",
       "      <td>1</td>\n",
       "      <td>2</td>\n",
       "      <td>113497</td>\n",
       "      <td>8844</td>\n",
       "      <td>When siblings Judy and Peter discover an encha...</td>\n",
       "      <td>67</td>\n",
       "      <td>when siblings judy and peter discover an encha...</td>\n",
       "      <td>siblings judy peter discover enchanted board g...</td>\n",
       "    </tr>\n",
       "    <tr>\n",
       "      <td>2</td>\n",
       "      <td>3</td>\n",
       "      <td>113228</td>\n",
       "      <td>15602</td>\n",
       "      <td>A family wedding reignites the ancient feud be...</td>\n",
       "      <td>56</td>\n",
       "      <td>a family wedding reignites the ancient feud be...</td>\n",
       "      <td>family wedding reignites ancient feud next-doo...</td>\n",
       "    </tr>\n",
       "    <tr>\n",
       "      <td>3</td>\n",
       "      <td>4</td>\n",
       "      <td>114885</td>\n",
       "      <td>31357</td>\n",
       "      <td>Cheated on, mistreated and stepped on, the wom...</td>\n",
       "      <td>45</td>\n",
       "      <td>cheated on, mistreated and stepped on, the wom...</td>\n",
       "      <td>cheated on, mistreated stepped on, women holdi...</td>\n",
       "    </tr>\n",
       "    <tr>\n",
       "      <td>4</td>\n",
       "      <td>5</td>\n",
       "      <td>113041</td>\n",
       "      <td>11862</td>\n",
       "      <td>Just when George Banks has recovered from his ...</td>\n",
       "      <td>59</td>\n",
       "      <td>just when george banks has recovered from his ...</td>\n",
       "      <td>george banks recovered daughter's wedding, rec...</td>\n",
       "    </tr>\n",
       "  </tbody>\n",
       "</table>\n",
       "</div>"
      ],
      "text/plain": [
       "   movieId  imdbId  tmdbId                                               desc  \\\n",
       "0        1  114709     862  Led by Woody, Andy's toys live happily in his ...   \n",
       "1        2  113497    8844  When siblings Judy and Peter discover an encha...   \n",
       "2        3  113228   15602  A family wedding reignites the ancient feud be...   \n",
       "3        4  114885   31357  Cheated on, mistreated and stepped on, the wom...   \n",
       "4        5  113041   11862  Just when George Banks has recovered from his ...   \n",
       "\n",
       "   desc_leng                                       desc_cleaned  \\\n",
       "0         50  led by woody, andy's toys live happily in his ...   \n",
       "1         67  when siblings judy and peter discover an encha...   \n",
       "2         56  a family wedding reignites the ancient feud be...   \n",
       "3         45  cheated on, mistreated and stepped on, the wom...   \n",
       "4         59  just when george banks has recovered from his ...   \n",
       "\n",
       "                                   without_stopwords  \n",
       "0  led woody, andy's toys live happily room andy'...  \n",
       "1  siblings judy peter discover enchanted board g...  \n",
       "2  family wedding reignites ancient feud next-doo...  \n",
       "3  cheated on, mistreated stepped on, women holdi...  \n",
       "4  george banks recovered daughter's wedding, rec...  "
      ]
     },
     "execution_count": 377,
     "metadata": {},
     "output_type": "execute_result"
    }
   ],
   "source": [
    "df['desc_cleaned'] = df.desc.apply(lambda x:x.lower())\n",
    "df['without_stopwords'] = df['desc_cleaned'].apply(lambda x: ' '.join([word for word in x.split() if word not in (stop_words)]))\n",
    "df.head()"
   ]
  },
  {
   "cell_type": "code",
   "execution_count": 378,
   "metadata": {
    "scrolled": true
   },
   "outputs": [
    {
     "name": "stdout",
     "output_type": "stream",
     "text": [
      "led woody, andy's toys live happily room andy's birthday brings buzz lightyear onto scene. afraid losing place andy's heart, woody plots buzz. circumstances separate buzz woody owner, duo eventually learns put aside differences.\n",
      "------------------------\n",
      "Led by Woody, Andy's toys live happily in his room until Andy's birthday brings Buzz Lightyear onto the scene. Afraid of losing his place in Andy's heart, Woody plots against Buzz. But when circumstances separate Buzz and Woody from their owner, the duo eventually learns to put aside their differences.\n"
     ]
    }
   ],
   "source": [
    "# comparing description with stopwords and description without stopwords\n",
    "print(df.without_stopwords[0])\n",
    "print('------------------------')\n",
    "print(df.desc[0])"
   ]
  },
  {
   "cell_type": "markdown",
   "metadata": {},
   "source": [
    "# Extract Genre Names and Include in the Description"
   ]
  },
  {
   "cell_type": "markdown",
   "metadata": {},
   "source": [
    "After testing the model based on the cleaned descriptions, we decided to improve the model's performance by extracting the genres from each movie and including those genre names in the movie description.  This did improve the results slightly."
   ]
  },
  {
   "cell_type": "code",
   "execution_count": 380,
   "metadata": {},
   "outputs": [],
   "source": [
    "df = pd.merge(df, lens_deets, on='movieId')"
   ]
  },
  {
   "cell_type": "code",
   "execution_count": 381,
   "metadata": {},
   "outputs": [
    {
     "data": {
      "text/html": [
       "<div>\n",
       "<style scoped>\n",
       "    .dataframe tbody tr th:only-of-type {\n",
       "        vertical-align: middle;\n",
       "    }\n",
       "\n",
       "    .dataframe tbody tr th {\n",
       "        vertical-align: top;\n",
       "    }\n",
       "\n",
       "    .dataframe thead th {\n",
       "        text-align: right;\n",
       "    }\n",
       "</style>\n",
       "<table border=\"1\" class=\"dataframe\">\n",
       "  <thead>\n",
       "    <tr style=\"text-align: right;\">\n",
       "      <th></th>\n",
       "      <th>movieId</th>\n",
       "      <th>imdbId</th>\n",
       "      <th>tmdbId</th>\n",
       "      <th>desc</th>\n",
       "      <th>desc_leng</th>\n",
       "      <th>desc_cleaned</th>\n",
       "      <th>without_stopwords</th>\n",
       "      <th>title</th>\n",
       "      <th>genres</th>\n",
       "    </tr>\n",
       "  </thead>\n",
       "  <tbody>\n",
       "    <tr>\n",
       "      <td>0</td>\n",
       "      <td>1</td>\n",
       "      <td>114709</td>\n",
       "      <td>862</td>\n",
       "      <td>Led by Woody, Andy's toys live happily in his ...</td>\n",
       "      <td>50</td>\n",
       "      <td>led woody andys toys live happily room andys b...</td>\n",
       "      <td>led woody, andy's toys live happily room andy'...</td>\n",
       "      <td>Toy Story (1995)</td>\n",
       "      <td>Adventure|Animation|Children|Comedy|Fantasy</td>\n",
       "    </tr>\n",
       "    <tr>\n",
       "      <td>1</td>\n",
       "      <td>2</td>\n",
       "      <td>113497</td>\n",
       "      <td>8844</td>\n",
       "      <td>When siblings Judy and Peter discover an encha...</td>\n",
       "      <td>67</td>\n",
       "      <td>siblings judy peter discover enchanted board g...</td>\n",
       "      <td>siblings judy peter discover enchanted board g...</td>\n",
       "      <td>Jumanji (1995)</td>\n",
       "      <td>Adventure|Children|Fantasy</td>\n",
       "    </tr>\n",
       "    <tr>\n",
       "      <td>2</td>\n",
       "      <td>3</td>\n",
       "      <td>113228</td>\n",
       "      <td>15602</td>\n",
       "      <td>A family wedding reignites the ancient feud be...</td>\n",
       "      <td>56</td>\n",
       "      <td>family wedding reignites ancient feud nextdoor...</td>\n",
       "      <td>family wedding reignites ancient feud next-doo...</td>\n",
       "      <td>Grumpier Old Men (1995)</td>\n",
       "      <td>Comedy|Romance</td>\n",
       "    </tr>\n",
       "    <tr>\n",
       "      <td>3</td>\n",
       "      <td>4</td>\n",
       "      <td>114885</td>\n",
       "      <td>31357</td>\n",
       "      <td>Cheated on, mistreated and stepped on, the wom...</td>\n",
       "      <td>45</td>\n",
       "      <td>cheated mistreated stepped women holding breat...</td>\n",
       "      <td>cheated on, mistreated stepped on, women holdi...</td>\n",
       "      <td>Waiting to Exhale (1995)</td>\n",
       "      <td>Comedy|Drama|Romance</td>\n",
       "    </tr>\n",
       "    <tr>\n",
       "      <td>4</td>\n",
       "      <td>5</td>\n",
       "      <td>113041</td>\n",
       "      <td>11862</td>\n",
       "      <td>Just when George Banks has recovered from his ...</td>\n",
       "      <td>59</td>\n",
       "      <td>george banks recovered daughters wedding recei...</td>\n",
       "      <td>george banks recovered daughter's wedding, rec...</td>\n",
       "      <td>Father of the Bride Part II (1995)</td>\n",
       "      <td>Comedy</td>\n",
       "    </tr>\n",
       "  </tbody>\n",
       "</table>\n",
       "</div>"
      ],
      "text/plain": [
       "   movieId  imdbId  tmdbId                                               desc  \\\n",
       "0        1  114709     862  Led by Woody, Andy's toys live happily in his ...   \n",
       "1        2  113497    8844  When siblings Judy and Peter discover an encha...   \n",
       "2        3  113228   15602  A family wedding reignites the ancient feud be...   \n",
       "3        4  114885   31357  Cheated on, mistreated and stepped on, the wom...   \n",
       "4        5  113041   11862  Just when George Banks has recovered from his ...   \n",
       "\n",
       "   desc_leng                                       desc_cleaned  \\\n",
       "0         50  led woody andys toys live happily room andys b...   \n",
       "1         67  siblings judy peter discover enchanted board g...   \n",
       "2         56  family wedding reignites ancient feud nextdoor...   \n",
       "3         45  cheated mistreated stepped women holding breat...   \n",
       "4         59  george banks recovered daughters wedding recei...   \n",
       "\n",
       "                                   without_stopwords  \\\n",
       "0  led woody, andy's toys live happily room andy'...   \n",
       "1  siblings judy peter discover enchanted board g...   \n",
       "2  family wedding reignites ancient feud next-doo...   \n",
       "3  cheated on, mistreated stepped on, women holdi...   \n",
       "4  george banks recovered daughter's wedding, rec...   \n",
       "\n",
       "                                title  \\\n",
       "0                    Toy Story (1995)   \n",
       "1                      Jumanji (1995)   \n",
       "2             Grumpier Old Men (1995)   \n",
       "3            Waiting to Exhale (1995)   \n",
       "4  Father of the Bride Part II (1995)   \n",
       "\n",
       "                                        genres  \n",
       "0  Adventure|Animation|Children|Comedy|Fantasy  \n",
       "1                   Adventure|Children|Fantasy  \n",
       "2                               Comedy|Romance  \n",
       "3                         Comedy|Drama|Romance  \n",
       "4                                       Comedy  "
      ]
     },
     "execution_count": 381,
     "metadata": {},
     "output_type": "execute_result"
    }
   ],
   "source": [
    "df.head()"
   ]
  },
  {
   "cell_type": "code",
   "execution_count": 382,
   "metadata": {},
   "outputs": [],
   "source": [
    "df['genres'] = df['genres'].apply(clean_text)"
   ]
  },
  {
   "cell_type": "code",
   "execution_count": 383,
   "metadata": {},
   "outputs": [],
   "source": [
    "df['desc_cleaned'] = df['desc_cleaned'] + \" | \" + df['genres']"
   ]
  },
  {
   "cell_type": "code",
   "execution_count": 384,
   "metadata": {},
   "outputs": [
    {
     "data": {
      "text/plain": [
       "'led woody andys toys live happily room andys birthday brings buzz lightyear onto scene afraid losing place andys heart woody plots buzz circumstances separate buzz woody owner duo eventually learns put aside differences | adventure animation children comedy fantasy'"
      ]
     },
     "execution_count": 384,
     "metadata": {},
     "output_type": "execute_result"
    }
   ],
   "source": [
    "# compare the cleaned version of description\n",
    "df['desc_cleaned'][0]"
   ]
  },
  {
   "cell_type": "code",
   "execution_count": 385,
   "metadata": {},
   "outputs": [],
   "source": [
    "df['desc_cleaned'] = df['desc_cleaned'].apply(clean_text)"
   ]
  },
  {
   "cell_type": "code",
   "execution_count": 386,
   "metadata": {},
   "outputs": [
    {
     "data": {
      "text/plain": [
       "'led woody andys toys live happily room andys birthday brings buzz lightyear onto scene afraid losing place andys heart woody plots buzz circumstances separate buzz woody owner duo eventually learns put aside differences adventure animation children comedy fantasy'"
      ]
     },
     "execution_count": 386,
     "metadata": {},
     "output_type": "execute_result"
    }
   ],
   "source": [
    "df['desc_cleaned'][0]"
   ]
  },
  {
   "cell_type": "code",
   "execution_count": 387,
   "metadata": {},
   "outputs": [
    {
     "data": {
      "text/plain": [
       "<BarContainer object of 20 artists>"
      ]
     },
     "execution_count": 387,
     "metadata": {},
     "output_type": "execute_result"
    },
    {
     "data": {
      "image/png": "[encoded data removed]",
      "text/plain": [
       "<Figure size 936x936 with 1 Axes>"
      ]
     },
     "metadata": {
      "needs_background": "light"
     },
     "output_type": "display_data"
    }
   ],
   "source": [
    "word_freq_clean = df.desc_cleaned.str.split(expand=True).stack().value_counts()\n",
    "word_freq_clean[:20]\n",
    "plt.figure(figsize=(13,13))\n",
    "plt.bar(range(len(word_freq_clean[:20])), dict(word_freq_clean[:20]).values(), tick_label=list(dict(word_freq_clean[:20]).keys()))"
   ]
  },
  {
   "cell_type": "markdown",
   "metadata": {},
   "source": [
    "# <span id=\"3\"></span>3. Building Recommendation Engine\n",
    "#### [Return Contents](#0)"
   ]
  },
  {
   "cell_type": "code",
   "execution_count": 388,
   "metadata": {},
   "outputs": [],
   "source": [
    "df.set_index('title', inplace = True)"
   ]
  },
  {
   "cell_type": "code",
   "execution_count": 400,
   "metadata": {},
   "outputs": [
    {
     "data": {
      "text/plain": [
       "'led woody andys toys live happily room andys birthday brings buzz lightyear onto scene afraid losing place andys heart woody plots buzz circumstances separate buzz woody owner duo eventually learns put aside differences adventure animation children comedy fantasy'"
      ]
     },
     "execution_count": 400,
     "metadata": {},
     "output_type": "execute_result"
    }
   ],
   "source": [
    "df['desc_cleaned'][0]"
   ]
  },
  {
   "cell_type": "markdown",
   "metadata": {},
   "source": [
    "We calculated the cosine similarity between descriptions by using the TF-IDF Vectorizer."
   ]
  },
  {
   "cell_type": "code",
   "execution_count": 389,
   "metadata": {},
   "outputs": [
    {
     "name": "stdout",
     "output_type": "stream",
     "text": [
      "[[1.00000000e+00 8.39456921e-03 4.75486529e-04 ... 3.98869606e-03\n",
      "  0.00000000e+00 6.80819529e-03]\n",
      " [8.39456921e-03 1.00000000e+00 5.52109710e-03 ... 4.94571179e-03\n",
      "  0.00000000e+00 1.53948610e-03]\n",
      " [4.75486529e-04 5.52109710e-03 1.00000000e+00 ... 2.91077410e-03\n",
      "  3.34296242e-03 0.00000000e+00]\n",
      " ...\n",
      " [3.98869606e-03 4.94571179e-03 2.91077410e-03 ... 1.00000000e+00\n",
      "  0.00000000e+00 5.62537299e-03]\n",
      " [0.00000000e+00 0.00000000e+00 3.34296242e-03 ... 0.00000000e+00\n",
      "  1.00000000e+00 0.00000000e+00]\n",
      " [6.80819529e-03 1.53948610e-03 0.00000000e+00 ... 5.62537299e-03\n",
      "  0.00000000e+00 1.00000000e+00]]\n"
     ]
    }
   ],
   "source": [
    "# calculate cosine similarity between documents - we use tfidf\n",
    "from sklearn.metrics.pairwise import cosine_similarity\n",
    "tf = TfidfVectorizer(analyzer='word', ngram_range=(1, 3), min_df=0, stop_words='english')\n",
    "tfidf_matrix = tf.fit_transform(df['desc_cleaned'])\n",
    "similarity_matrix = cosine_similarity(tfidf_matrix, tfidf_matrix)\n",
    "print(cosine_similarity(tfidf_matrix, tfidf_matrix))"
   ]
  },
  {
   "cell_type": "markdown",
   "metadata": {},
   "source": [
    "We saved the cosine similarity matrix for use in other hybrid systems."
   ]
  },
  {
   "cell_type": "code",
   "execution_count": 401,
   "metadata": {},
   "outputs": [],
   "source": [
    "import pickle\n",
    "filename = 'cosine_sim_matrix.pickle'\n",
    "pickle.dump(similarity_matrix, open(filename, 'wb'))"
   ]
  },
  {
   "cell_type": "code",
   "execution_count": 390,
   "metadata": {},
   "outputs": [],
   "source": [
    "indices = pd.Series(df.index)"
   ]
  },
  {
   "cell_type": "code",
   "execution_count": 391,
   "metadata": {},
   "outputs": [],
   "source": [
    "def recommendations(name, similarity_matrix = similarity_matrix):\n",
    "    \n",
    "    recommended_movies = []\n",
    "    \n",
    "    # getting the index of the movie that matches the name\n",
    "    idx = indices[indices == name].index[0]\n",
    "\n",
    "    # creating a Series with the similarity scores in descending order\n",
    "    score_series = pd.Series(similarity_matrix[idx]).sort_values(ascending = False)\n",
    "\n",
    "    # getting the indexes of the 10 most similar movies except itself\n",
    "    top_10_indexes = list(score_series.iloc[1:11].index)\n",
    "    \n",
    "    #Cross reference top n indexes with sleeping giants (and/or giants)\n",
    "    \n",
    "    # populating the list with the names of the top 10 matching movies\n",
    "    for i in top_10_indexes:\n",
    "        recommended_movies.append(list(df.index)[i])\n",
    "        \n",
    "    return recommended_movies"
   ]
  },
  {
   "cell_type": "code",
   "execution_count": 392,
   "metadata": {},
   "outputs": [
    {
     "data": {
      "text/plain": [
       "Index(['Toy Story (1995)', 'Jumanji (1995)', 'Grumpier Old Men (1995)',\n",
       "       'Waiting to Exhale (1995)', 'Father of the Bride Part II (1995)',\n",
       "       'Heat (1995)', 'Sabrina (1995)', 'Tom and Huck (1995)',\n",
       "       'Sudden Death (1995)', 'GoldenEye (1995)',\n",
       "       ...\n",
       "       'Gintama (2017)', 'Gintama: The Movie (2010)',\n",
       "       'anohana: The Flower We Saw That Day - The Movie (2013)',\n",
       "       'Silver Spoon (2014)', 'Love Live! The School Idol Movie (2015)',\n",
       "       'Jon Stewart Has Left the Building (2015)',\n",
       "       'Black Butler: Book of the Atlantic (2017)',\n",
       "       'No Game No Life: Zero (2017)', 'Flint (2017)',\n",
       "       'Bungo Stray Dogs: Dead Apple (2018)'],\n",
       "      dtype='object', name='title', length=9584)"
      ]
     },
     "execution_count": 392,
     "metadata": {},
     "output_type": "execute_result"
    }
   ],
   "source": [
    "# get the list of optional names \n",
    "df.index"
   ]
  },
  {
   "cell_type": "markdown",
   "metadata": {},
   "source": [
    "## Model Testing"
   ]
  },
  {
   "cell_type": "markdown",
   "metadata": {},
   "source": [
    "Input your favorite movie from the list of almost 10,000 films and get a list of the 10 most similar movies based on their descriptions."
   ]
  },
  {
   "cell_type": "code",
   "execution_count": 397,
   "metadata": {},
   "outputs": [
    {
     "name": "stdout",
     "output_type": "stream",
     "text": [
      "what types of movies would you like me to recommend for ya?Toy Story (1995)\n"
     ]
    },
    {
     "data": {
      "text/plain": [
       "['Toy Story 2 (1999)',\n",
       " 'Toy Story 3 (2010)',\n",
       " \"Child's Play 2 (1990)\",\n",
       " 'Wild, The (2006)',\n",
       " 'Turbo (2013)',\n",
       " 'Monsters, Inc. (2001)',\n",
       " 'The Good Dinosaur (2015)',\n",
       " 'Malice (1993)',\n",
       " 'Rebel Without a Cause (1955)',\n",
       " 'Condorman (1981)']"
      ]
     },
     "execution_count": 397,
     "metadata": {},
     "output_type": "execute_result"
    }
   ],
   "source": [
    "recomendations = input(\"what types of movies would you like me to recommend for ya?\")\n",
    "recommendations(recomendations)"
   ]
  },
  {
   "cell_type": "markdown",
   "metadata": {},
   "source": [
    "We can improve this system by including conditional statements in the recommendation function to filter out inapproproate or unrelated recommendations based on their genre, release year, and suitability rating."
   ]
  },
  {
   "cell_type": "code",
   "execution_count": null,
   "metadata": {},
   "outputs": [],
   "source": []
  }
 ],
 "metadata": {
  "kernelspec": {
   "display_name": "Python 3",
   "language": "python",
   "name": "python3"
  },
  "language_info": {
   "codemirror_mode": {
    "name": "ipython",
    "version": 3
   },
   "file_extension": ".py",
   "mimetype": "text/x-python",
   "name": "python",
   "nbconvert_exporter": "python",
   "pygments_lexer": "ipython3",
   "version": "3.7.4"
  },
  "toc": {
   "base_numbering": 1,
   "nav_menu": {},
   "number_sections": true,
   "sideBar": true,
   "skip_h1_title": false,
   "title_cell": "Table of Contents",
   "title_sidebar": "Contents",
   "toc_cell": false,
   "toc_position": {},
   "toc_section_display": true,
   "toc_window_display": false
  },
  "varInspector": {
   "cols": {
    "lenName": 16,
    "lenType": 16,
    "lenVar": 40
   },
   "kernels_config": {
    "python": {
     "delete_cmd_postfix": "",
     "delete_cmd_prefix": "del ",
     "library": "var_list.py",
     "varRefreshCmd": "print(var_dic_list())"
    },
    "r": {
     "delete_cmd_postfix": ") ",
     "delete_cmd_prefix": "rm(",
     "library": "var_list.r",
     "varRefreshCmd": "cat(var_dic_list()) "
    }
   },
   "types_to_exclude": [
    "module",
    "function",
    "builtin_function_or_method",
    "instance",
    "_Feature"
   ],
   "window_display": false
  }
 },
 "nbformat": 4,
 "nbformat_minor": 2
}
