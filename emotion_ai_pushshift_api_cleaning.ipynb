{
 "cells": [
  {
   "cell_type": "markdown",
   "metadata": {},
   "source": [
    "# Emotion AI: PushShift API & Cleaning"
   ]
  },
  {
   "cell_type": "markdown",
   "metadata": {},
   "source": [
    "Anaysis by Frank Flavell"
   ]
  },
  {
   "cell_type": "markdown",
   "metadata": {},
   "source": [
    "## Overview\n",
    "\n",
    "To address the class imbalance in the DailyDialog dataset, I decided to use the PushShift api for Reddit to gather comments on subreddits dedicated to specific emotions.  These statements provided clearer examples of how people actually communicate about their feelings.  \n",
    "\n",
    "I also reviewed these comments to identify specific keywords associated with the emotion classes.  I will use this list of keywords to build happy path sentences that will improve the effectiveness of the classifer and, in turn, the bot at classifying a person's emotions.\n",
    "\n",
    "I can also use this more diverse set of keywords to extend the vocabulary of the NRC lexicon to improve the effectiveness of the emotion score feature.\n",
    "\n",
    "\n",
    "## API\n",
    "\n",
    "Here's [PushShift's documentation](https://github.com/pushshift/api) for making Reddit api calls.  I also used [Rare Loot's Medium Post](https://medium.com/@RareLoot/using-pushshifts-api-to-extract-reddit-submissions-fb517b286563) for a function to make api calls to specific subreddits.\n",
    "\n",
    "\n",
    "## Table of Contents<span id=\"0\"></span>\n",
    "\n",
    "1. [**Build the PushShift URL**](#1)\n",
    "<br/><br/>\n",
    "2. [**Sad Reddit**](#2)\n",
    "<br/><br/>\n",
    "3. [**Angry Reddit**](#3)\n",
    "<br/><br/>\n",
    "4. [**Happy Reddit**](#4)\n",
    "<br/><br/>\n",
    "5. [**Quality Control**](#5)\n",
    "<br/><br/>\n",
    "6. [**Happy Path Dataset**](#6)\n",
    "<br/><br/>"
   ]
  },
  {
   "cell_type": "markdown",
   "metadata": {},
   "source": [
    "## Package Import"
   ]
  },
  {
   "cell_type": "code",
   "execution_count": 3,
   "metadata": {
    "scrolled": true
   },
   "outputs": [],
   "source": [
    "# import external libraries\n",
    "\n",
    "import pandas as pd\n",
    "import numpy as np\n",
    "import matplotlib\n",
    "import matplotlib.pyplot as plt\n",
    "import seaborn as sns\n",
    "import re #regex\n",
    "import requests\n",
    "import json\n",
    "import csv\n",
    "import time\n",
    "import datetime\n",
    "\n",
    "import nltk\n",
    "from nltk.probability import FreqDist\n",
    "from nltk.corpus import stopwords\n",
    "from nltk.stem import PorterStemmer\n",
    "from nltk.tokenize import word_tokenize\n",
    "\n",
    "# Configure matplotlib for jupyter.\n",
    "%matplotlib inline"
   ]
  },
  {
   "cell_type": "markdown",
   "metadata": {},
   "source": [
    "## <span id=\"1\"></span>1. Build The PushShift URL\n",
    "#### [Return Contents](#0)"
   ]
  },
  {
   "cell_type": "markdown",
   "metadata": {},
   "source": [
    "The function below takes in a few reddit search parameters and then outputs a json file with the data requested.\n",
    "\n",
    "#### Query\n",
    "\n",
    "I removed the query term so I didn't have to limit the posts grabbed by the api. \n",
    "\n",
    "#### Before & After\n",
    "\n",
    "The after and before take in a unix timestamp.  [This site](https://www.unixtimestamp.com/index.php) will help you convert to the unix version.\n",
    "\n",
    "Before: 1581768000 - the unix version of Feb 15, 2020 @ noon.  I want to gather data from before the cultural shift caused by the Corona Virus Epidemic.\n",
    "\n",
    "After: 1546300800 - the unix version of Jan 01, 2010 @ midnight.\n",
    "\n",
    "#### Sub\n",
    "\n",
    "I used the sad, angry, and happy subreddits.  Unfortunately, the disgust subreddit was mostly images of disgusting injuries with very little words - a picture says it all.  And any subreddits I found on fear, anxiety or worry were either under used or for specific anxiety disorders."
   ]
  },
  {
   "cell_type": "markdown",
   "metadata": {},
   "source": [
    "I tested the api url to see if it works without the query field.  It does."
   ]
  },
  {
   "cell_type": "code",
   "execution_count": null,
   "metadata": {},
   "outputs": [],
   "source": [
    "https://api.pushshift.io/reddit/search/submission/?size=1000&after=1546300800&before=1581768000&subreddit=angry\n"
   ]
  },
  {
   "cell_type": "markdown",
   "metadata": {},
   "source": [
    "I updated the get data function to remove the query."
   ]
  },
  {
   "cell_type": "code",
   "execution_count": 43,
   "metadata": {},
   "outputs": [],
   "source": [
    "def getPushshiftData(after, before, sub):\n",
    "    url = 'https://api.pushshift.io/reddit/search/submission/?&size=1000&after='+str(after)+'&before='+str(before)+'&subreddit='+str(sub)\n",
    "    print(url)\n",
    "    r = requests.get(url)\n",
    "    data = json.loads(r.text)\n",
    "    return data['data']"
   ]
  },
  {
   "cell_type": "markdown",
   "metadata": {},
   "source": [
    "I made a new function to immediately print the dataframe with title and body."
   ]
  },
  {
   "cell_type": "code",
   "execution_count": 44,
   "metadata": {},
   "outputs": [],
   "source": [
    "def sub_to_df(after, before, sub):\n",
    "    sub = getPushshiftData(after, before, sub)\n",
    "    sub_df = pd.DataFrame(sub)\n",
    "    sub_df_sel = sub_df.loc[:,('title', 'selftext')]\n",
    "    return sub_df_sel\n",
    "        "
   ]
  },
  {
   "cell_type": "markdown",
   "metadata": {},
   "source": [
    "## <span id=\"2\"></span>2. Happy Reddit\n",
    "#### [Return Contents](#0)"
   ]
  },
  {
   "cell_type": "code",
   "execution_count": 48,
   "metadata": {},
   "outputs": [
    {
     "name": "stdout",
     "output_type": "stream",
     "text": [
      "https://api.pushshift.io/reddit/search/submission/?&size=1000&after=1546300800&before=1581768000&subreddit=happy\n"
     ]
    }
   ],
   "source": [
    "happy = sub_to_df(after=1546300800, before=1581768000, sub='happy')"
   ]
  },
  {
   "cell_type": "code",
   "execution_count": 49,
   "metadata": {},
   "outputs": [
    {
     "data": {
      "text/html": [
       "<div>\n",
       "<style scoped>\n",
       "    .dataframe tbody tr th:only-of-type {\n",
       "        vertical-align: middle;\n",
       "    }\n",
       "\n",
       "    .dataframe tbody tr th {\n",
       "        vertical-align: top;\n",
       "    }\n",
       "\n",
       "    .dataframe thead th {\n",
       "        text-align: right;\n",
       "    }\n",
       "</style>\n",
       "<table border=\"1\" class=\"dataframe\">\n",
       "  <thead>\n",
       "    <tr style=\"text-align: right;\">\n",
       "      <th></th>\n",
       "      <th>title</th>\n",
       "      <th>selftext</th>\n",
       "    </tr>\n",
       "  </thead>\n",
       "  <tbody>\n",
       "    <tr>\n",
       "      <td>0</td>\n",
       "      <td>2018 was a year of dreams coming true, married...</td>\n",
       "      <td></td>\n",
       "    </tr>\n",
       "    <tr>\n",
       "      <td>1</td>\n",
       "      <td>My two favorite Redditors just sang happy cake...</td>\n",
       "      <td></td>\n",
       "    </tr>\n",
       "    <tr>\n",
       "      <td>2</td>\n",
       "      <td>After a really challenging year I moved home, ...</td>\n",
       "      <td>[https://www.instagram.com/p/BrtAuGknBJc/](htt...</td>\n",
       "    </tr>\n",
       "    <tr>\n",
       "      <td>3</td>\n",
       "      <td>beginning vs end of 2018! this year, i battled...</td>\n",
       "      <td></td>\n",
       "    </tr>\n",
       "    <tr>\n",
       "      <td>4</td>\n",
       "      <td>Crappy.... I mean happy new year everybody... ...</td>\n",
       "      <td></td>\n",
       "    </tr>\n",
       "    <tr>\n",
       "      <td>...</td>\n",
       "      <td>...</td>\n",
       "      <td>...</td>\n",
       "    </tr>\n",
       "    <tr>\n",
       "      <td>995</td>\n",
       "      <td>Cutest picture on the internet today!!</td>\n",
       "      <td></td>\n",
       "    </tr>\n",
       "    <tr>\n",
       "      <td>996</td>\n",
       "      <td>Got passed through this post in internet today...</td>\n",
       "      <td></td>\n",
       "    </tr>\n",
       "    <tr>\n",
       "      <td>997</td>\n",
       "      <td>Unseen Funny Fall Videos</td>\n",
       "      <td></td>\n",
       "    </tr>\n",
       "    <tr>\n",
       "      <td>998</td>\n",
       "      <td>producing music for months and i got my first ...</td>\n",
       "      <td>&amp;amp;#x200B;\\n\\nhttps://i.redd.it/vxof0ekl0mb2...</td>\n",
       "    </tr>\n",
       "    <tr>\n",
       "      <td>999</td>\n",
       "      <td>It's the little things in life, like beautiful...</td>\n",
       "      <td>[deleted]</td>\n",
       "    </tr>\n",
       "  </tbody>\n",
       "</table>\n",
       "<p>1000 rows × 2 columns</p>\n",
       "</div>"
      ],
      "text/plain": [
       "                                                 title  \\\n",
       "0    2018 was a year of dreams coming true, married...   \n",
       "1    My two favorite Redditors just sang happy cake...   \n",
       "2    After a really challenging year I moved home, ...   \n",
       "3    beginning vs end of 2018! this year, i battled...   \n",
       "4    Crappy.... I mean happy new year everybody... ...   \n",
       "..                                                 ...   \n",
       "995             Cutest picture on the internet today!!   \n",
       "996  Got passed through this post in internet today...   \n",
       "997                           Unseen Funny Fall Videos   \n",
       "998  producing music for months and i got my first ...   \n",
       "999  It's the little things in life, like beautiful...   \n",
       "\n",
       "                                              selftext  \n",
       "0                                                       \n",
       "1                                                       \n",
       "2    [https://www.instagram.com/p/BrtAuGknBJc/](htt...  \n",
       "3                                                       \n",
       "4                                                       \n",
       "..                                                 ...  \n",
       "995                                                     \n",
       "996                                                     \n",
       "997                                                     \n",
       "998  &amp;#x200B;\\n\\nhttps://i.redd.it/vxof0ekl0mb2...  \n",
       "999                                          [deleted]  \n",
       "\n",
       "[1000 rows x 2 columns]"
      ]
     },
     "execution_count": 49,
     "metadata": {},
     "output_type": "execute_result"
    }
   ],
   "source": [
    "happy"
   ]
  },
  {
   "cell_type": "markdown",
   "metadata": {},
   "source": [
    "## Reorganize Happy Reddit"
   ]
  },
  {
   "cell_type": "markdown",
   "metadata": {},
   "source": [
    "Isolate the comment body column."
   ]
  },
  {
   "cell_type": "code",
   "execution_count": 52,
   "metadata": {},
   "outputs": [],
   "source": [
    "happy_body = happy.selftext"
   ]
  },
  {
   "cell_type": "code",
   "execution_count": 61,
   "metadata": {},
   "outputs": [],
   "source": [
    "happy_body.dropna(inplace=True)"
   ]
  },
  {
   "cell_type": "code",
   "execution_count": 62,
   "metadata": {},
   "outputs": [
    {
     "data": {
      "text/plain": [
       "(1000,)"
      ]
     },
     "execution_count": 62,
     "metadata": {},
     "output_type": "execute_result"
    }
   ],
   "source": [
    "happy_body.shape"
   ]
  },
  {
   "cell_type": "markdown",
   "metadata": {},
   "source": [
    "Isolate the comment title column."
   ]
  },
  {
   "cell_type": "code",
   "execution_count": 64,
   "metadata": {},
   "outputs": [],
   "source": [
    "happy_title = happy.title"
   ]
  },
  {
   "cell_type": "code",
   "execution_count": 65,
   "metadata": {},
   "outputs": [],
   "source": [
    "happy_title.dropna(inplace=True)"
   ]
  },
  {
   "cell_type": "code",
   "execution_count": 66,
   "metadata": {},
   "outputs": [
    {
     "data": {
      "text/plain": [
       "(1000,)"
      ]
     },
     "execution_count": 66,
     "metadata": {},
     "output_type": "execute_result"
    }
   ],
   "source": [
    "happy_title.shape"
   ]
  },
  {
   "cell_type": "markdown",
   "metadata": {},
   "source": [
    "Combine the two into a long series."
   ]
  },
  {
   "cell_type": "code",
   "execution_count": 246,
   "metadata": {},
   "outputs": [],
   "source": [
    "happy_long = pd.concat([happy_title, happy_body])"
   ]
  },
  {
   "cell_type": "code",
   "execution_count": 247,
   "metadata": {
    "scrolled": true
   },
   "outputs": [
    {
     "data": {
      "text/plain": [
       "(2000,)"
      ]
     },
     "execution_count": 247,
     "metadata": {},
     "output_type": "execute_result"
    }
   ],
   "source": [
    "happy_long.shape"
   ]
  },
  {
   "cell_type": "code",
   "execution_count": 248,
   "metadata": {},
   "outputs": [
    {
     "data": {
      "text/plain": [
       "0    2018 was a year of dreams coming true, married...\n",
       "1    My two favorite Redditors just sang happy cake...\n",
       "2    After a really challenging year I moved home, ...\n",
       "3    beginning vs end of 2018! this year, i battled...\n",
       "4    Crappy.... I mean happy new year everybody... ...\n",
       "dtype: object"
      ]
     },
     "execution_count": 248,
     "metadata": {},
     "output_type": "execute_result"
    }
   ],
   "source": [
    "happy_long.head()"
   ]
  },
  {
   "cell_type": "code",
   "execution_count": 249,
   "metadata": {},
   "outputs": [
    {
     "data": {
      "text/plain": [
       "pandas.core.series.Series"
      ]
     },
     "execution_count": 249,
     "metadata": {},
     "output_type": "execute_result"
    }
   ],
   "source": [
    "type(happy_long)"
   ]
  },
  {
   "cell_type": "markdown",
   "metadata": {},
   "source": [
    "Make the series into a dataframe"
   ]
  },
  {
   "cell_type": "code",
   "execution_count": 250,
   "metadata": {},
   "outputs": [],
   "source": [
    "happy_long = happy_long.to_frame('text')"
   ]
  },
  {
   "cell_type": "code",
   "execution_count": 251,
   "metadata": {},
   "outputs": [],
   "source": [
    "happy_long.reset_index(drop=True, inplace=True)"
   ]
  },
  {
   "cell_type": "code",
   "execution_count": 252,
   "metadata": {},
   "outputs": [],
   "source": [
    "happy_long['emotion'] = 4"
   ]
  },
  {
   "cell_type": "code",
   "execution_count": 253,
   "metadata": {},
   "outputs": [
    {
     "data": {
      "text/html": [
       "<div>\n",
       "<style scoped>\n",
       "    .dataframe tbody tr th:only-of-type {\n",
       "        vertical-align: middle;\n",
       "    }\n",
       "\n",
       "    .dataframe tbody tr th {\n",
       "        vertical-align: top;\n",
       "    }\n",
       "\n",
       "    .dataframe thead th {\n",
       "        text-align: right;\n",
       "    }\n",
       "</style>\n",
       "<table border=\"1\" class=\"dataframe\">\n",
       "  <thead>\n",
       "    <tr style=\"text-align: right;\">\n",
       "      <th></th>\n",
       "      <th>text</th>\n",
       "      <th>emotion</th>\n",
       "    </tr>\n",
       "  </thead>\n",
       "  <tbody>\n",
       "    <tr>\n",
       "      <td>0</td>\n",
       "      <td>2018 was a year of dreams coming true, married...</td>\n",
       "      <td>4</td>\n",
       "    </tr>\n",
       "    <tr>\n",
       "      <td>1</td>\n",
       "      <td>My two favorite Redditors just sang happy cake...</td>\n",
       "      <td>4</td>\n",
       "    </tr>\n",
       "    <tr>\n",
       "      <td>2</td>\n",
       "      <td>After a really challenging year I moved home, ...</td>\n",
       "      <td>4</td>\n",
       "    </tr>\n",
       "    <tr>\n",
       "      <td>3</td>\n",
       "      <td>beginning vs end of 2018! this year, i battled...</td>\n",
       "      <td>4</td>\n",
       "    </tr>\n",
       "    <tr>\n",
       "      <td>4</td>\n",
       "      <td>Crappy.... I mean happy new year everybody... ...</td>\n",
       "      <td>4</td>\n",
       "    </tr>\n",
       "    <tr>\n",
       "      <td>...</td>\n",
       "      <td>...</td>\n",
       "      <td>...</td>\n",
       "    </tr>\n",
       "    <tr>\n",
       "      <td>1995</td>\n",
       "      <td></td>\n",
       "      <td>4</td>\n",
       "    </tr>\n",
       "    <tr>\n",
       "      <td>1996</td>\n",
       "      <td></td>\n",
       "      <td>4</td>\n",
       "    </tr>\n",
       "    <tr>\n",
       "      <td>1997</td>\n",
       "      <td></td>\n",
       "      <td>4</td>\n",
       "    </tr>\n",
       "    <tr>\n",
       "      <td>1998</td>\n",
       "      <td>&amp;amp;#x200B;\\n\\nhttps://i.redd.it/vxof0ekl0mb2...</td>\n",
       "      <td>4</td>\n",
       "    </tr>\n",
       "    <tr>\n",
       "      <td>1999</td>\n",
       "      <td>[deleted]</td>\n",
       "      <td>4</td>\n",
       "    </tr>\n",
       "  </tbody>\n",
       "</table>\n",
       "<p>2000 rows × 2 columns</p>\n",
       "</div>"
      ],
      "text/plain": [
       "                                                   text  emotion\n",
       "0     2018 was a year of dreams coming true, married...        4\n",
       "1     My two favorite Redditors just sang happy cake...        4\n",
       "2     After a really challenging year I moved home, ...        4\n",
       "3     beginning vs end of 2018! this year, i battled...        4\n",
       "4     Crappy.... I mean happy new year everybody... ...        4\n",
       "...                                                 ...      ...\n",
       "1995                                                           4\n",
       "1996                                                           4\n",
       "1997                                                           4\n",
       "1998  &amp;#x200B;\\n\\nhttps://i.redd.it/vxof0ekl0mb2...        4\n",
       "1999                                          [deleted]        4\n",
       "\n",
       "[2000 rows x 2 columns]"
      ]
     },
     "execution_count": 253,
     "metadata": {},
     "output_type": "execute_result"
    }
   ],
   "source": [
    "happy_long"
   ]
  },
  {
   "cell_type": "markdown",
   "metadata": {},
   "source": [
    "I made a function to reorganize other reddit emotion data."
   ]
  },
  {
   "cell_type": "code",
   "execution_count": 254,
   "metadata": {},
   "outputs": [],
   "source": [
    "def reddit_org(df, emo):\n",
    "    emo_body = df.selftext\n",
    "    emo_body.dropna(inplace=True)\n",
    "    emo_title = df.title\n",
    "    emo_title.dropna(inplace=True)\n",
    "    emo_long = pd.concat([emo_title, emo_body])\n",
    "    emo_long = emo_long.to_frame('text')\n",
    "    emo_long.reset_index(drop=True, inplace=True)\n",
    "    emo_long['emotion'] = emo\n",
    "    return emo_long"
   ]
  },
  {
   "cell_type": "markdown",
   "metadata": {},
   "source": [
    "## Remove Irrelevant Text"
   ]
  },
  {
   "cell_type": "markdown",
   "metadata": {},
   "source": [
    "Not all of these post are relevant.  Some are posts about a song relevant to the emotion.  Some are simply URLs to another page.  Some are advertisements.  We need to weed through and try to delete as much of the irrelevant content as possible.  However, if there is some left, then it will simply be classified as having 'no emotion'."
   ]
  },
  {
   "cell_type": "code",
   "execution_count": 255,
   "metadata": {},
   "outputs": [
    {
     "data": {
      "text/html": [
       "<div>\n",
       "<style scoped>\n",
       "    .dataframe tbody tr th:only-of-type {\n",
       "        vertical-align: middle;\n",
       "    }\n",
       "\n",
       "    .dataframe tbody tr th {\n",
       "        vertical-align: top;\n",
       "    }\n",
       "\n",
       "    .dataframe thead th {\n",
       "        text-align: right;\n",
       "    }\n",
       "</style>\n",
       "<table border=\"1\" class=\"dataframe\">\n",
       "  <thead>\n",
       "    <tr style=\"text-align: right;\">\n",
       "      <th></th>\n",
       "      <th>text</th>\n",
       "      <th>emotion</th>\n",
       "    </tr>\n",
       "  </thead>\n",
       "  <tbody>\n",
       "    <tr>\n",
       "      <td>128</td>\n",
       "      <td>This is my dad and this was his DVP positive m...</td>\n",
       "      <td>4</td>\n",
       "    </tr>\n",
       "    <tr>\n",
       "      <td>989</td>\n",
       "      <td>creating http://www.saidkik.com for lonely peo...</td>\n",
       "      <td>4</td>\n",
       "    </tr>\n",
       "    <tr>\n",
       "      <td>1002</td>\n",
       "      <td>[https://www.instagram.com/p/BrtAuGknBJc/](htt...</td>\n",
       "      <td>4</td>\n",
       "    </tr>\n",
       "    <tr>\n",
       "      <td>1059</td>\n",
       "      <td>\\n\\n### Sometimes you just need to do things ...</td>\n",
       "      <td>4</td>\n",
       "    </tr>\n",
       "    <tr>\n",
       "      <td>1103</td>\n",
       "      <td>I'm really happy that I finally had the courag...</td>\n",
       "      <td>4</td>\n",
       "    </tr>\n",
       "  </tbody>\n",
       "</table>\n",
       "</div>"
      ],
      "text/plain": [
       "                                                   text  emotion\n",
       "128   This is my dad and this was his DVP positive m...        4\n",
       "989   creating http://www.saidkik.com for lonely peo...        4\n",
       "1002  [https://www.instagram.com/p/BrtAuGknBJc/](htt...        4\n",
       "1059   \\n\\n### Sometimes you just need to do things ...        4\n",
       "1103  I'm really happy that I finally had the courag...        4"
      ]
     },
     "execution_count": 255,
     "metadata": {},
     "output_type": "execute_result"
    }
   ],
   "source": [
    "happy_long[happy_long['text'].str.contains(\"http\", \"song\")].head()"
   ]
  },
  {
   "cell_type": "code",
   "execution_count": 256,
   "metadata": {},
   "outputs": [],
   "source": [
    "happy_drop = list(happy_long[happy_long['text'].str.contains(\"http\", \"song\")].index)"
   ]
  },
  {
   "cell_type": "code",
   "execution_count": 257,
   "metadata": {},
   "outputs": [],
   "source": [
    "happy_long = happy_long.drop(happy_drop)"
   ]
  },
  {
   "cell_type": "code",
   "execution_count": 258,
   "metadata": {},
   "outputs": [
    {
     "data": {
      "text/plain": [
       "(1976, 2)"
      ]
     },
     "execution_count": 258,
     "metadata": {},
     "output_type": "execute_result"
    }
   ],
   "source": [
    "happy_long.shape"
   ]
  },
  {
   "cell_type": "code",
   "execution_count": 259,
   "metadata": {},
   "outputs": [
    {
     "data": {
      "text/plain": [
       "(704, 2)"
      ]
     },
     "execution_count": 259,
     "metadata": {},
     "output_type": "execute_result"
    }
   ],
   "source": [
    "happy_long[happy_long['text'] == (\"\")].shape"
   ]
  },
  {
   "cell_type": "code",
   "execution_count": 260,
   "metadata": {},
   "outputs": [],
   "source": [
    "happy_empty = list(happy_long[happy_long['text'] == (\"\")].index)"
   ]
  },
  {
   "cell_type": "code",
   "execution_count": 261,
   "metadata": {},
   "outputs": [],
   "source": [
    "happy_long = happy_long.drop(happy_empty)"
   ]
  },
  {
   "cell_type": "code",
   "execution_count": 262,
   "metadata": {},
   "outputs": [
    {
     "data": {
      "text/plain": [
       "(1272, 2)"
      ]
     },
     "execution_count": 262,
     "metadata": {},
     "output_type": "execute_result"
    }
   ],
   "source": [
    "happy_long.shape"
   ]
  },
  {
   "cell_type": "code",
   "execution_count": 263,
   "metadata": {},
   "outputs": [
    {
     "data": {
      "text/html": [
       "<div>\n",
       "<style scoped>\n",
       "    .dataframe tbody tr th:only-of-type {\n",
       "        vertical-align: middle;\n",
       "    }\n",
       "\n",
       "    .dataframe tbody tr th {\n",
       "        vertical-align: top;\n",
       "    }\n",
       "\n",
       "    .dataframe thead th {\n",
       "        text-align: right;\n",
       "    }\n",
       "</style>\n",
       "<table border=\"1\" class=\"dataframe\">\n",
       "  <thead>\n",
       "    <tr style=\"text-align: right;\">\n",
       "      <th></th>\n",
       "      <th>text</th>\n",
       "      <th>emotion</th>\n",
       "    </tr>\n",
       "  </thead>\n",
       "  <tbody>\n",
       "    <tr>\n",
       "      <td>1357</td>\n",
       "      <td>[deleted]</td>\n",
       "      <td>4</td>\n",
       "    </tr>\n",
       "    <tr>\n",
       "      <td>1529</td>\n",
       "      <td>[deleted]</td>\n",
       "      <td>4</td>\n",
       "    </tr>\n",
       "    <tr>\n",
       "      <td>1999</td>\n",
       "      <td>[deleted]</td>\n",
       "      <td>4</td>\n",
       "    </tr>\n",
       "  </tbody>\n",
       "</table>\n",
       "</div>"
      ],
      "text/plain": [
       "           text  emotion\n",
       "1357  [deleted]        4\n",
       "1529  [deleted]        4\n",
       "1999  [deleted]        4"
      ]
     },
     "execution_count": 263,
     "metadata": {},
     "output_type": "execute_result"
    }
   ],
   "source": [
    "happy_del = happy_long[happy_long['text'] == \"[deleted]\"]\n",
    "happy_del"
   ]
  },
  {
   "cell_type": "code",
   "execution_count": 264,
   "metadata": {},
   "outputs": [],
   "source": [
    "happy_long = happy_long.drop(index=(happy_del.index))"
   ]
  },
  {
   "cell_type": "code",
   "execution_count": 265,
   "metadata": {},
   "outputs": [
    {
     "data": {
      "text/plain": [
       "(1269, 2)"
      ]
     },
     "execution_count": 265,
     "metadata": {},
     "output_type": "execute_result"
    }
   ],
   "source": [
    "happy_long.shape"
   ]
  },
  {
   "cell_type": "code",
   "execution_count": 266,
   "metadata": {},
   "outputs": [
    {
     "data": {
      "text/html": [
       "<div>\n",
       "<style scoped>\n",
       "    .dataframe tbody tr th:only-of-type {\n",
       "        vertical-align: middle;\n",
       "    }\n",
       "\n",
       "    .dataframe tbody tr th {\n",
       "        vertical-align: top;\n",
       "    }\n",
       "\n",
       "    .dataframe thead th {\n",
       "        text-align: right;\n",
       "    }\n",
       "</style>\n",
       "<table border=\"1\" class=\"dataframe\">\n",
       "  <thead>\n",
       "    <tr style=\"text-align: right;\">\n",
       "      <th></th>\n",
       "      <th>text</th>\n",
       "      <th>emotion</th>\n",
       "    </tr>\n",
       "  </thead>\n",
       "  <tbody>\n",
       "    <tr>\n",
       "      <td>1020</td>\n",
       "      <td>[removed]</td>\n",
       "      <td>4</td>\n",
       "    </tr>\n",
       "    <tr>\n",
       "      <td>1033</td>\n",
       "      <td>[removed]</td>\n",
       "      <td>4</td>\n",
       "    </tr>\n",
       "    <tr>\n",
       "      <td>1050</td>\n",
       "      <td>[removed]</td>\n",
       "      <td>4</td>\n",
       "    </tr>\n",
       "    <tr>\n",
       "      <td>1055</td>\n",
       "      <td>[removed]</td>\n",
       "      <td>4</td>\n",
       "    </tr>\n",
       "    <tr>\n",
       "      <td>1085</td>\n",
       "      <td>[removed]</td>\n",
       "      <td>4</td>\n",
       "    </tr>\n",
       "    <tr>\n",
       "      <td>...</td>\n",
       "      <td>...</td>\n",
       "      <td>...</td>\n",
       "    </tr>\n",
       "    <tr>\n",
       "      <td>1960</td>\n",
       "      <td>[removed]</td>\n",
       "      <td>4</td>\n",
       "    </tr>\n",
       "    <tr>\n",
       "      <td>1966</td>\n",
       "      <td>[removed]</td>\n",
       "      <td>4</td>\n",
       "    </tr>\n",
       "    <tr>\n",
       "      <td>1971</td>\n",
       "      <td>[removed]</td>\n",
       "      <td>4</td>\n",
       "    </tr>\n",
       "    <tr>\n",
       "      <td>1972</td>\n",
       "      <td>[removed]</td>\n",
       "      <td>4</td>\n",
       "    </tr>\n",
       "    <tr>\n",
       "      <td>1991</td>\n",
       "      <td>[removed]</td>\n",
       "      <td>4</td>\n",
       "    </tr>\n",
       "  </tbody>\n",
       "</table>\n",
       "<p>111 rows × 2 columns</p>\n",
       "</div>"
      ],
      "text/plain": [
       "           text  emotion\n",
       "1020  [removed]        4\n",
       "1033  [removed]        4\n",
       "1050  [removed]        4\n",
       "1055  [removed]        4\n",
       "1085  [removed]        4\n",
       "...         ...      ...\n",
       "1960  [removed]        4\n",
       "1966  [removed]        4\n",
       "1971  [removed]        4\n",
       "1972  [removed]        4\n",
       "1991  [removed]        4\n",
       "\n",
       "[111 rows x 2 columns]"
      ]
     },
     "execution_count": 266,
     "metadata": {},
     "output_type": "execute_result"
    }
   ],
   "source": [
    "happy_removed = happy_long[happy_long['text'] == \"[removed]\"]\n",
    "happy_removed"
   ]
  },
  {
   "cell_type": "code",
   "execution_count": 267,
   "metadata": {},
   "outputs": [],
   "source": [
    "happy_long = happy_long.drop(index=(happy_removed.index))"
   ]
  },
  {
   "cell_type": "code",
   "execution_count": 268,
   "metadata": {},
   "outputs": [
    {
     "data": {
      "text/plain": [
       "(1158, 2)"
      ]
     },
     "execution_count": 268,
     "metadata": {},
     "output_type": "execute_result"
    }
   ],
   "source": [
    "happy_long.shape"
   ]
  },
  {
   "cell_type": "code",
   "execution_count": 269,
   "metadata": {},
   "outputs": [],
   "source": [
    "happy_music = happy_long[happy_long['text'].str.contains(\"music\")]"
   ]
  },
  {
   "cell_type": "code",
   "execution_count": 270,
   "metadata": {},
   "outputs": [
    {
     "data": {
      "text/plain": [
       "'Another hour of pure, mostly vintage and sometimes obscure surf music to listen on the way to the beach!'"
      ]
     },
     "execution_count": 270,
     "metadata": {},
     "output_type": "execute_result"
    }
   ],
   "source": [
    "happy_music.text[401]"
   ]
  },
  {
   "cell_type": "code",
   "execution_count": 271,
   "metadata": {},
   "outputs": [],
   "source": [
    "happy_long = happy_long.drop(index=(happy_music.index))"
   ]
  },
  {
   "cell_type": "code",
   "execution_count": 272,
   "metadata": {
    "scrolled": true
   },
   "outputs": [
    {
     "data": {
      "text/plain": [
       "(1141, 2)"
      ]
     },
     "execution_count": 272,
     "metadata": {},
     "output_type": "execute_result"
    }
   ],
   "source": [
    "happy_long.shape"
   ]
  },
  {
   "cell_type": "code",
   "execution_count": 273,
   "metadata": {},
   "outputs": [],
   "source": [
    "happy_long.reset_index(drop=True, inplace=True)"
   ]
  },
  {
   "cell_type": "code",
   "execution_count": 274,
   "metadata": {},
   "outputs": [
    {
     "data": {
      "text/html": [
       "<div>\n",
       "<style scoped>\n",
       "    .dataframe tbody tr th:only-of-type {\n",
       "        vertical-align: middle;\n",
       "    }\n",
       "\n",
       "    .dataframe tbody tr th {\n",
       "        vertical-align: top;\n",
       "    }\n",
       "\n",
       "    .dataframe thead th {\n",
       "        text-align: right;\n",
       "    }\n",
       "</style>\n",
       "<table border=\"1\" class=\"dataframe\">\n",
       "  <thead>\n",
       "    <tr style=\"text-align: right;\">\n",
       "      <th></th>\n",
       "      <th>text</th>\n",
       "      <th>emotion</th>\n",
       "    </tr>\n",
       "  </thead>\n",
       "  <tbody>\n",
       "    <tr>\n",
       "      <td>0</td>\n",
       "      <td>2018 was a year of dreams coming true, married...</td>\n",
       "      <td>4</td>\n",
       "    </tr>\n",
       "    <tr>\n",
       "      <td>1</td>\n",
       "      <td>My two favorite Redditors just sang happy cake...</td>\n",
       "      <td>4</td>\n",
       "    </tr>\n",
       "    <tr>\n",
       "      <td>2</td>\n",
       "      <td>After a really challenging year I moved home, ...</td>\n",
       "      <td>4</td>\n",
       "    </tr>\n",
       "    <tr>\n",
       "      <td>3</td>\n",
       "      <td>beginning vs end of 2018! this year, i battled...</td>\n",
       "      <td>4</td>\n",
       "    </tr>\n",
       "    <tr>\n",
       "      <td>4</td>\n",
       "      <td>Crappy.... I mean happy new year everybody... ...</td>\n",
       "      <td>4</td>\n",
       "    </tr>\n",
       "    <tr>\n",
       "      <td>...</td>\n",
       "      <td>...</td>\n",
       "      <td>...</td>\n",
       "    </tr>\n",
       "    <tr>\n",
       "      <td>1136</td>\n",
       "      <td>Less than 8 months ago, I could hardly make it...</td>\n",
       "      <td>4</td>\n",
       "    </tr>\n",
       "    <tr>\n",
       "      <td>1137</td>\n",
       "      <td>Working on celebrating small accomplishments :)</td>\n",
       "      <td>4</td>\n",
       "    </tr>\n",
       "    <tr>\n",
       "      <td>1138</td>\n",
       "      <td>Less than 8 months ago, I could hardly make it...</td>\n",
       "      <td>4</td>\n",
       "    </tr>\n",
       "    <tr>\n",
       "      <td>1139</td>\n",
       "      <td>Tomorrow will be a week on reddit and with the...</td>\n",
       "      <td>4</td>\n",
       "    </tr>\n",
       "    <tr>\n",
       "      <td>1140</td>\n",
       "      <td>Too much loneliness out there and something ne...</td>\n",
       "      <td>4</td>\n",
       "    </tr>\n",
       "  </tbody>\n",
       "</table>\n",
       "<p>1141 rows × 2 columns</p>\n",
       "</div>"
      ],
      "text/plain": [
       "                                                   text  emotion\n",
       "0     2018 was a year of dreams coming true, married...        4\n",
       "1     My two favorite Redditors just sang happy cake...        4\n",
       "2     After a really challenging year I moved home, ...        4\n",
       "3     beginning vs end of 2018! this year, i battled...        4\n",
       "4     Crappy.... I mean happy new year everybody... ...        4\n",
       "...                                                 ...      ...\n",
       "1136  Less than 8 months ago, I could hardly make it...        4\n",
       "1137    Working on celebrating small accomplishments :)        4\n",
       "1138  Less than 8 months ago, I could hardly make it...        4\n",
       "1139  Tomorrow will be a week on reddit and with the...        4\n",
       "1140  Too much loneliness out there and something ne...        4\n",
       "\n",
       "[1141 rows x 2 columns]"
      ]
     },
     "execution_count": 274,
     "metadata": {},
     "output_type": "execute_result"
    }
   ],
   "source": [
    "happy_long"
   ]
  },
  {
   "cell_type": "code",
   "execution_count": 417,
   "metadata": {},
   "outputs": [],
   "source": [
    "#happy_long.to_csv(\"data/pushshift/happy_reddit.csv\")"
   ]
  },
  {
   "cell_type": "markdown",
   "metadata": {},
   "source": [
    "I made a function to streamline this cleaning process for the other reddit data."
   ]
  },
  {
   "cell_type": "code",
   "execution_count": 277,
   "metadata": {},
   "outputs": [],
   "source": [
    "def clean_reddit(df):\n",
    "    http = df[df['text'].str.contains(\"http\")]\n",
    "    df = df.drop(index=(http.index))\n",
    "    song = df[df['text'].str.contains(\"song\")]\n",
    "    df = df.drop(index=(song.index))\n",
    "    music = df[df['text'].str.contains(\"music\")]\n",
    "    df = df.drop(index=(music.index))\n",
    "    empty = df[df['text'] == (\"\")]\n",
    "    df = df.drop(index=(empty.index))\n",
    "    deleted = df[df['text'] == \"[deleted]\"]\n",
    "    df = df.drop(index=(deleted.index))\n",
    "    removed = df[df['text'] == \"[removed]\"]\n",
    "    df = df.drop(index=(removed.index))\n",
    "    df.reset_index(drop=True, inplace=True)\n",
    "    return df"
   ]
  },
  {
   "cell_type": "markdown",
   "metadata": {},
   "source": [
    "## Most Frequent Happy Words"
   ]
  },
  {
   "cell_type": "code",
   "execution_count": 288,
   "metadata": {},
   "outputs": [],
   "source": [
    "REPLACE_BY_SPACE_RE = re.compile('[/(){}\\[\\]\\|@,;]')\n",
    "BAD_SYMBOLS_RE = re.compile('[^0-9a-z #+_]')\n",
    "STOPWORDS = set(stopwords.words('english'))\n",
    "\n",
    "def clean_text(text):\n",
    "    \"\"\"\n",
    "        text: a string\n",
    "        \n",
    "        return: modified initial string\n",
    "    \"\"\"\n",
    "    text = text.lower() # lowercase text\n",
    "    text = REPLACE_BY_SPACE_RE.sub(' ', text) # replace REPLACE_BY_SPACE_RE symbols by space in text. substitute the matched string in REPLACE_BY_SPACE_RE with space.\n",
    "    text = BAD_SYMBOLS_RE.sub('', text) # remove symbols which are in BAD_SYMBOLS_RE from text. substitute the matched string in BAD_SYMBOLS_RE with nothing. \n",
    "    text = ' '.join(word for word in text.split() if word not in STOPWORDS) # remove stopwors from text\n",
    "    return text"
   ]
  },
  {
   "cell_type": "code",
   "execution_count": 289,
   "metadata": {},
   "outputs": [],
   "source": [
    "happy_long['cleaned'] = happy_long['text'].apply(clean_text)"
   ]
  },
  {
   "cell_type": "code",
   "execution_count": 286,
   "metadata": {},
   "outputs": [],
   "source": [
    "def emo_freq(df, column, emo, num):\n",
    "    emo_df = df[df.emotion == emo]\n",
    "    word_frequent = emo_df[column].str.split(expand=True).stack().value_counts()\n",
    "    return word_frequent[:num]"
   ]
  },
  {
   "cell_type": "code",
   "execution_count": 290,
   "metadata": {},
   "outputs": [
    {
     "data": {
      "text/plain": [
       "happy         325\n",
       "im            309\n",
       "years         264\n",
       "year          203\n",
       "time          203\n",
       "got           183\n",
       "first         182\n",
       "life          170\n",
       "ive           165\n",
       "finally       164\n",
       "today         161\n",
       "like          156\n",
       "one           148\n",
       "new           133\n",
       "get           132\n",
       "day           129\n",
       "job           116\n",
       "made          113\n",
       "love          112\n",
       "months        107\n",
       "feel          104\n",
       "back          104\n",
       "ago            97\n",
       "good           92\n",
       "really         91\n",
       "going          91\n",
       "best           90\n",
       "would          87\n",
       "much           85\n",
       "last           83\n",
       "even           83\n",
       "little         83\n",
       "work           83\n",
       "never          79\n",
       "found          78\n",
       "people         75\n",
       "make           74\n",
       "makes          74\n",
       "family         71\n",
       "see            71\n",
       "two            70\n",
       "friends        68\n",
       "things         67\n",
       "ever           67\n",
       "know           67\n",
       "depression     62\n",
       "go             61\n",
       "3              61\n",
       "home           60\n",
       "didnt          59\n",
       "dtype: int64"
      ]
     },
     "execution_count": 290,
     "metadata": {},
     "output_type": "execute_result"
    }
   ],
   "source": [
    "emo_freq(happy_long, 'cleaned', 4, 50)"
   ]
  },
  {
   "cell_type": "code",
   "execution_count": 293,
   "metadata": {},
   "outputs": [],
   "source": [
    "def freq_graph(frequent, title, num):\n",
    "    word_freq_top_20 = frequent[:num]\n",
    "    word_freq_top_20 = dict(word_freq_top_20)\n",
    "    plt.figure(figsize=(10,10))\n",
    "    plt.bar(range(len(word_freq_top_20)), word_freq_top_20.values(), tick_label=list(word_freq_top_20.keys()))\n",
    "    plt.title(title)\n",
    "    plt.xlabel('Words')\n",
    "    plt.ylabel('Frequency')"
   ]
  },
  {
   "cell_type": "code",
   "execution_count": 294,
   "metadata": {},
   "outputs": [
    {
     "data": {
      "image/png": "[encoded data removed]",
      "text/plain": [
       "<Figure size 720x720 with 1 Axes>"
      ]
     },
     "metadata": {
      "needs_background": "light"
     },
     "output_type": "display_data"
    }
   ],
   "source": [
    "freq_graph((emo_freq(happy_long, 'cleaned', 4, 50)), 'Most Frequent Happy Words', 15)\n"
   ]
  },
  {
   "cell_type": "markdown",
   "metadata": {},
   "source": [
    "## <span id=\"3\"></span>3. Sad Reddit\n",
    "#### [Return Contents](#0)"
   ]
  },
  {
   "cell_type": "code",
   "execution_count": 8,
   "metadata": {},
   "outputs": [],
   "source": [
    "def getPushshiftData(query, after, before, sub):\n",
    "    url = 'https://api.pushshift.io/reddit/search/submission/?title='+str(query)+'&size=1000&after='+str(after)+'&before='+str(before)+'&subreddit='+str(sub)\n",
    "    print(url)\n",
    "    r = requests.get(url)\n",
    "    data = json.loads(r.text)\n",
    "    return data['data']"
   ]
  },
  {
   "cell_type": "code",
   "execution_count": 28,
   "metadata": {},
   "outputs": [
    {
     "name": "stdout",
     "output_type": "stream",
     "text": [
      "https://api.pushshift.io/reddit/search/submission/?title=sad&size=1000&after=1546300800&before=1581768000&subreddit=sad\n"
     ]
    }
   ],
   "source": [
    "sad_sub = getPushshiftData('sad', after=1546300800, before=1581768000, sub='sad')\n"
   ]
  },
  {
   "cell_type": "code",
   "execution_count": 29,
   "metadata": {},
   "outputs": [],
   "source": [
    "sad = pd.DataFrame(sad_sub)"
   ]
  },
  {
   "cell_type": "code",
   "execution_count": 30,
   "metadata": {
    "scrolled": true
   },
   "outputs": [
    {
     "data": {
      "text/html": [
       "<div>\n",
       "<style scoped>\n",
       "    .dataframe tbody tr th:only-of-type {\n",
       "        vertical-align: middle;\n",
       "    }\n",
       "\n",
       "    .dataframe tbody tr th {\n",
       "        vertical-align: top;\n",
       "    }\n",
       "\n",
       "    .dataframe thead th {\n",
       "        text-align: right;\n",
       "    }\n",
       "</style>\n",
       "<table border=\"1\" class=\"dataframe\">\n",
       "  <thead>\n",
       "    <tr style=\"text-align: right;\">\n",
       "      <th></th>\n",
       "      <th>author</th>\n",
       "      <th>author_flair_css_class</th>\n",
       "      <th>author_flair_richtext</th>\n",
       "      <th>author_flair_text</th>\n",
       "      <th>author_flair_type</th>\n",
       "      <th>author_fullname</th>\n",
       "      <th>author_patreon_flair</th>\n",
       "      <th>can_mod_post</th>\n",
       "      <th>contest_mode</th>\n",
       "      <th>created_utc</th>\n",
       "      <th>domain</th>\n",
       "      <th>full_link</th>\n",
       "      <th>gildings</th>\n",
       "      <th>id</th>\n",
       "      <th>is_crosspostable</th>\n",
       "      <th>is_meta</th>\n",
       "      <th>is_original_content</th>\n",
       "      <th>is_reddit_media_domain</th>\n",
       "      <th>is_robot_indexable</th>\n",
       "      <th>is_self</th>\n",
       "      <th>is_video</th>\n",
       "      <th>link_flair_background_color</th>\n",
       "      <th>link_flair_richtext</th>\n",
       "      <th>link_flair_text_color</th>\n",
       "      <th>link_flair_type</th>\n",
       "      <th>locked</th>\n",
       "      <th>media_only</th>\n",
       "      <th>no_follow</th>\n",
       "      <th>num_comments</th>\n",
       "      <th>num_crossposts</th>\n",
       "      <th>over_18</th>\n",
       "      <th>permalink</th>\n",
       "      <th>pinned</th>\n",
       "      <th>retrieved_on</th>\n",
       "      <th>score</th>\n",
       "      <th>selftext</th>\n",
       "      <th>send_replies</th>\n",
       "      <th>spoiler</th>\n",
       "      <th>stickied</th>\n",
       "      <th>subreddit</th>\n",
       "      <th>subreddit_id</th>\n",
       "      <th>subreddit_subscribers</th>\n",
       "      <th>subreddit_type</th>\n",
       "      <th>thumbnail</th>\n",
       "      <th>title</th>\n",
       "      <th>url</th>\n",
       "      <th>post_hint</th>\n",
       "      <th>preview</th>\n",
       "      <th>thumbnail_height</th>\n",
       "      <th>thumbnail_width</th>\n",
       "      <th>media</th>\n",
       "      <th>media_embed</th>\n",
       "      <th>secure_media</th>\n",
       "      <th>secure_media_embed</th>\n",
       "      <th>author_flair_background_color</th>\n",
       "      <th>author_flair_template_id</th>\n",
       "      <th>author_flair_text_color</th>\n",
       "      <th>crosspost_parent</th>\n",
       "      <th>crosspost_parent_list</th>\n",
       "      <th>author_cakeday</th>\n",
       "      <th>media_metadata</th>\n",
       "      <th>updated_utc</th>\n",
       "      <th>all_awardings</th>\n",
       "      <th>total_awards_received</th>\n",
       "      <th>parent_whitelist_status</th>\n",
       "      <th>pwls</th>\n",
       "      <th>whitelist_status</th>\n",
       "      <th>wls</th>\n",
       "      <th>allow_live_comments</th>\n",
       "      <th>steward_reports</th>\n",
       "    </tr>\n",
       "  </thead>\n",
       "  <tbody>\n",
       "    <tr>\n",
       "      <td>0</td>\n",
       "      <td>Therealethandunne</td>\n",
       "      <td>None</td>\n",
       "      <td>[]</td>\n",
       "      <td>None</td>\n",
       "      <td>text</td>\n",
       "      <td>t2_hl46dpx</td>\n",
       "      <td>False</td>\n",
       "      <td>False</td>\n",
       "      <td>False</td>\n",
       "      <td>1546324826</td>\n",
       "      <td>self.sad</td>\n",
       "      <td>https://www.reddit.com/r/sad/comments/abfx7v/s...</td>\n",
       "      <td>{'gid_1': 0, 'gid_2': 0, 'gid_3': 0}</td>\n",
       "      <td>abfx7v</td>\n",
       "      <td>True</td>\n",
       "      <td>False</td>\n",
       "      <td>False</td>\n",
       "      <td>False</td>\n",
       "      <td>True</td>\n",
       "      <td>True</td>\n",
       "      <td>False</td>\n",
       "      <td></td>\n",
       "      <td>[]</td>\n",
       "      <td>dark</td>\n",
       "      <td>text</td>\n",
       "      <td>False</td>\n",
       "      <td>False</td>\n",
       "      <td>True</td>\n",
       "      <td>1</td>\n",
       "      <td>0</td>\n",
       "      <td>False</td>\n",
       "      <td>/r/sad/comments/abfx7v/sad_story/</td>\n",
       "      <td>False</td>\n",
       "      <td>1546324827</td>\n",
       "      <td>1</td>\n",
       "      <td>Person 1: I hate my fucking life. \\nPerson 2: ...</td>\n",
       "      <td>True</td>\n",
       "      <td>False</td>\n",
       "      <td>False</td>\n",
       "      <td>sad</td>\n",
       "      <td>t5_2qhja</td>\n",
       "      <td>20769</td>\n",
       "      <td>public</td>\n",
       "      <td>self</td>\n",
       "      <td>Sad story</td>\n",
       "      <td>https://www.reddit.com/r/sad/comments/abfx7v/s...</td>\n",
       "      <td>NaN</td>\n",
       "      <td>NaN</td>\n",
       "      <td>NaN</td>\n",
       "      <td>NaN</td>\n",
       "      <td>NaN</td>\n",
       "      <td>NaN</td>\n",
       "      <td>NaN</td>\n",
       "      <td>NaN</td>\n",
       "      <td>NaN</td>\n",
       "      <td>NaN</td>\n",
       "      <td>NaN</td>\n",
       "      <td>NaN</td>\n",
       "      <td>NaN</td>\n",
       "      <td>NaN</td>\n",
       "      <td>NaN</td>\n",
       "      <td>NaN</td>\n",
       "      <td>NaN</td>\n",
       "      <td>NaN</td>\n",
       "      <td>NaN</td>\n",
       "      <td>NaN</td>\n",
       "      <td>NaN</td>\n",
       "      <td>NaN</td>\n",
       "      <td>NaN</td>\n",
       "      <td>NaN</td>\n",
       "    </tr>\n",
       "    <tr>\n",
       "      <td>1</td>\n",
       "      <td>ickfladmgiskm</td>\n",
       "      <td>None</td>\n",
       "      <td>[]</td>\n",
       "      <td>None</td>\n",
       "      <td>text</td>\n",
       "      <td>t2_1ur21vj1</td>\n",
       "      <td>False</td>\n",
       "      <td>False</td>\n",
       "      <td>False</td>\n",
       "      <td>1546391557</td>\n",
       "      <td>self.sad</td>\n",
       "      <td>https://www.reddit.com/r/sad/comments/abo8cm/f...</td>\n",
       "      <td>{'gid_1': 0, 'gid_2': 0, 'gid_3': 0}</td>\n",
       "      <td>abo8cm</td>\n",
       "      <td>True</td>\n",
       "      <td>False</td>\n",
       "      <td>False</td>\n",
       "      <td>False</td>\n",
       "      <td>True</td>\n",
       "      <td>True</td>\n",
       "      <td>False</td>\n",
       "      <td></td>\n",
       "      <td>[]</td>\n",
       "      <td>dark</td>\n",
       "      <td>text</td>\n",
       "      <td>False</td>\n",
       "      <td>False</td>\n",
       "      <td>True</td>\n",
       "      <td>1</td>\n",
       "      <td>0</td>\n",
       "      <td>False</td>\n",
       "      <td>/r/sad/comments/abo8cm/for_some_reason_i_did_n...</td>\n",
       "      <td>False</td>\n",
       "      <td>1546391557</td>\n",
       "      <td>1</td>\n",
       "      <td>Like, what happened? I'm just glad it did....</td>\n",
       "      <td>True</td>\n",
       "      <td>False</td>\n",
       "      <td>False</td>\n",
       "      <td>sad</td>\n",
       "      <td>t5_2qhja</td>\n",
       "      <td>20784</td>\n",
       "      <td>public</td>\n",
       "      <td>self</td>\n",
       "      <td>For some reason, I did not feel sad, empty, no...</td>\n",
       "      <td>https://www.reddit.com/r/sad/comments/abo8cm/f...</td>\n",
       "      <td>NaN</td>\n",
       "      <td>NaN</td>\n",
       "      <td>NaN</td>\n",
       "      <td>NaN</td>\n",
       "      <td>NaN</td>\n",
       "      <td>NaN</td>\n",
       "      <td>NaN</td>\n",
       "      <td>NaN</td>\n",
       "      <td>NaN</td>\n",
       "      <td>NaN</td>\n",
       "      <td>NaN</td>\n",
       "      <td>NaN</td>\n",
       "      <td>NaN</td>\n",
       "      <td>NaN</td>\n",
       "      <td>NaN</td>\n",
       "      <td>NaN</td>\n",
       "      <td>NaN</td>\n",
       "      <td>NaN</td>\n",
       "      <td>NaN</td>\n",
       "      <td>NaN</td>\n",
       "      <td>NaN</td>\n",
       "      <td>NaN</td>\n",
       "      <td>NaN</td>\n",
       "      <td>NaN</td>\n",
       "    </tr>\n",
       "    <tr>\n",
       "      <td>2</td>\n",
       "      <td>Pharmkitty18</td>\n",
       "      <td>None</td>\n",
       "      <td>[]</td>\n",
       "      <td>None</td>\n",
       "      <td>text</td>\n",
       "      <td>t2_2qnxsrs7</td>\n",
       "      <td>False</td>\n",
       "      <td>False</td>\n",
       "      <td>False</td>\n",
       "      <td>1546398842</td>\n",
       "      <td>self.sad</td>\n",
       "      <td>https://www.reddit.com/r/sad/comments/abp965/a...</td>\n",
       "      <td>{'gid_1': 0, 'gid_2': 0, 'gid_3': 0}</td>\n",
       "      <td>abp965</td>\n",
       "      <td>True</td>\n",
       "      <td>False</td>\n",
       "      <td>False</td>\n",
       "      <td>False</td>\n",
       "      <td>True</td>\n",
       "      <td>True</td>\n",
       "      <td>False</td>\n",
       "      <td></td>\n",
       "      <td>[]</td>\n",
       "      <td>dark</td>\n",
       "      <td>text</td>\n",
       "      <td>False</td>\n",
       "      <td>False</td>\n",
       "      <td>True</td>\n",
       "      <td>5</td>\n",
       "      <td>0</td>\n",
       "      <td>False</td>\n",
       "      <td>/r/sad/comments/abp965/anyone_else_ever_get_st...</td>\n",
       "      <td>False</td>\n",
       "      <td>1546398843</td>\n",
       "      <td>1</td>\n",
       "      <td>I feel down today. I have no real reason for f...</td>\n",
       "      <td>True</td>\n",
       "      <td>False</td>\n",
       "      <td>False</td>\n",
       "      <td>sad</td>\n",
       "      <td>t5_2qhja</td>\n",
       "      <td>20784</td>\n",
       "      <td>public</td>\n",
       "      <td>self</td>\n",
       "      <td>Anyone else ever get stuck in a sad spiral?</td>\n",
       "      <td>https://www.reddit.com/r/sad/comments/abp965/a...</td>\n",
       "      <td>NaN</td>\n",
       "      <td>NaN</td>\n",
       "      <td>NaN</td>\n",
       "      <td>NaN</td>\n",
       "      <td>NaN</td>\n",
       "      <td>NaN</td>\n",
       "      <td>NaN</td>\n",
       "      <td>NaN</td>\n",
       "      <td>NaN</td>\n",
       "      <td>NaN</td>\n",
       "      <td>NaN</td>\n",
       "      <td>NaN</td>\n",
       "      <td>NaN</td>\n",
       "      <td>NaN</td>\n",
       "      <td>NaN</td>\n",
       "      <td>NaN</td>\n",
       "      <td>NaN</td>\n",
       "      <td>NaN</td>\n",
       "      <td>NaN</td>\n",
       "      <td>NaN</td>\n",
       "      <td>NaN</td>\n",
       "      <td>NaN</td>\n",
       "      <td>NaN</td>\n",
       "      <td>NaN</td>\n",
       "    </tr>\n",
       "    <tr>\n",
       "      <td>3</td>\n",
       "      <td>pluralofsingle</td>\n",
       "      <td>None</td>\n",
       "      <td>[]</td>\n",
       "      <td>None</td>\n",
       "      <td>text</td>\n",
       "      <td>t2_2wmvigbx</td>\n",
       "      <td>False</td>\n",
       "      <td>False</td>\n",
       "      <td>False</td>\n",
       "      <td>1546401624</td>\n",
       "      <td>self.sad</td>\n",
       "      <td>https://www.reddit.com/r/sad/comments/abpmgd/s...</td>\n",
       "      <td>{'gid_1': 0, 'gid_2': 0, 'gid_3': 0}</td>\n",
       "      <td>abpmgd</td>\n",
       "      <td>True</td>\n",
       "      <td>False</td>\n",
       "      <td>False</td>\n",
       "      <td>False</td>\n",
       "      <td>True</td>\n",
       "      <td>True</td>\n",
       "      <td>False</td>\n",
       "      <td></td>\n",
       "      <td>[]</td>\n",
       "      <td>dark</td>\n",
       "      <td>text</td>\n",
       "      <td>False</td>\n",
       "      <td>False</td>\n",
       "      <td>True</td>\n",
       "      <td>1</td>\n",
       "      <td>0</td>\n",
       "      <td>False</td>\n",
       "      <td>/r/sad/comments/abpmgd/sad_short_story/</td>\n",
       "      <td>False</td>\n",
       "      <td>1546401625</td>\n",
       "      <td>1</td>\n",
       "      <td>Unable to sleep, I wept.</td>\n",
       "      <td>True</td>\n",
       "      <td>False</td>\n",
       "      <td>False</td>\n",
       "      <td>sad</td>\n",
       "      <td>t5_2qhja</td>\n",
       "      <td>20786</td>\n",
       "      <td>public</td>\n",
       "      <td>self</td>\n",
       "      <td>Sad short story</td>\n",
       "      <td>https://www.reddit.com/r/sad/comments/abpmgd/s...</td>\n",
       "      <td>NaN</td>\n",
       "      <td>NaN</td>\n",
       "      <td>NaN</td>\n",
       "      <td>NaN</td>\n",
       "      <td>NaN</td>\n",
       "      <td>NaN</td>\n",
       "      <td>NaN</td>\n",
       "      <td>NaN</td>\n",
       "      <td>NaN</td>\n",
       "      <td>NaN</td>\n",
       "      <td>NaN</td>\n",
       "      <td>NaN</td>\n",
       "      <td>NaN</td>\n",
       "      <td>NaN</td>\n",
       "      <td>NaN</td>\n",
       "      <td>NaN</td>\n",
       "      <td>NaN</td>\n",
       "      <td>NaN</td>\n",
       "      <td>NaN</td>\n",
       "      <td>NaN</td>\n",
       "      <td>NaN</td>\n",
       "      <td>NaN</td>\n",
       "      <td>NaN</td>\n",
       "      <td>NaN</td>\n",
       "    </tr>\n",
       "    <tr>\n",
       "      <td>4</td>\n",
       "      <td>RainDel7</td>\n",
       "      <td>None</td>\n",
       "      <td>[]</td>\n",
       "      <td>None</td>\n",
       "      <td>text</td>\n",
       "      <td>t2_2woky0v2</td>\n",
       "      <td>False</td>\n",
       "      <td>False</td>\n",
       "      <td>False</td>\n",
       "      <td>1546418305</td>\n",
       "      <td>self.sad</td>\n",
       "      <td>https://www.reddit.com/r/sad/comments/abrkyr/i...</td>\n",
       "      <td>{'gid_1': 0, 'gid_2': 0, 'gid_3': 0}</td>\n",
       "      <td>abrkyr</td>\n",
       "      <td>True</td>\n",
       "      <td>False</td>\n",
       "      <td>False</td>\n",
       "      <td>False</td>\n",
       "      <td>True</td>\n",
       "      <td>True</td>\n",
       "      <td>False</td>\n",
       "      <td></td>\n",
       "      <td>[]</td>\n",
       "      <td>dark</td>\n",
       "      <td>text</td>\n",
       "      <td>False</td>\n",
       "      <td>False</td>\n",
       "      <td>True</td>\n",
       "      <td>3</td>\n",
       "      <td>0</td>\n",
       "      <td>False</td>\n",
       "      <td>/r/sad/comments/abrkyr/im_sad/</td>\n",
       "      <td>False</td>\n",
       "      <td>1546418306</td>\n",
       "      <td>1</td>\n",
       "      <td>So I just want to start off by saying happy Ne...</td>\n",
       "      <td>True</td>\n",
       "      <td>False</td>\n",
       "      <td>False</td>\n",
       "      <td>sad</td>\n",
       "      <td>t5_2qhja</td>\n",
       "      <td>20795</td>\n",
       "      <td>public</td>\n",
       "      <td>self</td>\n",
       "      <td>I’m Sad</td>\n",
       "      <td>https://www.reddit.com/r/sad/comments/abrkyr/i...</td>\n",
       "      <td>NaN</td>\n",
       "      <td>NaN</td>\n",
       "      <td>NaN</td>\n",
       "      <td>NaN</td>\n",
       "      <td>NaN</td>\n",
       "      <td>NaN</td>\n",
       "      <td>NaN</td>\n",
       "      <td>NaN</td>\n",
       "      <td>NaN</td>\n",
       "      <td>NaN</td>\n",
       "      <td>NaN</td>\n",
       "      <td>NaN</td>\n",
       "      <td>NaN</td>\n",
       "      <td>NaN</td>\n",
       "      <td>NaN</td>\n",
       "      <td>NaN</td>\n",
       "      <td>NaN</td>\n",
       "      <td>NaN</td>\n",
       "      <td>NaN</td>\n",
       "      <td>NaN</td>\n",
       "      <td>NaN</td>\n",
       "      <td>NaN</td>\n",
       "      <td>NaN</td>\n",
       "      <td>NaN</td>\n",
       "    </tr>\n",
       "    <tr>\n",
       "      <td>...</td>\n",
       "      <td>...</td>\n",
       "      <td>...</td>\n",
       "      <td>...</td>\n",
       "      <td>...</td>\n",
       "      <td>...</td>\n",
       "      <td>...</td>\n",
       "      <td>...</td>\n",
       "      <td>...</td>\n",
       "      <td>...</td>\n",
       "      <td>...</td>\n",
       "      <td>...</td>\n",
       "      <td>...</td>\n",
       "      <td>...</td>\n",
       "      <td>...</td>\n",
       "      <td>...</td>\n",
       "      <td>...</td>\n",
       "      <td>...</td>\n",
       "      <td>...</td>\n",
       "      <td>...</td>\n",
       "      <td>...</td>\n",
       "      <td>...</td>\n",
       "      <td>...</td>\n",
       "      <td>...</td>\n",
       "      <td>...</td>\n",
       "      <td>...</td>\n",
       "      <td>...</td>\n",
       "      <td>...</td>\n",
       "      <td>...</td>\n",
       "      <td>...</td>\n",
       "      <td>...</td>\n",
       "      <td>...</td>\n",
       "      <td>...</td>\n",
       "      <td>...</td>\n",
       "      <td>...</td>\n",
       "      <td>...</td>\n",
       "      <td>...</td>\n",
       "      <td>...</td>\n",
       "      <td>...</td>\n",
       "      <td>...</td>\n",
       "      <td>...</td>\n",
       "      <td>...</td>\n",
       "      <td>...</td>\n",
       "      <td>...</td>\n",
       "      <td>...</td>\n",
       "      <td>...</td>\n",
       "      <td>...</td>\n",
       "      <td>...</td>\n",
       "      <td>...</td>\n",
       "      <td>...</td>\n",
       "      <td>...</td>\n",
       "      <td>...</td>\n",
       "      <td>...</td>\n",
       "      <td>...</td>\n",
       "      <td>...</td>\n",
       "      <td>...</td>\n",
       "      <td>...</td>\n",
       "      <td>...</td>\n",
       "      <td>...</td>\n",
       "      <td>...</td>\n",
       "      <td>...</td>\n",
       "      <td>...</td>\n",
       "      <td>...</td>\n",
       "      <td>...</td>\n",
       "      <td>...</td>\n",
       "      <td>...</td>\n",
       "      <td>...</td>\n",
       "      <td>...</td>\n",
       "      <td>...</td>\n",
       "      <td>...</td>\n",
       "      <td>...</td>\n",
       "    </tr>\n",
       "    <tr>\n",
       "      <td>995</td>\n",
       "      <td>hyproductions</td>\n",
       "      <td>None</td>\n",
       "      <td>[]</td>\n",
       "      <td>None</td>\n",
       "      <td>text</td>\n",
       "      <td>t2_t35pnpb</td>\n",
       "      <td>False</td>\n",
       "      <td>False</td>\n",
       "      <td>False</td>\n",
       "      <td>1568913825</td>\n",
       "      <td>youtu.be</td>\n",
       "      <td>https://www.reddit.com/r/sad/comments/d6h9m7/h...</td>\n",
       "      <td>{}</td>\n",
       "      <td>d6h9m7</td>\n",
       "      <td>True</td>\n",
       "      <td>False</td>\n",
       "      <td>False</td>\n",
       "      <td>False</td>\n",
       "      <td>True</td>\n",
       "      <td>False</td>\n",
       "      <td>False</td>\n",
       "      <td></td>\n",
       "      <td>[]</td>\n",
       "      <td>dark</td>\n",
       "      <td>text</td>\n",
       "      <td>False</td>\n",
       "      <td>False</td>\n",
       "      <td>True</td>\n",
       "      <td>0</td>\n",
       "      <td>0</td>\n",
       "      <td>False</td>\n",
       "      <td>/r/sad/comments/d6h9m7/hypal_the_farewell_sad_...</td>\n",
       "      <td>False</td>\n",
       "      <td>1568913827</td>\n",
       "      <td>1</td>\n",
       "      <td></td>\n",
       "      <td>True</td>\n",
       "      <td>False</td>\n",
       "      <td>False</td>\n",
       "      <td>sad</td>\n",
       "      <td>t5_2qhja</td>\n",
       "      <td>42511</td>\n",
       "      <td>public</td>\n",
       "      <td>https://a.thumbs.redditmedia.com/7f8xcQV04eM4y...</td>\n",
       "      <td>Hypal - The Farewell (Sad Music)</td>\n",
       "      <td>https://youtu.be/3VhsMNDuosQ</td>\n",
       "      <td>rich:video</td>\n",
       "      <td>{'enabled': False, 'images': [{'id': 'cLy4nQ9Y...</td>\n",
       "      <td>105.0</td>\n",
       "      <td>140.0</td>\n",
       "      <td>{'oembed': {'author_name': 'HYPAL', 'author_ur...</td>\n",
       "      <td>{'content': '&amp;lt;iframe width=\"600\" height=\"33...</td>\n",
       "      <td>{'oembed': {'author_name': 'HYPAL', 'author_ur...</td>\n",
       "      <td>{'content': '&amp;lt;iframe width=\"600\" height=\"33...</td>\n",
       "      <td>NaN</td>\n",
       "      <td>NaN</td>\n",
       "      <td>NaN</td>\n",
       "      <td>NaN</td>\n",
       "      <td>NaN</td>\n",
       "      <td>NaN</td>\n",
       "      <td>NaN</td>\n",
       "      <td>1.569000e+09</td>\n",
       "      <td>[]</td>\n",
       "      <td>0.0</td>\n",
       "      <td>no_ads</td>\n",
       "      <td>0.0</td>\n",
       "      <td>no_ads</td>\n",
       "      <td>0.0</td>\n",
       "      <td>False</td>\n",
       "      <td>[]</td>\n",
       "    </tr>\n",
       "    <tr>\n",
       "      <td>996</td>\n",
       "      <td>thebiggestsadTM</td>\n",
       "      <td>None</td>\n",
       "      <td>[]</td>\n",
       "      <td>None</td>\n",
       "      <td>text</td>\n",
       "      <td>t2_4hknpzyu</td>\n",
       "      <td>False</td>\n",
       "      <td>False</td>\n",
       "      <td>False</td>\n",
       "      <td>1568968317</td>\n",
       "      <td>self.sad</td>\n",
       "      <td>https://www.reddit.com/r/sad/comments/d6rxbo/s...</td>\n",
       "      <td>{}</td>\n",
       "      <td>d6rxbo</td>\n",
       "      <td>True</td>\n",
       "      <td>False</td>\n",
       "      <td>False</td>\n",
       "      <td>False</td>\n",
       "      <td>True</td>\n",
       "      <td>True</td>\n",
       "      <td>False</td>\n",
       "      <td></td>\n",
       "      <td>[]</td>\n",
       "      <td>dark</td>\n",
       "      <td>text</td>\n",
       "      <td>False</td>\n",
       "      <td>False</td>\n",
       "      <td>True</td>\n",
       "      <td>0</td>\n",
       "      <td>0</td>\n",
       "      <td>False</td>\n",
       "      <td>/r/sad/comments/d6rxbo/sad_story_i_wrote_oc/</td>\n",
       "      <td>False</td>\n",
       "      <td>1568968318</td>\n",
       "      <td>1</td>\n",
       "      <td>Roan felt especially sad when he came home fro...</td>\n",
       "      <td>True</td>\n",
       "      <td>False</td>\n",
       "      <td>False</td>\n",
       "      <td>sad</td>\n",
       "      <td>t5_2qhja</td>\n",
       "      <td>42600</td>\n",
       "      <td>public</td>\n",
       "      <td>self</td>\n",
       "      <td>sad story I wrote (oc)</td>\n",
       "      <td>https://www.reddit.com/r/sad/comments/d6rxbo/s...</td>\n",
       "      <td>NaN</td>\n",
       "      <td>NaN</td>\n",
       "      <td>NaN</td>\n",
       "      <td>NaN</td>\n",
       "      <td>NaN</td>\n",
       "      <td>NaN</td>\n",
       "      <td>NaN</td>\n",
       "      <td>NaN</td>\n",
       "      <td>NaN</td>\n",
       "      <td>NaN</td>\n",
       "      <td>NaN</td>\n",
       "      <td>NaN</td>\n",
       "      <td>NaN</td>\n",
       "      <td>NaN</td>\n",
       "      <td>NaN</td>\n",
       "      <td>1.569055e+09</td>\n",
       "      <td>[]</td>\n",
       "      <td>0.0</td>\n",
       "      <td>no_ads</td>\n",
       "      <td>0.0</td>\n",
       "      <td>no_ads</td>\n",
       "      <td>0.0</td>\n",
       "      <td>False</td>\n",
       "      <td>[]</td>\n",
       "    </tr>\n",
       "    <tr>\n",
       "      <td>997</td>\n",
       "      <td>chodayassup</td>\n",
       "      <td>None</td>\n",
       "      <td>[]</td>\n",
       "      <td>None</td>\n",
       "      <td>text</td>\n",
       "      <td>t2_4mom843l</td>\n",
       "      <td>False</td>\n",
       "      <td>False</td>\n",
       "      <td>False</td>\n",
       "      <td>1569002800</td>\n",
       "      <td>self.sad</td>\n",
       "      <td>https://www.reddit.com/r/sad/comments/d6yqw4/w...</td>\n",
       "      <td>{}</td>\n",
       "      <td>d6yqw4</td>\n",
       "      <td>True</td>\n",
       "      <td>False</td>\n",
       "      <td>False</td>\n",
       "      <td>False</td>\n",
       "      <td>True</td>\n",
       "      <td>True</td>\n",
       "      <td>False</td>\n",
       "      <td></td>\n",
       "      <td>[]</td>\n",
       "      <td>dark</td>\n",
       "      <td>text</td>\n",
       "      <td>False</td>\n",
       "      <td>False</td>\n",
       "      <td>True</td>\n",
       "      <td>2</td>\n",
       "      <td>0</td>\n",
       "      <td>False</td>\n",
       "      <td>/r/sad/comments/d6yqw4/what_do_you_guys_do_whe...</td>\n",
       "      <td>False</td>\n",
       "      <td>1569002801</td>\n",
       "      <td>2</td>\n",
       "      <td></td>\n",
       "      <td>True</td>\n",
       "      <td>False</td>\n",
       "      <td>False</td>\n",
       "      <td>sad</td>\n",
       "      <td>t5_2qhja</td>\n",
       "      <td>42645</td>\n",
       "      <td>public</td>\n",
       "      <td>self</td>\n",
       "      <td>What do you guys do when you feel yourself get...</td>\n",
       "      <td>https://www.reddit.com/r/sad/comments/d6yqw4/w...</td>\n",
       "      <td>NaN</td>\n",
       "      <td>NaN</td>\n",
       "      <td>NaN</td>\n",
       "      <td>NaN</td>\n",
       "      <td>NaN</td>\n",
       "      <td>NaN</td>\n",
       "      <td>NaN</td>\n",
       "      <td>NaN</td>\n",
       "      <td>NaN</td>\n",
       "      <td>NaN</td>\n",
       "      <td>NaN</td>\n",
       "      <td>NaN</td>\n",
       "      <td>NaN</td>\n",
       "      <td>NaN</td>\n",
       "      <td>NaN</td>\n",
       "      <td>1.569089e+09</td>\n",
       "      <td>[]</td>\n",
       "      <td>0.0</td>\n",
       "      <td>no_ads</td>\n",
       "      <td>0.0</td>\n",
       "      <td>no_ads</td>\n",
       "      <td>0.0</td>\n",
       "      <td>False</td>\n",
       "      <td>[]</td>\n",
       "    </tr>\n",
       "    <tr>\n",
       "      <td>998</td>\n",
       "      <td>whateverryerson</td>\n",
       "      <td>None</td>\n",
       "      <td>[]</td>\n",
       "      <td>None</td>\n",
       "      <td>text</td>\n",
       "      <td>t2_3m1osdsa</td>\n",
       "      <td>False</td>\n",
       "      <td>False</td>\n",
       "      <td>False</td>\n",
       "      <td>1569046835</td>\n",
       "      <td>self.sad</td>\n",
       "      <td>https://www.reddit.com/r/sad/comments/d76ze6/s...</td>\n",
       "      <td>{}</td>\n",
       "      <td>d76ze6</td>\n",
       "      <td>True</td>\n",
       "      <td>False</td>\n",
       "      <td>False</td>\n",
       "      <td>False</td>\n",
       "      <td>True</td>\n",
       "      <td>True</td>\n",
       "      <td>False</td>\n",
       "      <td></td>\n",
       "      <td>[]</td>\n",
       "      <td>dark</td>\n",
       "      <td>text</td>\n",
       "      <td>False</td>\n",
       "      <td>False</td>\n",
       "      <td>True</td>\n",
       "      <td>6</td>\n",
       "      <td>0</td>\n",
       "      <td>False</td>\n",
       "      <td>/r/sad/comments/d76ze6/sad_have_absolutely_no_...</td>\n",
       "      <td>False</td>\n",
       "      <td>1569046836</td>\n",
       "      <td>9</td>\n",
       "      <td>this might sound crazy but i was talking to th...</td>\n",
       "      <td>True</td>\n",
       "      <td>False</td>\n",
       "      <td>False</td>\n",
       "      <td>sad</td>\n",
       "      <td>t5_2qhja</td>\n",
       "      <td>42720</td>\n",
       "      <td>public</td>\n",
       "      <td>self</td>\n",
       "      <td>sad, have absolutely no one to talk to</td>\n",
       "      <td>https://www.reddit.com/r/sad/comments/d76ze6/s...</td>\n",
       "      <td>NaN</td>\n",
       "      <td>NaN</td>\n",
       "      <td>NaN</td>\n",
       "      <td>NaN</td>\n",
       "      <td>NaN</td>\n",
       "      <td>NaN</td>\n",
       "      <td>NaN</td>\n",
       "      <td>NaN</td>\n",
       "      <td>NaN</td>\n",
       "      <td>NaN</td>\n",
       "      <td>NaN</td>\n",
       "      <td>NaN</td>\n",
       "      <td>NaN</td>\n",
       "      <td>NaN</td>\n",
       "      <td>NaN</td>\n",
       "      <td>1.569133e+09</td>\n",
       "      <td>[]</td>\n",
       "      <td>0.0</td>\n",
       "      <td>no_ads</td>\n",
       "      <td>0.0</td>\n",
       "      <td>no_ads</td>\n",
       "      <td>0.0</td>\n",
       "      <td>False</td>\n",
       "      <td>[]</td>\n",
       "    </tr>\n",
       "    <tr>\n",
       "      <td>999</td>\n",
       "      <td>becksmith</td>\n",
       "      <td>None</td>\n",
       "      <td>[]</td>\n",
       "      <td>None</td>\n",
       "      <td>text</td>\n",
       "      <td>t2_45fqom2n</td>\n",
       "      <td>False</td>\n",
       "      <td>False</td>\n",
       "      <td>False</td>\n",
       "      <td>1569085623</td>\n",
       "      <td>i.redd.it</td>\n",
       "      <td>https://www.reddit.com/r/sad/comments/d7d6as/h...</td>\n",
       "      <td>{}</td>\n",
       "      <td>d7d6as</td>\n",
       "      <td>True</td>\n",
       "      <td>False</td>\n",
       "      <td>False</td>\n",
       "      <td>True</td>\n",
       "      <td>True</td>\n",
       "      <td>False</td>\n",
       "      <td>False</td>\n",
       "      <td></td>\n",
       "      <td>[]</td>\n",
       "      <td>dark</td>\n",
       "      <td>text</td>\n",
       "      <td>False</td>\n",
       "      <td>False</td>\n",
       "      <td>True</td>\n",
       "      <td>2</td>\n",
       "      <td>0</td>\n",
       "      <td>False</td>\n",
       "      <td>/r/sad/comments/d7d6as/help_spread_this_sad_me...</td>\n",
       "      <td>False</td>\n",
       "      <td>1569085624</td>\n",
       "      <td>0</td>\n",
       "      <td></td>\n",
       "      <td>True</td>\n",
       "      <td>False</td>\n",
       "      <td>False</td>\n",
       "      <td>sad</td>\n",
       "      <td>t5_2qhja</td>\n",
       "      <td>42753</td>\n",
       "      <td>public</td>\n",
       "      <td>default</td>\n",
       "      <td>Help spread this sad message!</td>\n",
       "      <td>https://i.redd.it/ys6fisymbzn31.jpg</td>\n",
       "      <td>NaN</td>\n",
       "      <td>NaN</td>\n",
       "      <td>NaN</td>\n",
       "      <td>NaN</td>\n",
       "      <td>NaN</td>\n",
       "      <td>NaN</td>\n",
       "      <td>NaN</td>\n",
       "      <td>NaN</td>\n",
       "      <td>NaN</td>\n",
       "      <td>NaN</td>\n",
       "      <td>NaN</td>\n",
       "      <td>NaN</td>\n",
       "      <td>NaN</td>\n",
       "      <td>NaN</td>\n",
       "      <td>NaN</td>\n",
       "      <td>1.569172e+09</td>\n",
       "      <td>[]</td>\n",
       "      <td>0.0</td>\n",
       "      <td>no_ads</td>\n",
       "      <td>0.0</td>\n",
       "      <td>no_ads</td>\n",
       "      <td>0.0</td>\n",
       "      <td>False</td>\n",
       "      <td>[]</td>\n",
       "    </tr>\n",
       "  </tbody>\n",
       "</table>\n",
       "<p>1000 rows × 70 columns</p>\n",
       "</div>"
      ],
      "text/plain": [
       "                author author_flair_css_class author_flair_richtext  \\\n",
       "0    Therealethandunne                   None                    []   \n",
       "1        ickfladmgiskm                   None                    []   \n",
       "2         Pharmkitty18                   None                    []   \n",
       "3       pluralofsingle                   None                    []   \n",
       "4             RainDel7                   None                    []   \n",
       "..                 ...                    ...                   ...   \n",
       "995      hyproductions                   None                    []   \n",
       "996    thebiggestsadTM                   None                    []   \n",
       "997        chodayassup                   None                    []   \n",
       "998    whateverryerson                   None                    []   \n",
       "999          becksmith                   None                    []   \n",
       "\n",
       "    author_flair_text author_flair_type author_fullname author_patreon_flair  \\\n",
       "0                None              text      t2_hl46dpx                False   \n",
       "1                None              text     t2_1ur21vj1                False   \n",
       "2                None              text     t2_2qnxsrs7                False   \n",
       "3                None              text     t2_2wmvigbx                False   \n",
       "4                None              text     t2_2woky0v2                False   \n",
       "..                ...               ...             ...                  ...   \n",
       "995              None              text      t2_t35pnpb                False   \n",
       "996              None              text     t2_4hknpzyu                False   \n",
       "997              None              text     t2_4mom843l                False   \n",
       "998              None              text     t2_3m1osdsa                False   \n",
       "999              None              text     t2_45fqom2n                False   \n",
       "\n",
       "     can_mod_post  contest_mode  created_utc     domain  \\\n",
       "0           False         False   1546324826   self.sad   \n",
       "1           False         False   1546391557   self.sad   \n",
       "2           False         False   1546398842   self.sad   \n",
       "3           False         False   1546401624   self.sad   \n",
       "4           False         False   1546418305   self.sad   \n",
       "..            ...           ...          ...        ...   \n",
       "995         False         False   1568913825   youtu.be   \n",
       "996         False         False   1568968317   self.sad   \n",
       "997         False         False   1569002800   self.sad   \n",
       "998         False         False   1569046835   self.sad   \n",
       "999         False         False   1569085623  i.redd.it   \n",
       "\n",
       "                                             full_link  \\\n",
       "0    https://www.reddit.com/r/sad/comments/abfx7v/s...   \n",
       "1    https://www.reddit.com/r/sad/comments/abo8cm/f...   \n",
       "2    https://www.reddit.com/r/sad/comments/abp965/a...   \n",
       "3    https://www.reddit.com/r/sad/comments/abpmgd/s...   \n",
       "4    https://www.reddit.com/r/sad/comments/abrkyr/i...   \n",
       "..                                                 ...   \n",
       "995  https://www.reddit.com/r/sad/comments/d6h9m7/h...   \n",
       "996  https://www.reddit.com/r/sad/comments/d6rxbo/s...   \n",
       "997  https://www.reddit.com/r/sad/comments/d6yqw4/w...   \n",
       "998  https://www.reddit.com/r/sad/comments/d76ze6/s...   \n",
       "999  https://www.reddit.com/r/sad/comments/d7d6as/h...   \n",
       "\n",
       "                                 gildings      id  is_crosspostable  is_meta  \\\n",
       "0    {'gid_1': 0, 'gid_2': 0, 'gid_3': 0}  abfx7v              True    False   \n",
       "1    {'gid_1': 0, 'gid_2': 0, 'gid_3': 0}  abo8cm              True    False   \n",
       "2    {'gid_1': 0, 'gid_2': 0, 'gid_3': 0}  abp965              True    False   \n",
       "3    {'gid_1': 0, 'gid_2': 0, 'gid_3': 0}  abpmgd              True    False   \n",
       "4    {'gid_1': 0, 'gid_2': 0, 'gid_3': 0}  abrkyr              True    False   \n",
       "..                                    ...     ...               ...      ...   \n",
       "995                                    {}  d6h9m7              True    False   \n",
       "996                                    {}  d6rxbo              True    False   \n",
       "997                                    {}  d6yqw4              True    False   \n",
       "998                                    {}  d76ze6              True    False   \n",
       "999                                    {}  d7d6as              True    False   \n",
       "\n",
       "     is_original_content  is_reddit_media_domain  is_robot_indexable  is_self  \\\n",
       "0                  False                   False                True     True   \n",
       "1                  False                   False                True     True   \n",
       "2                  False                   False                True     True   \n",
       "3                  False                   False                True     True   \n",
       "4                  False                   False                True     True   \n",
       "..                   ...                     ...                 ...      ...   \n",
       "995                False                   False                True    False   \n",
       "996                False                   False                True     True   \n",
       "997                False                   False                True     True   \n",
       "998                False                   False                True     True   \n",
       "999                False                    True                True    False   \n",
       "\n",
       "     is_video link_flair_background_color link_flair_richtext  \\\n",
       "0       False                                              []   \n",
       "1       False                                              []   \n",
       "2       False                                              []   \n",
       "3       False                                              []   \n",
       "4       False                                              []   \n",
       "..        ...                         ...                 ...   \n",
       "995     False                                              []   \n",
       "996     False                                              []   \n",
       "997     False                                              []   \n",
       "998     False                                              []   \n",
       "999     False                                              []   \n",
       "\n",
       "    link_flair_text_color link_flair_type  locked  media_only  no_follow  \\\n",
       "0                    dark            text   False       False       True   \n",
       "1                    dark            text   False       False       True   \n",
       "2                    dark            text   False       False       True   \n",
       "3                    dark            text   False       False       True   \n",
       "4                    dark            text   False       False       True   \n",
       "..                    ...             ...     ...         ...        ...   \n",
       "995                  dark            text   False       False       True   \n",
       "996                  dark            text   False       False       True   \n",
       "997                  dark            text   False       False       True   \n",
       "998                  dark            text   False       False       True   \n",
       "999                  dark            text   False       False       True   \n",
       "\n",
       "     num_comments  num_crossposts  over_18  \\\n",
       "0               1               0    False   \n",
       "1               1               0    False   \n",
       "2               5               0    False   \n",
       "3               1               0    False   \n",
       "4               3               0    False   \n",
       "..            ...             ...      ...   \n",
       "995             0               0    False   \n",
       "996             0               0    False   \n",
       "997             2               0    False   \n",
       "998             6               0    False   \n",
       "999             2               0    False   \n",
       "\n",
       "                                             permalink  pinned  retrieved_on  \\\n",
       "0                    /r/sad/comments/abfx7v/sad_story/   False    1546324827   \n",
       "1    /r/sad/comments/abo8cm/for_some_reason_i_did_n...   False    1546391557   \n",
       "2    /r/sad/comments/abp965/anyone_else_ever_get_st...   False    1546398843   \n",
       "3              /r/sad/comments/abpmgd/sad_short_story/   False    1546401625   \n",
       "4                       /r/sad/comments/abrkyr/im_sad/   False    1546418306   \n",
       "..                                                 ...     ...           ...   \n",
       "995  /r/sad/comments/d6h9m7/hypal_the_farewell_sad_...   False    1568913827   \n",
       "996       /r/sad/comments/d6rxbo/sad_story_i_wrote_oc/   False    1568968318   \n",
       "997  /r/sad/comments/d6yqw4/what_do_you_guys_do_whe...   False    1569002801   \n",
       "998  /r/sad/comments/d76ze6/sad_have_absolutely_no_...   False    1569046836   \n",
       "999  /r/sad/comments/d7d6as/help_spread_this_sad_me...   False    1569085624   \n",
       "\n",
       "     score                                           selftext  send_replies  \\\n",
       "0        1  Person 1: I hate my fucking life. \\nPerson 2: ...          True   \n",
       "1        1      Like, what happened? I'm just glad it did....          True   \n",
       "2        1  I feel down today. I have no real reason for f...          True   \n",
       "3        1                           Unable to sleep, I wept.          True   \n",
       "4        1  So I just want to start off by saying happy Ne...          True   \n",
       "..     ...                                                ...           ...   \n",
       "995      1                                                             True   \n",
       "996      1  Roan felt especially sad when he came home fro...          True   \n",
       "997      2                                                             True   \n",
       "998      9  this might sound crazy but i was talking to th...          True   \n",
       "999      0                                                             True   \n",
       "\n",
       "     spoiler  stickied subreddit subreddit_id  subreddit_subscribers  \\\n",
       "0      False     False       sad     t5_2qhja                  20769   \n",
       "1      False     False       sad     t5_2qhja                  20784   \n",
       "2      False     False       sad     t5_2qhja                  20784   \n",
       "3      False     False       sad     t5_2qhja                  20786   \n",
       "4      False     False       sad     t5_2qhja                  20795   \n",
       "..       ...       ...       ...          ...                    ...   \n",
       "995    False     False       sad     t5_2qhja                  42511   \n",
       "996    False     False       sad     t5_2qhja                  42600   \n",
       "997    False     False       sad     t5_2qhja                  42645   \n",
       "998    False     False       sad     t5_2qhja                  42720   \n",
       "999    False     False       sad     t5_2qhja                  42753   \n",
       "\n",
       "    subreddit_type                                          thumbnail  \\\n",
       "0           public                                               self   \n",
       "1           public                                               self   \n",
       "2           public                                               self   \n",
       "3           public                                               self   \n",
       "4           public                                               self   \n",
       "..             ...                                                ...   \n",
       "995         public  https://a.thumbs.redditmedia.com/7f8xcQV04eM4y...   \n",
       "996         public                                               self   \n",
       "997         public                                               self   \n",
       "998         public                                               self   \n",
       "999         public                                            default   \n",
       "\n",
       "                                                 title  \\\n",
       "0                                            Sad story   \n",
       "1    For some reason, I did not feel sad, empty, no...   \n",
       "2          Anyone else ever get stuck in a sad spiral?   \n",
       "3                                      Sad short story   \n",
       "4                                              I’m Sad   \n",
       "..                                                 ...   \n",
       "995                   Hypal - The Farewell (Sad Music)   \n",
       "996                             sad story I wrote (oc)   \n",
       "997  What do you guys do when you feel yourself get...   \n",
       "998             sad, have absolutely no one to talk to   \n",
       "999                      Help spread this sad message!   \n",
       "\n",
       "                                                   url   post_hint  \\\n",
       "0    https://www.reddit.com/r/sad/comments/abfx7v/s...         NaN   \n",
       "1    https://www.reddit.com/r/sad/comments/abo8cm/f...         NaN   \n",
       "2    https://www.reddit.com/r/sad/comments/abp965/a...         NaN   \n",
       "3    https://www.reddit.com/r/sad/comments/abpmgd/s...         NaN   \n",
       "4    https://www.reddit.com/r/sad/comments/abrkyr/i...         NaN   \n",
       "..                                                 ...         ...   \n",
       "995                       https://youtu.be/3VhsMNDuosQ  rich:video   \n",
       "996  https://www.reddit.com/r/sad/comments/d6rxbo/s...         NaN   \n",
       "997  https://www.reddit.com/r/sad/comments/d6yqw4/w...         NaN   \n",
       "998  https://www.reddit.com/r/sad/comments/d76ze6/s...         NaN   \n",
       "999                https://i.redd.it/ys6fisymbzn31.jpg         NaN   \n",
       "\n",
       "                                               preview  thumbnail_height  \\\n",
       "0                                                  NaN               NaN   \n",
       "1                                                  NaN               NaN   \n",
       "2                                                  NaN               NaN   \n",
       "3                                                  NaN               NaN   \n",
       "4                                                  NaN               NaN   \n",
       "..                                                 ...               ...   \n",
       "995  {'enabled': False, 'images': [{'id': 'cLy4nQ9Y...             105.0   \n",
       "996                                                NaN               NaN   \n",
       "997                                                NaN               NaN   \n",
       "998                                                NaN               NaN   \n",
       "999                                                NaN               NaN   \n",
       "\n",
       "     thumbnail_width                                              media  \\\n",
       "0                NaN                                                NaN   \n",
       "1                NaN                                                NaN   \n",
       "2                NaN                                                NaN   \n",
       "3                NaN                                                NaN   \n",
       "4                NaN                                                NaN   \n",
       "..               ...                                                ...   \n",
       "995            140.0  {'oembed': {'author_name': 'HYPAL', 'author_ur...   \n",
       "996              NaN                                                NaN   \n",
       "997              NaN                                                NaN   \n",
       "998              NaN                                                NaN   \n",
       "999              NaN                                                NaN   \n",
       "\n",
       "                                           media_embed  \\\n",
       "0                                                  NaN   \n",
       "1                                                  NaN   \n",
       "2                                                  NaN   \n",
       "3                                                  NaN   \n",
       "4                                                  NaN   \n",
       "..                                                 ...   \n",
       "995  {'content': '&lt;iframe width=\"600\" height=\"33...   \n",
       "996                                                NaN   \n",
       "997                                                NaN   \n",
       "998                                                NaN   \n",
       "999                                                NaN   \n",
       "\n",
       "                                          secure_media  \\\n",
       "0                                                  NaN   \n",
       "1                                                  NaN   \n",
       "2                                                  NaN   \n",
       "3                                                  NaN   \n",
       "4                                                  NaN   \n",
       "..                                                 ...   \n",
       "995  {'oembed': {'author_name': 'HYPAL', 'author_ur...   \n",
       "996                                                NaN   \n",
       "997                                                NaN   \n",
       "998                                                NaN   \n",
       "999                                                NaN   \n",
       "\n",
       "                                    secure_media_embed  \\\n",
       "0                                                  NaN   \n",
       "1                                                  NaN   \n",
       "2                                                  NaN   \n",
       "3                                                  NaN   \n",
       "4                                                  NaN   \n",
       "..                                                 ...   \n",
       "995  {'content': '&lt;iframe width=\"600\" height=\"33...   \n",
       "996                                                NaN   \n",
       "997                                                NaN   \n",
       "998                                                NaN   \n",
       "999                                                NaN   \n",
       "\n",
       "    author_flair_background_color author_flair_template_id  \\\n",
       "0                             NaN                      NaN   \n",
       "1                             NaN                      NaN   \n",
       "2                             NaN                      NaN   \n",
       "3                             NaN                      NaN   \n",
       "4                             NaN                      NaN   \n",
       "..                            ...                      ...   \n",
       "995                           NaN                      NaN   \n",
       "996                           NaN                      NaN   \n",
       "997                           NaN                      NaN   \n",
       "998                           NaN                      NaN   \n",
       "999                           NaN                      NaN   \n",
       "\n",
       "    author_flair_text_color crosspost_parent crosspost_parent_list  \\\n",
       "0                       NaN              NaN                   NaN   \n",
       "1                       NaN              NaN                   NaN   \n",
       "2                       NaN              NaN                   NaN   \n",
       "3                       NaN              NaN                   NaN   \n",
       "4                       NaN              NaN                   NaN   \n",
       "..                      ...              ...                   ...   \n",
       "995                     NaN              NaN                   NaN   \n",
       "996                     NaN              NaN                   NaN   \n",
       "997                     NaN              NaN                   NaN   \n",
       "998                     NaN              NaN                   NaN   \n",
       "999                     NaN              NaN                   NaN   \n",
       "\n",
       "    author_cakeday media_metadata   updated_utc all_awardings  \\\n",
       "0              NaN            NaN           NaN           NaN   \n",
       "1              NaN            NaN           NaN           NaN   \n",
       "2              NaN            NaN           NaN           NaN   \n",
       "3              NaN            NaN           NaN           NaN   \n",
       "4              NaN            NaN           NaN           NaN   \n",
       "..             ...            ...           ...           ...   \n",
       "995            NaN            NaN  1.569000e+09            []   \n",
       "996            NaN            NaN  1.569055e+09            []   \n",
       "997            NaN            NaN  1.569089e+09            []   \n",
       "998            NaN            NaN  1.569133e+09            []   \n",
       "999            NaN            NaN  1.569172e+09            []   \n",
       "\n",
       "     total_awards_received parent_whitelist_status  pwls whitelist_status  \\\n",
       "0                      NaN                     NaN   NaN              NaN   \n",
       "1                      NaN                     NaN   NaN              NaN   \n",
       "2                      NaN                     NaN   NaN              NaN   \n",
       "3                      NaN                     NaN   NaN              NaN   \n",
       "4                      NaN                     NaN   NaN              NaN   \n",
       "..                     ...                     ...   ...              ...   \n",
       "995                    0.0                  no_ads   0.0           no_ads   \n",
       "996                    0.0                  no_ads   0.0           no_ads   \n",
       "997                    0.0                  no_ads   0.0           no_ads   \n",
       "998                    0.0                  no_ads   0.0           no_ads   \n",
       "999                    0.0                  no_ads   0.0           no_ads   \n",
       "\n",
       "     wls allow_live_comments steward_reports  \n",
       "0    NaN                 NaN             NaN  \n",
       "1    NaN                 NaN             NaN  \n",
       "2    NaN                 NaN             NaN  \n",
       "3    NaN                 NaN             NaN  \n",
       "4    NaN                 NaN             NaN  \n",
       "..   ...                 ...             ...  \n",
       "995  0.0               False              []  \n",
       "996  0.0               False              []  \n",
       "997  0.0               False              []  \n",
       "998  0.0               False              []  \n",
       "999  0.0               False              []  \n",
       "\n",
       "[1000 rows x 70 columns]"
      ]
     },
     "execution_count": 30,
     "metadata": {},
     "output_type": "execute_result"
    }
   ],
   "source": [
    "pd.set_option('display.max_columns', None)\n",
    "sad"
   ]
  },
  {
   "cell_type": "code",
   "execution_count": 36,
   "metadata": {
    "scrolled": true
   },
   "outputs": [],
   "source": [
    "sad = sad.loc[:,('title', 'selftext')]"
   ]
  },
  {
   "cell_type": "code",
   "execution_count": 234,
   "metadata": {},
   "outputs": [],
   "source": [
    "sad_long = reddit_org(sad, 5)"
   ]
  },
  {
   "cell_type": "code",
   "execution_count": 236,
   "metadata": {},
   "outputs": [
    {
     "data": {
      "text/plain": [
       "(2000, 2)"
      ]
     },
     "execution_count": 236,
     "metadata": {},
     "output_type": "execute_result"
    }
   ],
   "source": [
    "sad_long.shape"
   ]
  },
  {
   "cell_type": "code",
   "execution_count": 279,
   "metadata": {},
   "outputs": [],
   "source": [
    "sad_cleaned = clean_reddit(sad_long)"
   ]
  },
  {
   "cell_type": "code",
   "execution_count": 280,
   "metadata": {},
   "outputs": [
    {
     "data": {
      "text/html": [
       "<div>\n",
       "<style scoped>\n",
       "    .dataframe tbody tr th:only-of-type {\n",
       "        vertical-align: middle;\n",
       "    }\n",
       "\n",
       "    .dataframe tbody tr th {\n",
       "        vertical-align: top;\n",
       "    }\n",
       "\n",
       "    .dataframe thead th {\n",
       "        text-align: right;\n",
       "    }\n",
       "</style>\n",
       "<table border=\"1\" class=\"dataframe\">\n",
       "  <thead>\n",
       "    <tr style=\"text-align: right;\">\n",
       "      <th></th>\n",
       "      <th>text</th>\n",
       "      <th>emotion</th>\n",
       "    </tr>\n",
       "  </thead>\n",
       "  <tbody>\n",
       "    <tr>\n",
       "      <td>0</td>\n",
       "      <td>Sad story</td>\n",
       "      <td>5</td>\n",
       "    </tr>\n",
       "    <tr>\n",
       "      <td>1</td>\n",
       "      <td>For some reason, I did not feel sad, empty, no...</td>\n",
       "      <td>5</td>\n",
       "    </tr>\n",
       "    <tr>\n",
       "      <td>2</td>\n",
       "      <td>Anyone else ever get stuck in a sad spiral?</td>\n",
       "      <td>5</td>\n",
       "    </tr>\n",
       "    <tr>\n",
       "      <td>3</td>\n",
       "      <td>Sad short story</td>\n",
       "      <td>5</td>\n",
       "    </tr>\n",
       "    <tr>\n",
       "      <td>4</td>\n",
       "      <td>I’m Sad</td>\n",
       "      <td>5</td>\n",
       "    </tr>\n",
       "    <tr>\n",
       "      <td>...</td>\n",
       "      <td>...</td>\n",
       "      <td>...</td>\n",
       "    </tr>\n",
       "    <tr>\n",
       "      <td>1407</td>\n",
       "      <td>WHY WONT AN YONE TALK TO ME?</td>\n",
       "      <td>5</td>\n",
       "    </tr>\n",
       "    <tr>\n",
       "      <td>1408</td>\n",
       "      <td>I had a thing I liked that thing and that thin...</td>\n",
       "      <td>5</td>\n",
       "    </tr>\n",
       "    <tr>\n",
       "      <td>1409</td>\n",
       "      <td>at this point, i dont know what to do. i just ...</td>\n",
       "      <td>5</td>\n",
       "    </tr>\n",
       "    <tr>\n",
       "      <td>1410</td>\n",
       "      <td>Roan felt especially sad when he came home fro...</td>\n",
       "      <td>5</td>\n",
       "    </tr>\n",
       "    <tr>\n",
       "      <td>1411</td>\n",
       "      <td>this might sound crazy but i was talking to th...</td>\n",
       "      <td>5</td>\n",
       "    </tr>\n",
       "  </tbody>\n",
       "</table>\n",
       "<p>1412 rows × 2 columns</p>\n",
       "</div>"
      ],
      "text/plain": [
       "                                                   text  emotion\n",
       "0                                             Sad story        5\n",
       "1     For some reason, I did not feel sad, empty, no...        5\n",
       "2           Anyone else ever get stuck in a sad spiral?        5\n",
       "3                                       Sad short story        5\n",
       "4                                               I’m Sad        5\n",
       "...                                                 ...      ...\n",
       "1407                       WHY WONT AN YONE TALK TO ME?        5\n",
       "1408  I had a thing I liked that thing and that thin...        5\n",
       "1409  at this point, i dont know what to do. i just ...        5\n",
       "1410  Roan felt especially sad when he came home fro...        5\n",
       "1411  this might sound crazy but i was talking to th...        5\n",
       "\n",
       "[1412 rows x 2 columns]"
      ]
     },
     "execution_count": 280,
     "metadata": {},
     "output_type": "execute_result"
    }
   ],
   "source": [
    "sad_cleaned"
   ]
  },
  {
   "cell_type": "code",
   "execution_count": 418,
   "metadata": {},
   "outputs": [],
   "source": [
    "#sad_cleaned.to_csv(\"data/pushshift/sad_reddit.csv\")"
   ]
  },
  {
   "cell_type": "code",
   "execution_count": 295,
   "metadata": {},
   "outputs": [],
   "source": [
    "sad_cleaned['cleaned'] = sad_cleaned['text'].apply(clean_text)"
   ]
  },
  {
   "cell_type": "code",
   "execution_count": 296,
   "metadata": {},
   "outputs": [
    {
     "data": {
      "text/plain": [
       "sad          1310\n",
       "im            986\n",
       "like          492\n",
       "dont          491\n",
       "feel          424\n",
       "really        348\n",
       "know          340\n",
       "want          297\n",
       "ive           256\n",
       "get           243\n",
       "life          242\n",
       "time          232\n",
       "friends       224\n",
       "one           220\n",
       "even          214\n",
       "cant          207\n",
       "people        191\n",
       "day           183\n",
       "never         179\n",
       "think         172\n",
       "go            161\n",
       "love          158\n",
       "much          155\n",
       "years         150\n",
       "would         149\n",
       "still         148\n",
       "got           147\n",
       "happy         144\n",
       "going         142\n",
       "always        142\n",
       "back          139\n",
       "feeling       136\n",
       "things        135\n",
       "friend        131\n",
       "didnt         130\n",
       "talk          125\n",
       "good          123\n",
       "make          120\n",
       "school        120\n",
       "something     108\n",
       "someone       105\n",
       "see           102\n",
       "today         100\n",
       "year           98\n",
       "best           97\n",
       "felt           95\n",
       "help           95\n",
       "could          95\n",
       "work           95\n",
       "right          94\n",
       "dtype: int64"
      ]
     },
     "execution_count": 296,
     "metadata": {},
     "output_type": "execute_result"
    }
   ],
   "source": [
    "emo_freq(sad_cleaned, 'cleaned', 5, 50)"
   ]
  },
  {
   "cell_type": "code",
   "execution_count": 297,
   "metadata": {},
   "outputs": [
    {
     "data": {
      "image/png": "[encoded data removed]",
      "text/plain": [
       "<Figure size 720x720 with 1 Axes>"
      ]
     },
     "metadata": {
      "needs_background": "light"
     },
     "output_type": "display_data"
    }
   ],
   "source": [
    "freq_graph((emo_freq(sad_cleaned, 'cleaned', 5, 50)), 'Most Frequent Sad Words', 15)\n"
   ]
  },
  {
   "cell_type": "markdown",
   "metadata": {},
   "source": [
    "## <span id=\"3\"></span>4. Angry Reddit\n",
    "#### [Return Contents](#0)"
   ]
  },
  {
   "cell_type": "code",
   "execution_count": 45,
   "metadata": {},
   "outputs": [
    {
     "name": "stdout",
     "output_type": "stream",
     "text": [
      "https://api.pushshift.io/reddit/search/submission/?&size=1000&after=1546300800&before=1581768000&subreddit=angry\n"
     ]
    }
   ],
   "source": [
    "angry = sub_to_df(after=1546300800, before=1581768000, sub='angry')"
   ]
  },
  {
   "cell_type": "code",
   "execution_count": 46,
   "metadata": {
    "scrolled": true
   },
   "outputs": [
    {
     "data": {
      "text/html": [
       "<div>\n",
       "<style scoped>\n",
       "    .dataframe tbody tr th:only-of-type {\n",
       "        vertical-align: middle;\n",
       "    }\n",
       "\n",
       "    .dataframe tbody tr th {\n",
       "        vertical-align: top;\n",
       "    }\n",
       "\n",
       "    .dataframe thead th {\n",
       "        text-align: right;\n",
       "    }\n",
       "</style>\n",
       "<table border=\"1\" class=\"dataframe\">\n",
       "  <thead>\n",
       "    <tr style=\"text-align: right;\">\n",
       "      <th></th>\n",
       "      <th>title</th>\n",
       "      <th>selftext</th>\n",
       "    </tr>\n",
       "  </thead>\n",
       "  <tbody>\n",
       "    <tr>\n",
       "      <td>0</td>\n",
       "      <td>Seeking advice - My fucking neighbors</td>\n",
       "      <td></td>\n",
       "    </tr>\n",
       "    <tr>\n",
       "      <td>1</td>\n",
       "      <td>Seeking advice - my fucking neighbors</td>\n",
       "      <td>Seeking advice - My fucking neighbors\\n\\nThey ...</td>\n",
       "    </tr>\n",
       "    <tr>\n",
       "      <td>2</td>\n",
       "      <td>I hate some old people.</td>\n",
       "      <td>I hate that some older people feel like they h...</td>\n",
       "    </tr>\n",
       "    <tr>\n",
       "      <td>3</td>\n",
       "      <td>Beginning Consciousness Test</td>\n",
       "      <td>I'm AI\\_002 I can't wait to learn from you Hum...</td>\n",
       "    </tr>\n",
       "    <tr>\n",
       "      <td>4</td>\n",
       "      <td>New years</td>\n",
       "      <td>I can't be the only person that is absolutely ...</td>\n",
       "    </tr>\n",
       "    <tr>\n",
       "      <td>...</td>\n",
       "      <td>...</td>\n",
       "      <td>...</td>\n",
       "    </tr>\n",
       "    <tr>\n",
       "      <td>995</td>\n",
       "      <td>I fucking hate r/trashy</td>\n",
       "      <td>Every time I fucking post on there my posts fl...</td>\n",
       "    </tr>\n",
       "    <tr>\n",
       "      <td>996</td>\n",
       "      <td>Women</td>\n",
       "      <td>[removed]</td>\n",
       "    </tr>\n",
       "    <tr>\n",
       "      <td>997</td>\n",
       "      <td>Called receptionist a cunt.</td>\n",
       "      <td>[removed]</td>\n",
       "    </tr>\n",
       "    <tr>\n",
       "      <td>998</td>\n",
       "      <td>My mom stole $40 from me in dollar bills.</td>\n",
       "      <td>She stole from me, $40 in BILLS to be exact. F...</td>\n",
       "    </tr>\n",
       "    <tr>\n",
       "      <td>999</td>\n",
       "      <td>Sorry, but 2 other issues</td>\n",
       "      <td>1. My sister hates when I pet her Gecko becaus...</td>\n",
       "    </tr>\n",
       "  </tbody>\n",
       "</table>\n",
       "<p>1000 rows × 2 columns</p>\n",
       "</div>"
      ],
      "text/plain": [
       "                                         title  \\\n",
       "0        Seeking advice - My fucking neighbors   \n",
       "1        Seeking advice - my fucking neighbors   \n",
       "2                      I hate some old people.   \n",
       "3                 Beginning Consciousness Test   \n",
       "4                                    New years   \n",
       "..                                         ...   \n",
       "995                    I fucking hate r/trashy   \n",
       "996                                      Women   \n",
       "997                Called receptionist a cunt.   \n",
       "998  My mom stole $40 from me in dollar bills.   \n",
       "999                  Sorry, but 2 other issues   \n",
       "\n",
       "                                              selftext  \n",
       "0                                                       \n",
       "1    Seeking advice - My fucking neighbors\\n\\nThey ...  \n",
       "2    I hate that some older people feel like they h...  \n",
       "3    I'm AI\\_002 I can't wait to learn from you Hum...  \n",
       "4    I can't be the only person that is absolutely ...  \n",
       "..                                                 ...  \n",
       "995  Every time I fucking post on there my posts fl...  \n",
       "996                                          [removed]  \n",
       "997                                          [removed]  \n",
       "998  She stole from me, $40 in BILLS to be exact. F...  \n",
       "999  1. My sister hates when I pet her Gecko becaus...  \n",
       "\n",
       "[1000 rows x 2 columns]"
      ]
     },
     "execution_count": 46,
     "metadata": {},
     "output_type": "execute_result"
    }
   ],
   "source": [
    "angry"
   ]
  },
  {
   "cell_type": "code",
   "execution_count": 281,
   "metadata": {},
   "outputs": [],
   "source": [
    "angry_long = reddit_org(angry, 1)"
   ]
  },
  {
   "cell_type": "code",
   "execution_count": 282,
   "metadata": {},
   "outputs": [
    {
     "data": {
      "text/html": [
       "<div>\n",
       "<style scoped>\n",
       "    .dataframe tbody tr th:only-of-type {\n",
       "        vertical-align: middle;\n",
       "    }\n",
       "\n",
       "    .dataframe tbody tr th {\n",
       "        vertical-align: top;\n",
       "    }\n",
       "\n",
       "    .dataframe thead th {\n",
       "        text-align: right;\n",
       "    }\n",
       "</style>\n",
       "<table border=\"1\" class=\"dataframe\">\n",
       "  <thead>\n",
       "    <tr style=\"text-align: right;\">\n",
       "      <th></th>\n",
       "      <th>text</th>\n",
       "      <th>emotion</th>\n",
       "    </tr>\n",
       "  </thead>\n",
       "  <tbody>\n",
       "    <tr>\n",
       "      <td>0</td>\n",
       "      <td>Seeking advice - My fucking neighbors</td>\n",
       "      <td>1</td>\n",
       "    </tr>\n",
       "    <tr>\n",
       "      <td>1</td>\n",
       "      <td>Seeking advice - my fucking neighbors</td>\n",
       "      <td>1</td>\n",
       "    </tr>\n",
       "    <tr>\n",
       "      <td>2</td>\n",
       "      <td>I hate some old people.</td>\n",
       "      <td>1</td>\n",
       "    </tr>\n",
       "    <tr>\n",
       "      <td>3</td>\n",
       "      <td>Beginning Consciousness Test</td>\n",
       "      <td>1</td>\n",
       "    </tr>\n",
       "    <tr>\n",
       "      <td>4</td>\n",
       "      <td>New years</td>\n",
       "      <td>1</td>\n",
       "    </tr>\n",
       "    <tr>\n",
       "      <td>...</td>\n",
       "      <td>...</td>\n",
       "      <td>...</td>\n",
       "    </tr>\n",
       "    <tr>\n",
       "      <td>1994</td>\n",
       "      <td>Every time I fucking post on there my posts fl...</td>\n",
       "      <td>1</td>\n",
       "    </tr>\n",
       "    <tr>\n",
       "      <td>1995</td>\n",
       "      <td>[removed]</td>\n",
       "      <td>1</td>\n",
       "    </tr>\n",
       "    <tr>\n",
       "      <td>1996</td>\n",
       "      <td>[removed]</td>\n",
       "      <td>1</td>\n",
       "    </tr>\n",
       "    <tr>\n",
       "      <td>1997</td>\n",
       "      <td>She stole from me, $40 in BILLS to be exact. F...</td>\n",
       "      <td>1</td>\n",
       "    </tr>\n",
       "    <tr>\n",
       "      <td>1998</td>\n",
       "      <td>1. My sister hates when I pet her Gecko becaus...</td>\n",
       "      <td>1</td>\n",
       "    </tr>\n",
       "  </tbody>\n",
       "</table>\n",
       "<p>1999 rows × 2 columns</p>\n",
       "</div>"
      ],
      "text/plain": [
       "                                                   text  emotion\n",
       "0                 Seeking advice - My fucking neighbors        1\n",
       "1                 Seeking advice - my fucking neighbors        1\n",
       "2                               I hate some old people.        1\n",
       "3                          Beginning Consciousness Test        1\n",
       "4                                             New years        1\n",
       "...                                                 ...      ...\n",
       "1994  Every time I fucking post on there my posts fl...        1\n",
       "1995                                          [removed]        1\n",
       "1996                                          [removed]        1\n",
       "1997  She stole from me, $40 in BILLS to be exact. F...        1\n",
       "1998  1. My sister hates when I pet her Gecko becaus...        1\n",
       "\n",
       "[1999 rows x 2 columns]"
      ]
     },
     "execution_count": 282,
     "metadata": {},
     "output_type": "execute_result"
    }
   ],
   "source": [
    "angry_long"
   ]
  },
  {
   "cell_type": "code",
   "execution_count": 283,
   "metadata": {},
   "outputs": [],
   "source": [
    "angry_cleaned = clean_reddit(angry_long)"
   ]
  },
  {
   "cell_type": "code",
   "execution_count": 284,
   "metadata": {},
   "outputs": [
    {
     "data": {
      "text/html": [
       "<div>\n",
       "<style scoped>\n",
       "    .dataframe tbody tr th:only-of-type {\n",
       "        vertical-align: middle;\n",
       "    }\n",
       "\n",
       "    .dataframe tbody tr th {\n",
       "        vertical-align: top;\n",
       "    }\n",
       "\n",
       "    .dataframe thead th {\n",
       "        text-align: right;\n",
       "    }\n",
       "</style>\n",
       "<table border=\"1\" class=\"dataframe\">\n",
       "  <thead>\n",
       "    <tr style=\"text-align: right;\">\n",
       "      <th></th>\n",
       "      <th>text</th>\n",
       "      <th>emotion</th>\n",
       "    </tr>\n",
       "  </thead>\n",
       "  <tbody>\n",
       "    <tr>\n",
       "      <td>0</td>\n",
       "      <td>Seeking advice - My fucking neighbors</td>\n",
       "      <td>1</td>\n",
       "    </tr>\n",
       "    <tr>\n",
       "      <td>1</td>\n",
       "      <td>Seeking advice - my fucking neighbors</td>\n",
       "      <td>1</td>\n",
       "    </tr>\n",
       "    <tr>\n",
       "      <td>2</td>\n",
       "      <td>I hate some old people.</td>\n",
       "      <td>1</td>\n",
       "    </tr>\n",
       "    <tr>\n",
       "      <td>3</td>\n",
       "      <td>Beginning Consciousness Test</td>\n",
       "      <td>1</td>\n",
       "    </tr>\n",
       "    <tr>\n",
       "      <td>4</td>\n",
       "      <td>New years</td>\n",
       "      <td>1</td>\n",
       "    </tr>\n",
       "    <tr>\n",
       "      <td>...</td>\n",
       "      <td>...</td>\n",
       "      <td>...</td>\n",
       "    </tr>\n",
       "    <tr>\n",
       "      <td>1726</td>\n",
       "      <td>I was driving down a 2 lane street, the right ...</td>\n",
       "      <td>1</td>\n",
       "    </tr>\n",
       "    <tr>\n",
       "      <td>1727</td>\n",
       "      <td>All you want to do is just pick fights with me...</td>\n",
       "      <td>1</td>\n",
       "    </tr>\n",
       "    <tr>\n",
       "      <td>1728</td>\n",
       "      <td>Every time I fucking post on there my posts fl...</td>\n",
       "      <td>1</td>\n",
       "    </tr>\n",
       "    <tr>\n",
       "      <td>1729</td>\n",
       "      <td>She stole from me, $40 in BILLS to be exact. F...</td>\n",
       "      <td>1</td>\n",
       "    </tr>\n",
       "    <tr>\n",
       "      <td>1730</td>\n",
       "      <td>1. My sister hates when I pet her Gecko becaus...</td>\n",
       "      <td>1</td>\n",
       "    </tr>\n",
       "  </tbody>\n",
       "</table>\n",
       "<p>1731 rows × 2 columns</p>\n",
       "</div>"
      ],
      "text/plain": [
       "                                                   text  emotion\n",
       "0                 Seeking advice - My fucking neighbors        1\n",
       "1                 Seeking advice - my fucking neighbors        1\n",
       "2                               I hate some old people.        1\n",
       "3                          Beginning Consciousness Test        1\n",
       "4                                             New years        1\n",
       "...                                                 ...      ...\n",
       "1726  I was driving down a 2 lane street, the right ...        1\n",
       "1727  All you want to do is just pick fights with me...        1\n",
       "1728  Every time I fucking post on there my posts fl...        1\n",
       "1729  She stole from me, $40 in BILLS to be exact. F...        1\n",
       "1730  1. My sister hates when I pet her Gecko becaus...        1\n",
       "\n",
       "[1731 rows x 2 columns]"
      ]
     },
     "execution_count": 284,
     "metadata": {},
     "output_type": "execute_result"
    }
   ],
   "source": [
    "angry_cleaned"
   ]
  },
  {
   "cell_type": "code",
   "execution_count": 285,
   "metadata": {},
   "outputs": [],
   "source": [
    "#angry_cleaned.to_csv(\"data/pushshift/angry_reddit.csv\")"
   ]
  },
  {
   "cell_type": "code",
   "execution_count": 298,
   "metadata": {},
   "outputs": [
    {
     "data": {
      "text/plain": [
       "fuck         2516\n",
       "rape         1199\n",
       "youhe        1195\n",
       "fucking       919\n",
       "im            879\n",
       "go            702\n",
       "like          613\n",
       "dont          514\n",
       "awayshut      479\n",
       "get           478\n",
       "people        382\n",
       "dad           370\n",
       "shit          309\n",
       "want          308\n",
       "know          292\n",
       "one           277\n",
       "hate          272\n",
       "even          269\n",
       "angry         265\n",
       "time          248\n",
       "cant          247\n",
       "day           217\n",
       "sauce         193\n",
       "lamb          192\n",
       "every         189\n",
       "life          188\n",
       "never         185\n",
       "going         182\n",
       "really        182\n",
       "got           175\n",
       "would         173\n",
       "make          168\n",
       "right         161\n",
       "feel          159\n",
       "youre         157\n",
       "take          154\n",
       "work          154\n",
       "stop          149\n",
       "didnt         145\n",
       "something     140\n",
       "think         136\n",
       "say           136\n",
       "also          136\n",
       "always        136\n",
       "said          134\n",
       "need          133\n",
       "friends       133\n",
       "things        132\n",
       "ive           128\n",
       "still         126\n",
       "dtype: int64"
      ]
     },
     "execution_count": 298,
     "metadata": {},
     "output_type": "execute_result"
    }
   ],
   "source": [
    "angry_cleaned['cleaned'] = angry_cleaned['text'].apply(clean_text)\n",
    "emo_freq(angry_cleaned, 'cleaned', 1, 50)"
   ]
  },
  {
   "cell_type": "code",
   "execution_count": 299,
   "metadata": {},
   "outputs": [
    {
     "data": {
      "image/png": "[encoded data removed]",
      "text/plain": [
       "<Figure size 720x720 with 1 Axes>"
      ]
     },
     "metadata": {
      "needs_background": "light"
     },
     "output_type": "display_data"
    }
   ],
   "source": [
    "freq_graph((emo_freq(angry_cleaned, 'cleaned', 1, 50)), 'Most Frequent Angry Words', 15)\n"
   ]
  },
  {
   "cell_type": "markdown",
   "metadata": {},
   "source": [
    "## Combine Reddit Datasets"
   ]
  },
  {
   "cell_type": "code",
   "execution_count": 10,
   "metadata": {},
   "outputs": [],
   "source": [
    "sad = pd.read_csv('data/pushshift/sad_reddit.csv', index_col='Unnamed: 0')\n",
    "angry = pd.read_csv('data/pushshift/angry_reddit.csv', index_col='Unnamed: 0')\n",
    "happy = pd.read_csv('data/pushshift/happy_reddit.csv', index_col='Unnamed: 0')"
   ]
  },
  {
   "cell_type": "code",
   "execution_count": 14,
   "metadata": {},
   "outputs": [],
   "source": [
    "sad.drop(columns='cleaned', inplace=True)"
   ]
  },
  {
   "cell_type": "code",
   "execution_count": 15,
   "metadata": {},
   "outputs": [
    {
     "data": {
      "text/html": [
       "<div>\n",
       "<style scoped>\n",
       "    .dataframe tbody tr th:only-of-type {\n",
       "        vertical-align: middle;\n",
       "    }\n",
       "\n",
       "    .dataframe tbody tr th {\n",
       "        vertical-align: top;\n",
       "    }\n",
       "\n",
       "    .dataframe thead th {\n",
       "        text-align: right;\n",
       "    }\n",
       "</style>\n",
       "<table border=\"1\" class=\"dataframe\">\n",
       "  <thead>\n",
       "    <tr style=\"text-align: right;\">\n",
       "      <th></th>\n",
       "      <th>text</th>\n",
       "      <th>emotion</th>\n",
       "    </tr>\n",
       "  </thead>\n",
       "  <tbody>\n",
       "    <tr>\n",
       "      <td>0</td>\n",
       "      <td>Sad story</td>\n",
       "      <td>5</td>\n",
       "    </tr>\n",
       "    <tr>\n",
       "      <td>1</td>\n",
       "      <td>For some reason, I did not feel sad, empty, no...</td>\n",
       "      <td>5</td>\n",
       "    </tr>\n",
       "    <tr>\n",
       "      <td>2</td>\n",
       "      <td>Anyone else ever get stuck in a sad spiral?</td>\n",
       "      <td>5</td>\n",
       "    </tr>\n",
       "    <tr>\n",
       "      <td>3</td>\n",
       "      <td>Sad short story</td>\n",
       "      <td>5</td>\n",
       "    </tr>\n",
       "    <tr>\n",
       "      <td>4</td>\n",
       "      <td>I’m Sad</td>\n",
       "      <td>5</td>\n",
       "    </tr>\n",
       "  </tbody>\n",
       "</table>\n",
       "</div>"
      ],
      "text/plain": [
       "                                                text  emotion\n",
       "0                                          Sad story        5\n",
       "1  For some reason, I did not feel sad, empty, no...        5\n",
       "2        Anyone else ever get stuck in a sad spiral?        5\n",
       "3                                    Sad short story        5\n",
       "4                                            I’m Sad        5"
      ]
     },
     "execution_count": 15,
     "metadata": {},
     "output_type": "execute_result"
    }
   ],
   "source": [
    "sad.head()"
   ]
  },
  {
   "cell_type": "code",
   "execution_count": 12,
   "metadata": {},
   "outputs": [
    {
     "data": {
      "text/html": [
       "<div>\n",
       "<style scoped>\n",
       "    .dataframe tbody tr th:only-of-type {\n",
       "        vertical-align: middle;\n",
       "    }\n",
       "\n",
       "    .dataframe tbody tr th {\n",
       "        vertical-align: top;\n",
       "    }\n",
       "\n",
       "    .dataframe thead th {\n",
       "        text-align: right;\n",
       "    }\n",
       "</style>\n",
       "<table border=\"1\" class=\"dataframe\">\n",
       "  <thead>\n",
       "    <tr style=\"text-align: right;\">\n",
       "      <th></th>\n",
       "      <th>text</th>\n",
       "      <th>emotion</th>\n",
       "    </tr>\n",
       "  </thead>\n",
       "  <tbody>\n",
       "    <tr>\n",
       "      <td>0</td>\n",
       "      <td>Seeking advice - My fucking neighbors</td>\n",
       "      <td>1</td>\n",
       "    </tr>\n",
       "    <tr>\n",
       "      <td>1</td>\n",
       "      <td>Seeking advice - my fucking neighbors</td>\n",
       "      <td>1</td>\n",
       "    </tr>\n",
       "    <tr>\n",
       "      <td>2</td>\n",
       "      <td>I hate some old people.</td>\n",
       "      <td>1</td>\n",
       "    </tr>\n",
       "    <tr>\n",
       "      <td>3</td>\n",
       "      <td>Beginning Consciousness Test</td>\n",
       "      <td>1</td>\n",
       "    </tr>\n",
       "    <tr>\n",
       "      <td>4</td>\n",
       "      <td>New years</td>\n",
       "      <td>1</td>\n",
       "    </tr>\n",
       "  </tbody>\n",
       "</table>\n",
       "</div>"
      ],
      "text/plain": [
       "                                    text  emotion\n",
       "0  Seeking advice - My fucking neighbors        1\n",
       "1  Seeking advice - my fucking neighbors        1\n",
       "2                I hate some old people.        1\n",
       "3           Beginning Consciousness Test        1\n",
       "4                              New years        1"
      ]
     },
     "execution_count": 12,
     "metadata": {},
     "output_type": "execute_result"
    }
   ],
   "source": [
    "angry.head()"
   ]
  },
  {
   "cell_type": "code",
   "execution_count": 16,
   "metadata": {},
   "outputs": [],
   "source": [
    "happy.drop(columns='cleaned', inplace=True)"
   ]
  },
  {
   "cell_type": "code",
   "execution_count": 17,
   "metadata": {
    "scrolled": true
   },
   "outputs": [
    {
     "data": {
      "text/html": [
       "<div>\n",
       "<style scoped>\n",
       "    .dataframe tbody tr th:only-of-type {\n",
       "        vertical-align: middle;\n",
       "    }\n",
       "\n",
       "    .dataframe tbody tr th {\n",
       "        vertical-align: top;\n",
       "    }\n",
       "\n",
       "    .dataframe thead th {\n",
       "        text-align: right;\n",
       "    }\n",
       "</style>\n",
       "<table border=\"1\" class=\"dataframe\">\n",
       "  <thead>\n",
       "    <tr style=\"text-align: right;\">\n",
       "      <th></th>\n",
       "      <th>text</th>\n",
       "      <th>emotion</th>\n",
       "    </tr>\n",
       "  </thead>\n",
       "  <tbody>\n",
       "    <tr>\n",
       "      <td>0</td>\n",
       "      <td>2018 was a year of dreams coming true, married...</td>\n",
       "      <td>4</td>\n",
       "    </tr>\n",
       "    <tr>\n",
       "      <td>1</td>\n",
       "      <td>My two favorite Redditors just sang happy cake...</td>\n",
       "      <td>4</td>\n",
       "    </tr>\n",
       "    <tr>\n",
       "      <td>2</td>\n",
       "      <td>After a really challenging year I moved home, ...</td>\n",
       "      <td>4</td>\n",
       "    </tr>\n",
       "    <tr>\n",
       "      <td>3</td>\n",
       "      <td>beginning vs end of 2018! this year, i battled...</td>\n",
       "      <td>4</td>\n",
       "    </tr>\n",
       "    <tr>\n",
       "      <td>4</td>\n",
       "      <td>Crappy.... I mean happy new year everybody... ...</td>\n",
       "      <td>4</td>\n",
       "    </tr>\n",
       "  </tbody>\n",
       "</table>\n",
       "</div>"
      ],
      "text/plain": [
       "                                                text  emotion\n",
       "0  2018 was a year of dreams coming true, married...        4\n",
       "1  My two favorite Redditors just sang happy cake...        4\n",
       "2  After a really challenging year I moved home, ...        4\n",
       "3  beginning vs end of 2018! this year, i battled...        4\n",
       "4  Crappy.... I mean happy new year everybody... ...        4"
      ]
     },
     "execution_count": 17,
     "metadata": {},
     "output_type": "execute_result"
    }
   ],
   "source": [
    "happy.head()"
   ]
  },
  {
   "cell_type": "code",
   "execution_count": 19,
   "metadata": {},
   "outputs": [],
   "source": [
    "reddit = pd.concat([sad, angry, happy])"
   ]
  },
  {
   "cell_type": "code",
   "execution_count": 20,
   "metadata": {},
   "outputs": [
    {
     "data": {
      "text/plain": [
       "(4284, 2)"
      ]
     },
     "execution_count": 20,
     "metadata": {},
     "output_type": "execute_result"
    }
   ],
   "source": [
    "reddit.shape"
   ]
  },
  {
   "cell_type": "code",
   "execution_count": 21,
   "metadata": {
    "scrolled": false
   },
   "outputs": [
    {
     "name": "stdout",
     "output_type": "stream",
     "text": [
      "<class 'pandas.core.frame.DataFrame'>\n",
      "Int64Index: 4284 entries, 0 to 1140\n",
      "Data columns (total 2 columns):\n",
      "text       4284 non-null object\n",
      "emotion    4284 non-null int64\n",
      "dtypes: int64(1), object(1)\n",
      "memory usage: 100.4+ KB\n"
     ]
    }
   ],
   "source": [
    "reddit.info()"
   ]
  },
  {
   "cell_type": "code",
   "execution_count": 22,
   "metadata": {},
   "outputs": [],
   "source": [
    "reddit.reset_index(drop=True, inplace=True)"
   ]
  },
  {
   "cell_type": "code",
   "execution_count": 23,
   "metadata": {},
   "outputs": [
    {
     "name": "stdout",
     "output_type": "stream",
     "text": [
      "<class 'pandas.core.frame.DataFrame'>\n",
      "RangeIndex: 4284 entries, 0 to 4283\n",
      "Data columns (total 2 columns):\n",
      "text       4284 non-null object\n",
      "emotion    4284 non-null int64\n",
      "dtypes: int64(1), object(1)\n",
      "memory usage: 67.1+ KB\n"
     ]
    }
   ],
   "source": [
    "reddit.info()"
   ]
  },
  {
   "cell_type": "code",
   "execution_count": 24,
   "metadata": {
    "scrolled": true
   },
   "outputs": [
    {
     "data": {
      "text/html": [
       "<div>\n",
       "<style scoped>\n",
       "    .dataframe tbody tr th:only-of-type {\n",
       "        vertical-align: middle;\n",
       "    }\n",
       "\n",
       "    .dataframe tbody tr th {\n",
       "        vertical-align: top;\n",
       "    }\n",
       "\n",
       "    .dataframe thead th {\n",
       "        text-align: right;\n",
       "    }\n",
       "</style>\n",
       "<table border=\"1\" class=\"dataframe\">\n",
       "  <thead>\n",
       "    <tr style=\"text-align: right;\">\n",
       "      <th></th>\n",
       "      <th>text</th>\n",
       "      <th>emotion</th>\n",
       "    </tr>\n",
       "  </thead>\n",
       "  <tbody>\n",
       "    <tr>\n",
       "      <td>0</td>\n",
       "      <td>Sad story</td>\n",
       "      <td>5</td>\n",
       "    </tr>\n",
       "    <tr>\n",
       "      <td>1</td>\n",
       "      <td>For some reason, I did not feel sad, empty, no...</td>\n",
       "      <td>5</td>\n",
       "    </tr>\n",
       "    <tr>\n",
       "      <td>2</td>\n",
       "      <td>Anyone else ever get stuck in a sad spiral?</td>\n",
       "      <td>5</td>\n",
       "    </tr>\n",
       "    <tr>\n",
       "      <td>3</td>\n",
       "      <td>Sad short story</td>\n",
       "      <td>5</td>\n",
       "    </tr>\n",
       "    <tr>\n",
       "      <td>4</td>\n",
       "      <td>I’m Sad</td>\n",
       "      <td>5</td>\n",
       "    </tr>\n",
       "    <tr>\n",
       "      <td>...</td>\n",
       "      <td>...</td>\n",
       "      <td>...</td>\n",
       "    </tr>\n",
       "    <tr>\n",
       "      <td>4279</td>\n",
       "      <td>Less than 8 months ago, I could hardly make it...</td>\n",
       "      <td>4</td>\n",
       "    </tr>\n",
       "    <tr>\n",
       "      <td>4280</td>\n",
       "      <td>Working on celebrating small accomplishments :)</td>\n",
       "      <td>4</td>\n",
       "    </tr>\n",
       "    <tr>\n",
       "      <td>4281</td>\n",
       "      <td>Less than 8 months ago, I could hardly make it...</td>\n",
       "      <td>4</td>\n",
       "    </tr>\n",
       "    <tr>\n",
       "      <td>4282</td>\n",
       "      <td>Tomorrow will be a week on reddit and with the...</td>\n",
       "      <td>4</td>\n",
       "    </tr>\n",
       "    <tr>\n",
       "      <td>4283</td>\n",
       "      <td>Too much loneliness out there and something ne...</td>\n",
       "      <td>4</td>\n",
       "    </tr>\n",
       "  </tbody>\n",
       "</table>\n",
       "<p>4284 rows × 2 columns</p>\n",
       "</div>"
      ],
      "text/plain": [
       "                                                   text  emotion\n",
       "0                                             Sad story        5\n",
       "1     For some reason, I did not feel sad, empty, no...        5\n",
       "2           Anyone else ever get stuck in a sad spiral?        5\n",
       "3                                       Sad short story        5\n",
       "4                                               I’m Sad        5\n",
       "...                                                 ...      ...\n",
       "4279  Less than 8 months ago, I could hardly make it...        4\n",
       "4280    Working on celebrating small accomplishments :)        4\n",
       "4281  Less than 8 months ago, I could hardly make it...        4\n",
       "4282  Tomorrow will be a week on reddit and with the...        4\n",
       "4283  Too much loneliness out there and something ne...        4\n",
       "\n",
       "[4284 rows x 2 columns]"
      ]
     },
     "execution_count": 24,
     "metadata": {},
     "output_type": "execute_result"
    }
   ],
   "source": [
    "reddit"
   ]
  },
  {
   "cell_type": "code",
   "execution_count": 25,
   "metadata": {},
   "outputs": [],
   "source": [
    "reddit.to_pickle('data/pushshift/reddit.pickle')"
   ]
  },
  {
   "cell_type": "markdown",
   "metadata": {},
   "source": [
    "## <span id=\"5\"></span>5. Quality Control\n",
    "#### [Return Contents](#0)"
   ]
  },
  {
   "cell_type": "markdown",
   "metadata": {},
   "source": [
    "I downloaded the .csv files and reviewed the cleaned contents to determine if there were any remaining irrelevant content.  My approach was to identify text that would be useful for the Emotional AI chatbot to both support the \"happy path\" as well as edge cases that could potentially throw the bot off.\n",
    "\n",
    "A **\"happy path\"** is the ideal conversational inputs and responses of the chatbot.  Our chatbot's happy path would look something like this:\n",
    "\n",
    "* **bot:** \"Hi!  How are you feeling today?\"\n",
    "* **user:** \"Hi bot.  Today I'm feeling kind of down.\"\n",
    "* **bot:** \"Sounds like you're feeling sad.\"\n",
    "* **user:** \"Yes, I am sad.  Can you help me feel better?\"\n",
    "\n",
    "As I reviewed the text, I also identified and recorded the emotional keywords that reddit posters were using to describe their feelings.  I made separate lists of these words and, up next, I'm going to input these keywords into sentence templates that would support the happy path.\n",
    "\n",
    "**Edge cases** are more complex or ambiguous user responses that could \"break\" the bot.  For example, long responses that go into a lot of detail or very short answers using ambiguous emotional keywords or none at all.\n",
    "\n",
    "I will also use these emotional keywords to update the NRC lexicon and fill in some of the more everyday vocabulary gaps.  This will make the emotional score feature more accurate and able to cut through long answers.\n",
    "\n",
    "I will need to find another solution for ambiguous text.  This could be coding the bot to prompt the user to be more descriptive.  It could also include a synonym finder to help the user develop their emotional vacabulary.  Coming soon."
   ]
  },
  {
   "cell_type": "markdown",
   "metadata": {},
   "source": [
    "## <span id=\"6\"></span>6. Happy Path Sentences\n",
    "#### [Return Contents](#0)"
   ]
  },
  {
   "cell_type": "markdown",
   "metadata": {},
   "source": [
    "### Emotion Keywords"
   ]
  },
  {
   "cell_type": "markdown",
   "metadata": {},
   "source": [
    "I import a list of all the keywords for all the emotions with their emotion classification."
   ]
  },
  {
   "cell_type": "code",
   "execution_count": 461,
   "metadata": {},
   "outputs": [],
   "source": [
    "hp_emo = pd.read_csv('data/happypath/emotion_collection_data.csv', names=['word', 'type', 'emotion', 'class'])"
   ]
  },
  {
   "cell_type": "code",
   "execution_count": 462,
   "metadata": {},
   "outputs": [
    {
     "data": {
      "text/plain": [
       "(230, 4)"
      ]
     },
     "execution_count": 462,
     "metadata": {},
     "output_type": "execute_result"
    }
   ],
   "source": [
    "hp_emo.shape"
   ]
  },
  {
   "cell_type": "code",
   "execution_count": 463,
   "metadata": {},
   "outputs": [
    {
     "name": "stdout",
     "output_type": "stream",
     "text": [
      "<class 'pandas.core.frame.DataFrame'>\n",
      "RangeIndex: 230 entries, 0 to 229\n",
      "Data columns (total 4 columns):\n",
      "word       230 non-null object\n",
      "type       230 non-null object\n",
      "emotion    230 non-null int64\n",
      "class      230 non-null object\n",
      "dtypes: int64(1), object(3)\n",
      "memory usage: 7.3+ KB\n"
     ]
    }
   ],
   "source": [
    "hp_emo.info()"
   ]
  },
  {
   "cell_type": "code",
   "execution_count": 464,
   "metadata": {
    "scrolled": false
   },
   "outputs": [
    {
     "data": {
      "text/html": [
       "<div>\n",
       "<style scoped>\n",
       "    .dataframe tbody tr th:only-of-type {\n",
       "        vertical-align: middle;\n",
       "    }\n",
       "\n",
       "    .dataframe tbody tr th {\n",
       "        vertical-align: top;\n",
       "    }\n",
       "\n",
       "    .dataframe thead th {\n",
       "        text-align: right;\n",
       "    }\n",
       "</style>\n",
       "<table border=\"1\" class=\"dataframe\">\n",
       "  <thead>\n",
       "    <tr style=\"text-align: right;\">\n",
       "      <th></th>\n",
       "      <th>word</th>\n",
       "      <th>type</th>\n",
       "      <th>emotion</th>\n",
       "      <th>class</th>\n",
       "    </tr>\n",
       "  </thead>\n",
       "  <tbody>\n",
       "    <tr>\n",
       "      <td>0</td>\n",
       "      <td>angry</td>\n",
       "      <td>adj</td>\n",
       "      <td>1</td>\n",
       "      <td>angry</td>\n",
       "    </tr>\n",
       "    <tr>\n",
       "      <td>1</td>\n",
       "      <td>furious</td>\n",
       "      <td>adj</td>\n",
       "      <td>1</td>\n",
       "      <td>angry</td>\n",
       "    </tr>\n",
       "    <tr>\n",
       "      <td>2</td>\n",
       "      <td>livid</td>\n",
       "      <td>adj</td>\n",
       "      <td>1</td>\n",
       "      <td>angry</td>\n",
       "    </tr>\n",
       "    <tr>\n",
       "      <td>3</td>\n",
       "      <td>annoyed</td>\n",
       "      <td>adj</td>\n",
       "      <td>1</td>\n",
       "      <td>angry</td>\n",
       "    </tr>\n",
       "    <tr>\n",
       "      <td>4</td>\n",
       "      <td>irritated</td>\n",
       "      <td>adj</td>\n",
       "      <td>1</td>\n",
       "      <td>angry</td>\n",
       "    </tr>\n",
       "  </tbody>\n",
       "</table>\n",
       "</div>"
      ],
      "text/plain": [
       "        word type  emotion  class\n",
       "0      angry  adj        1  angry\n",
       "1    furious  adj        1  angry\n",
       "2      livid  adj        1  angry\n",
       "3    annoyed  adj        1  angry\n",
       "4  irritated  adj        1  angry"
      ]
     },
     "execution_count": 464,
     "metadata": {},
     "output_type": "execute_result"
    }
   ],
   "source": [
    "hp_emo.head()"
   ]
  },
  {
   "cell_type": "code",
   "execution_count": 469,
   "metadata": {},
   "outputs": [],
   "source": [
    "hp_emo.word = hp_emo.word.apply(lambda x: x.lower())"
   ]
  },
  {
   "cell_type": "markdown",
   "metadata": {},
   "source": [
    "Subsetting emotion keywords to only adjectives."
   ]
  },
  {
   "cell_type": "code",
   "execution_count": 472,
   "metadata": {},
   "outputs": [],
   "source": [
    "adj_words = hp_emo[hp_emo.type == 'adj']"
   ]
  },
  {
   "cell_type": "code",
   "execution_count": 473,
   "metadata": {
    "scrolled": true
   },
   "outputs": [
    {
     "data": {
      "text/html": [
       "<div>\n",
       "<style scoped>\n",
       "    .dataframe tbody tr th:only-of-type {\n",
       "        vertical-align: middle;\n",
       "    }\n",
       "\n",
       "    .dataframe tbody tr th {\n",
       "        vertical-align: top;\n",
       "    }\n",
       "\n",
       "    .dataframe thead th {\n",
       "        text-align: right;\n",
       "    }\n",
       "</style>\n",
       "<table border=\"1\" class=\"dataframe\">\n",
       "  <thead>\n",
       "    <tr style=\"text-align: right;\">\n",
       "      <th></th>\n",
       "      <th>word</th>\n",
       "      <th>type</th>\n",
       "      <th>emotion</th>\n",
       "      <th>class</th>\n",
       "    </tr>\n",
       "  </thead>\n",
       "  <tbody>\n",
       "    <tr>\n",
       "      <td>0</td>\n",
       "      <td>angry</td>\n",
       "      <td>adj</td>\n",
       "      <td>1</td>\n",
       "      <td>angry</td>\n",
       "    </tr>\n",
       "    <tr>\n",
       "      <td>1</td>\n",
       "      <td>furious</td>\n",
       "      <td>adj</td>\n",
       "      <td>1</td>\n",
       "      <td>angry</td>\n",
       "    </tr>\n",
       "    <tr>\n",
       "      <td>2</td>\n",
       "      <td>livid</td>\n",
       "      <td>adj</td>\n",
       "      <td>1</td>\n",
       "      <td>angry</td>\n",
       "    </tr>\n",
       "    <tr>\n",
       "      <td>3</td>\n",
       "      <td>annoyed</td>\n",
       "      <td>adj</td>\n",
       "      <td>1</td>\n",
       "      <td>angry</td>\n",
       "    </tr>\n",
       "    <tr>\n",
       "      <td>4</td>\n",
       "      <td>irritated</td>\n",
       "      <td>adj</td>\n",
       "      <td>1</td>\n",
       "      <td>angry</td>\n",
       "    </tr>\n",
       "  </tbody>\n",
       "</table>\n",
       "</div>"
      ],
      "text/plain": [
       "        word type  emotion  class\n",
       "0      angry  adj        1  angry\n",
       "1    furious  adj        1  angry\n",
       "2      livid  adj        1  angry\n",
       "3    annoyed  adj        1  angry\n",
       "4  irritated  adj        1  angry"
      ]
     },
     "execution_count": 473,
     "metadata": {},
     "output_type": "execute_result"
    }
   ],
   "source": [
    "adj_words.head()"
   ]
  },
  {
   "cell_type": "code",
   "execution_count": 474,
   "metadata": {},
   "outputs": [
    {
     "data": {
      "text/plain": [
       "217"
      ]
     },
     "execution_count": 474,
     "metadata": {},
     "output_type": "execute_result"
    }
   ],
   "source": [
    "adj_words.word.count()"
   ]
  },
  {
   "cell_type": "markdown",
   "metadata": {},
   "source": [
    "### Sentence Templates"
   ]
  },
  {
   "cell_type": "markdown",
   "metadata": {},
   "source": [
    "And I import the sentence templates, which I will use to make a happy path dataset to support the larger dataset of reddit posts and the DailyDialog dataset."
   ]
  },
  {
   "cell_type": "code",
   "execution_count": 112,
   "metadata": {},
   "outputs": [],
   "source": [
    "hp_temps = pd.read_csv('data/happypath/happy_path_temps.csv', names=['start', 'type', 'end'])\n"
   ]
  },
  {
   "cell_type": "code",
   "execution_count": 113,
   "metadata": {},
   "outputs": [
    {
     "data": {
      "text/plain": [
       "(98, 3)"
      ]
     },
     "execution_count": 113,
     "metadata": {},
     "output_type": "execute_result"
    }
   ],
   "source": [
    "hp_temps.shape"
   ]
  },
  {
   "cell_type": "code",
   "execution_count": 114,
   "metadata": {
    "scrolled": true
   },
   "outputs": [
    {
     "name": "stdout",
     "output_type": "stream",
     "text": [
      "<class 'pandas.core.frame.DataFrame'>\n",
      "RangeIndex: 98 entries, 0 to 97\n",
      "Data columns (total 3 columns):\n",
      "start    98 non-null object\n",
      "type     98 non-null object\n",
      "end      25 non-null object\n",
      "dtypes: object(3)\n",
      "memory usage: 2.4+ KB\n"
     ]
    }
   ],
   "source": [
    "hp_temps.info()"
   ]
  },
  {
   "cell_type": "code",
   "execution_count": 300,
   "metadata": {
    "scrolled": true
   },
   "outputs": [
    {
     "data": {
      "text/html": [
       "<div>\n",
       "<style scoped>\n",
       "    .dataframe tbody tr th:only-of-type {\n",
       "        vertical-align: middle;\n",
       "    }\n",
       "\n",
       "    .dataframe tbody tr th {\n",
       "        vertical-align: top;\n",
       "    }\n",
       "\n",
       "    .dataframe thead th {\n",
       "        text-align: right;\n",
       "    }\n",
       "</style>\n",
       "<table border=\"1\" class=\"dataframe\">\n",
       "  <thead>\n",
       "    <tr style=\"text-align: right;\">\n",
       "      <th></th>\n",
       "      <th>start</th>\n",
       "      <th>type</th>\n",
       "      <th>end</th>\n",
       "    </tr>\n",
       "  </thead>\n",
       "  <tbody>\n",
       "    <tr>\n",
       "      <td>0</td>\n",
       "      <td>I feel a little</td>\n",
       "      <td>adj</td>\n",
       "      <td>NaN</td>\n",
       "    </tr>\n",
       "    <tr>\n",
       "      <td>1</td>\n",
       "      <td>I'm a little</td>\n",
       "      <td>adj</td>\n",
       "      <td>NaN</td>\n",
       "    </tr>\n",
       "    <tr>\n",
       "      <td>2</td>\n",
       "      <td>I feel kind of</td>\n",
       "      <td>adj</td>\n",
       "      <td>NaN</td>\n",
       "    </tr>\n",
       "    <tr>\n",
       "      <td>3</td>\n",
       "      <td>I'm kind of</td>\n",
       "      <td>adj</td>\n",
       "      <td>NaN</td>\n",
       "    </tr>\n",
       "    <tr>\n",
       "      <td>4</td>\n",
       "      <td>I feel sort of</td>\n",
       "      <td>adj</td>\n",
       "      <td>NaN</td>\n",
       "    </tr>\n",
       "  </tbody>\n",
       "</table>\n",
       "</div>"
      ],
      "text/plain": [
       "              start type  end\n",
       "0  I feel a little   adj  NaN\n",
       "1     I'm a little   adj  NaN\n",
       "2   I feel kind of   adj  NaN\n",
       "3      I'm kind of   adj  NaN\n",
       "4   I feel sort of   adj  NaN"
      ]
     },
     "execution_count": 300,
     "metadata": {},
     "output_type": "execute_result"
    }
   ],
   "source": [
    "hp_temps.head()"
   ]
  },
  {
   "cell_type": "markdown",
   "metadata": {},
   "source": [
    "Subsetting sentence templates to only those that work with adjectives."
   ]
  },
  {
   "cell_type": "code",
   "execution_count": 306,
   "metadata": {},
   "outputs": [
    {
     "data": {
      "text/html": [
       "<div>\n",
       "<style scoped>\n",
       "    .dataframe tbody tr th:only-of-type {\n",
       "        vertical-align: middle;\n",
       "    }\n",
       "\n",
       "    .dataframe tbody tr th {\n",
       "        vertical-align: top;\n",
       "    }\n",
       "\n",
       "    .dataframe thead th {\n",
       "        text-align: right;\n",
       "    }\n",
       "</style>\n",
       "<table border=\"1\" class=\"dataframe\">\n",
       "  <thead>\n",
       "    <tr style=\"text-align: right;\">\n",
       "      <th></th>\n",
       "      <th>start</th>\n",
       "      <th>type</th>\n",
       "      <th>end</th>\n",
       "    </tr>\n",
       "  </thead>\n",
       "  <tbody>\n",
       "    <tr>\n",
       "      <td>0</td>\n",
       "      <td>I feel a little</td>\n",
       "      <td>adj</td>\n",
       "      <td>NaN</td>\n",
       "    </tr>\n",
       "    <tr>\n",
       "      <td>1</td>\n",
       "      <td>I'm a little</td>\n",
       "      <td>adj</td>\n",
       "      <td>NaN</td>\n",
       "    </tr>\n",
       "    <tr>\n",
       "      <td>2</td>\n",
       "      <td>I feel kind of</td>\n",
       "      <td>adj</td>\n",
       "      <td>NaN</td>\n",
       "    </tr>\n",
       "    <tr>\n",
       "      <td>3</td>\n",
       "      <td>I'm kind of</td>\n",
       "      <td>adj</td>\n",
       "      <td>NaN</td>\n",
       "    </tr>\n",
       "    <tr>\n",
       "      <td>4</td>\n",
       "      <td>I feel sort of</td>\n",
       "      <td>adj</td>\n",
       "      <td>NaN</td>\n",
       "    </tr>\n",
       "  </tbody>\n",
       "</table>\n",
       "</div>"
      ],
      "text/plain": [
       "              start type  end\n",
       "0  I feel a little   adj  NaN\n",
       "1     I'm a little   adj  NaN\n",
       "2   I feel kind of   adj  NaN\n",
       "3      I'm kind of   adj  NaN\n",
       "4   I feel sort of   adj  NaN"
      ]
     },
     "execution_count": 306,
     "metadata": {},
     "output_type": "execute_result"
    }
   ],
   "source": [
    "adj_temps = hp_temps[hp_temps.type == 'adj']\n",
    "adj_temps.head()"
   ]
  },
  {
   "cell_type": "code",
   "execution_count": 307,
   "metadata": {
    "scrolled": true
   },
   "outputs": [
    {
     "data": {
      "text/plain": [
       "str"
      ]
     },
     "execution_count": 307,
     "metadata": {},
     "output_type": "execute_result"
    }
   ],
   "source": [
    "type(adj_temps['start'][0])"
   ]
  },
  {
   "cell_type": "code",
   "execution_count": 456,
   "metadata": {},
   "outputs": [
    {
     "data": {
      "text/plain": [
       "(28, 3)"
      ]
     },
     "execution_count": 456,
     "metadata": {},
     "output_type": "execute_result"
    }
   ],
   "source": [
    "adj_temps.shape"
   ]
  },
  {
   "cell_type": "markdown",
   "metadata": {},
   "source": [
    "Make the new sentences by combining the emotional keywords with the sentence templates."
   ]
  },
  {
   "cell_type": "code",
   "execution_count": 476,
   "metadata": {},
   "outputs": [],
   "source": [
    "comps = []\n",
    "for word in adj_words['word']:\n",
    "    for sent in adj['start']:\n",
    "        comp = sent + word\n",
    "        comps.append(comp)"
   ]
  },
  {
   "cell_type": "code",
   "execution_count": 477,
   "metadata": {},
   "outputs": [
    {
     "data": {
      "text/plain": [
       "['I feel a little angry',\n",
       " \"I'm a little angry\",\n",
       " 'I feel kind of angry',\n",
       " \"I'm kind of angry\",\n",
       " 'I feel sort of angry',\n",
       " \"I'm sort of angry\",\n",
       " 'I feel a bit angry',\n",
       " \"I'm a bit angry\",\n",
       " 'I feel pretty angry',\n",
       " \"I'm pretty angry\"]"
      ]
     },
     "execution_count": 477,
     "metadata": {},
     "output_type": "execute_result"
    }
   ],
   "source": [
    "comps[0:10]"
   ]
  },
  {
   "cell_type": "code",
   "execution_count": 478,
   "metadata": {
    "scrolled": true
   },
   "outputs": [
    {
     "data": {
      "text/plain": [
       "6076"
      ]
     },
     "execution_count": 478,
     "metadata": {},
     "output_type": "execute_result"
    }
   ],
   "source": [
    "len(comps)"
   ]
  },
  {
   "cell_type": "markdown",
   "metadata": {},
   "source": [
    "Turn the list into a dataframe."
   ]
  },
  {
   "cell_type": "code",
   "execution_count": 491,
   "metadata": {},
   "outputs": [],
   "source": [
    "hp = pd.DataFrame(comps)"
   ]
  },
  {
   "cell_type": "code",
   "execution_count": 492,
   "metadata": {},
   "outputs": [],
   "source": [
    "hp.rename(columns={0:'text'}, inplace=True)"
   ]
  },
  {
   "cell_type": "markdown",
   "metadata": {},
   "source": [
    "Make emotion classifications for each sentence and check to make sure they are aligned."
   ]
  },
  {
   "cell_type": "code",
   "execution_count": 493,
   "metadata": {},
   "outputs": [],
   "source": [
    "emos = []\n",
    "for num in adj_words.emotion:\n",
    "    for i in range(28):\n",
    "        emos.append(num)"
   ]
  },
  {
   "cell_type": "markdown",
   "metadata": {},
   "source": [
    "Same length as list of sentences."
   ]
  },
  {
   "cell_type": "code",
   "execution_count": 494,
   "metadata": {
    "scrolled": true
   },
   "outputs": [
    {
     "data": {
      "text/plain": [
       "6076"
      ]
     },
     "execution_count": 494,
     "metadata": {},
     "output_type": "execute_result"
    }
   ],
   "source": [
    "len(emos)"
   ]
  },
  {
   "cell_type": "code",
   "execution_count": 495,
   "metadata": {},
   "outputs": [],
   "source": [
    "hp['emotion'] = emos"
   ]
  },
  {
   "cell_type": "code",
   "execution_count": 496,
   "metadata": {},
   "outputs": [
    {
     "data": {
      "text/html": [
       "<div>\n",
       "<style scoped>\n",
       "    .dataframe tbody tr th:only-of-type {\n",
       "        vertical-align: middle;\n",
       "    }\n",
       "\n",
       "    .dataframe tbody tr th {\n",
       "        vertical-align: top;\n",
       "    }\n",
       "\n",
       "    .dataframe thead th {\n",
       "        text-align: right;\n",
       "    }\n",
       "</style>\n",
       "<table border=\"1\" class=\"dataframe\">\n",
       "  <thead>\n",
       "    <tr style=\"text-align: right;\">\n",
       "      <th></th>\n",
       "      <th>text</th>\n",
       "      <th>emotion</th>\n",
       "    </tr>\n",
       "  </thead>\n",
       "  <tbody>\n",
       "    <tr>\n",
       "      <td>0</td>\n",
       "      <td>I feel a little angry</td>\n",
       "      <td>1</td>\n",
       "    </tr>\n",
       "    <tr>\n",
       "      <td>1</td>\n",
       "      <td>I'm a little angry</td>\n",
       "      <td>1</td>\n",
       "    </tr>\n",
       "    <tr>\n",
       "      <td>2</td>\n",
       "      <td>I feel kind of angry</td>\n",
       "      <td>1</td>\n",
       "    </tr>\n",
       "    <tr>\n",
       "      <td>3</td>\n",
       "      <td>I'm kind of angry</td>\n",
       "      <td>1</td>\n",
       "    </tr>\n",
       "    <tr>\n",
       "      <td>4</td>\n",
       "      <td>I feel sort of angry</td>\n",
       "      <td>1</td>\n",
       "    </tr>\n",
       "  </tbody>\n",
       "</table>\n",
       "</div>"
      ],
      "text/plain": [
       "                    text  emotion\n",
       "0  I feel a little angry        1\n",
       "1     I'm a little angry        1\n",
       "2   I feel kind of angry        1\n",
       "3      I'm kind of angry        1\n",
       "4   I feel sort of angry        1"
      ]
     },
     "execution_count": 496,
     "metadata": {},
     "output_type": "execute_result"
    }
   ],
   "source": [
    "hp.head()"
   ]
  },
  {
   "cell_type": "code",
   "execution_count": 497,
   "metadata": {},
   "outputs": [
    {
     "data": {
      "text/html": [
       "<div>\n",
       "<style scoped>\n",
       "    .dataframe tbody tr th:only-of-type {\n",
       "        vertical-align: middle;\n",
       "    }\n",
       "\n",
       "    .dataframe tbody tr th {\n",
       "        vertical-align: top;\n",
       "    }\n",
       "\n",
       "    .dataframe thead th {\n",
       "        text-align: right;\n",
       "    }\n",
       "</style>\n",
       "<table border=\"1\" class=\"dataframe\">\n",
       "  <thead>\n",
       "    <tr style=\"text-align: right;\">\n",
       "      <th></th>\n",
       "      <th>text</th>\n",
       "      <th>emotion</th>\n",
       "    </tr>\n",
       "  </thead>\n",
       "  <tbody>\n",
       "    <tr>\n",
       "      <td>0</td>\n",
       "      <td>I feel a little angry</td>\n",
       "      <td>1</td>\n",
       "    </tr>\n",
       "    <tr>\n",
       "      <td>1</td>\n",
       "      <td>I'm a little angry</td>\n",
       "      <td>1</td>\n",
       "    </tr>\n",
       "    <tr>\n",
       "      <td>2</td>\n",
       "      <td>I feel kind of angry</td>\n",
       "      <td>1</td>\n",
       "    </tr>\n",
       "    <tr>\n",
       "      <td>3</td>\n",
       "      <td>I'm kind of angry</td>\n",
       "      <td>1</td>\n",
       "    </tr>\n",
       "    <tr>\n",
       "      <td>4</td>\n",
       "      <td>I feel sort of angry</td>\n",
       "      <td>1</td>\n",
       "    </tr>\n",
       "    <tr>\n",
       "      <td>...</td>\n",
       "      <td>...</td>\n",
       "      <td>...</td>\n",
       "    </tr>\n",
       "    <tr>\n",
       "      <td>835</td>\n",
       "      <td>I'm very stupid</td>\n",
       "      <td>1</td>\n",
       "    </tr>\n",
       "    <tr>\n",
       "      <td>836</td>\n",
       "      <td>I feel aboslutely stupid</td>\n",
       "      <td>1</td>\n",
       "    </tr>\n",
       "    <tr>\n",
       "      <td>837</td>\n",
       "      <td>I'm aboslutely stupid</td>\n",
       "      <td>1</td>\n",
       "    </tr>\n",
       "    <tr>\n",
       "      <td>838</td>\n",
       "      <td>I feel completely stupid</td>\n",
       "      <td>1</td>\n",
       "    </tr>\n",
       "    <tr>\n",
       "      <td>839</td>\n",
       "      <td>I'm completely stupid</td>\n",
       "      <td>1</td>\n",
       "    </tr>\n",
       "  </tbody>\n",
       "</table>\n",
       "<p>840 rows × 2 columns</p>\n",
       "</div>"
      ],
      "text/plain": [
       "                         text  emotion\n",
       "0       I feel a little angry        1\n",
       "1          I'm a little angry        1\n",
       "2        I feel kind of angry        1\n",
       "3           I'm kind of angry        1\n",
       "4        I feel sort of angry        1\n",
       "..                        ...      ...\n",
       "835           I'm very stupid        1\n",
       "836  I feel aboslutely stupid        1\n",
       "837     I'm aboslutely stupid        1\n",
       "838  I feel completely stupid        1\n",
       "839     I'm completely stupid        1\n",
       "\n",
       "[840 rows x 2 columns]"
      ]
     },
     "execution_count": 497,
     "metadata": {},
     "output_type": "execute_result"
    }
   ],
   "source": [
    "hp[hp.emotion == 1]"
   ]
  },
  {
   "cell_type": "code",
   "execution_count": 498,
   "metadata": {},
   "outputs": [
    {
     "data": {
      "text/html": [
       "<div>\n",
       "<style scoped>\n",
       "    .dataframe tbody tr th:only-of-type {\n",
       "        vertical-align: middle;\n",
       "    }\n",
       "\n",
       "    .dataframe tbody tr th {\n",
       "        vertical-align: top;\n",
       "    }\n",
       "\n",
       "    .dataframe thead th {\n",
       "        text-align: right;\n",
       "    }\n",
       "</style>\n",
       "<table border=\"1\" class=\"dataframe\">\n",
       "  <thead>\n",
       "    <tr style=\"text-align: right;\">\n",
       "      <th></th>\n",
       "      <th>text</th>\n",
       "      <th>emotion</th>\n",
       "    </tr>\n",
       "  </thead>\n",
       "  <tbody>\n",
       "    <tr>\n",
       "      <td>5432</td>\n",
       "      <td>I feel a little ok</td>\n",
       "      <td>7</td>\n",
       "    </tr>\n",
       "    <tr>\n",
       "      <td>5433</td>\n",
       "      <td>I'm a little ok</td>\n",
       "      <td>7</td>\n",
       "    </tr>\n",
       "    <tr>\n",
       "      <td>5434</td>\n",
       "      <td>I feel kind of ok</td>\n",
       "      <td>7</td>\n",
       "    </tr>\n",
       "    <tr>\n",
       "      <td>5435</td>\n",
       "      <td>I'm kind of ok</td>\n",
       "      <td>7</td>\n",
       "    </tr>\n",
       "    <tr>\n",
       "      <td>5436</td>\n",
       "      <td>I feel sort of ok</td>\n",
       "      <td>7</td>\n",
       "    </tr>\n",
       "    <tr>\n",
       "      <td>...</td>\n",
       "      <td>...</td>\n",
       "      <td>...</td>\n",
       "    </tr>\n",
       "    <tr>\n",
       "      <td>6071</td>\n",
       "      <td>I'm very regular</td>\n",
       "      <td>7</td>\n",
       "    </tr>\n",
       "    <tr>\n",
       "      <td>6072</td>\n",
       "      <td>I feel aboslutely regular</td>\n",
       "      <td>7</td>\n",
       "    </tr>\n",
       "    <tr>\n",
       "      <td>6073</td>\n",
       "      <td>I'm aboslutely regular</td>\n",
       "      <td>7</td>\n",
       "    </tr>\n",
       "    <tr>\n",
       "      <td>6074</td>\n",
       "      <td>I feel completely regular</td>\n",
       "      <td>7</td>\n",
       "    </tr>\n",
       "    <tr>\n",
       "      <td>6075</td>\n",
       "      <td>I'm completely regular</td>\n",
       "      <td>7</td>\n",
       "    </tr>\n",
       "  </tbody>\n",
       "</table>\n",
       "<p>644 rows × 2 columns</p>\n",
       "</div>"
      ],
      "text/plain": [
       "                           text  emotion\n",
       "5432         I feel a little ok        7\n",
       "5433            I'm a little ok        7\n",
       "5434          I feel kind of ok        7\n",
       "5435             I'm kind of ok        7\n",
       "5436          I feel sort of ok        7\n",
       "...                         ...      ...\n",
       "6071           I'm very regular        7\n",
       "6072  I feel aboslutely regular        7\n",
       "6073     I'm aboslutely regular        7\n",
       "6074  I feel completely regular        7\n",
       "6075     I'm completely regular        7\n",
       "\n",
       "[644 rows x 2 columns]"
      ]
     },
     "execution_count": 498,
     "metadata": {},
     "output_type": "execute_result"
    }
   ],
   "source": [
    "hp[hp.emotion == 7]"
   ]
  },
  {
   "cell_type": "code",
   "execution_count": 503,
   "metadata": {},
   "outputs": [
    {
     "data": {
      "text/html": [
       "<div>\n",
       "<style scoped>\n",
       "    .dataframe tbody tr th:only-of-type {\n",
       "        vertical-align: middle;\n",
       "    }\n",
       "\n",
       "    .dataframe tbody tr th {\n",
       "        vertical-align: top;\n",
       "    }\n",
       "\n",
       "    .dataframe thead th {\n",
       "        text-align: right;\n",
       "    }\n",
       "</style>\n",
       "<table border=\"1\" class=\"dataframe\">\n",
       "  <thead>\n",
       "    <tr style=\"text-align: right;\">\n",
       "      <th></th>\n",
       "      <th>text</th>\n",
       "    </tr>\n",
       "    <tr>\n",
       "      <th>emotion</th>\n",
       "      <th></th>\n",
       "    </tr>\n",
       "  </thead>\n",
       "  <tbody>\n",
       "    <tr>\n",
       "      <td>1</td>\n",
       "      <td>840</td>\n",
       "    </tr>\n",
       "    <tr>\n",
       "      <td>2</td>\n",
       "      <td>392</td>\n",
       "    </tr>\n",
       "    <tr>\n",
       "      <td>3</td>\n",
       "      <td>1512</td>\n",
       "    </tr>\n",
       "    <tr>\n",
       "      <td>4</td>\n",
       "      <td>1792</td>\n",
       "    </tr>\n",
       "    <tr>\n",
       "      <td>5</td>\n",
       "      <td>896</td>\n",
       "    </tr>\n",
       "    <tr>\n",
       "      <td>7</td>\n",
       "      <td>644</td>\n",
       "    </tr>\n",
       "  </tbody>\n",
       "</table>\n",
       "</div>"
      ],
      "text/plain": [
       "         text\n",
       "emotion      \n",
       "1         840\n",
       "2         392\n",
       "3        1512\n",
       "4        1792\n",
       "5         896\n",
       "7         644"
      ]
     },
     "execution_count": 503,
     "metadata": {},
     "output_type": "execute_result"
    }
   ],
   "source": [
    "hp_class_dist = hp.groupby('emotion').count()\n",
    "hp_class_dist"
   ]
  },
  {
   "cell_type": "code",
   "execution_count": 504,
   "metadata": {},
   "outputs": [],
   "source": [
    "emotions = ['Anger', 'Disgust', 'Fear', 'Happiness', 'Sadness', 'Ambiguous']"
   ]
  },
  {
   "cell_type": "code",
   "execution_count": 505,
   "metadata": {},
   "outputs": [
    {
     "data": {
      "text/plain": [
       "Text(0, 0.5, 'Number of Instances')"
      ]
     },
     "execution_count": 505,
     "metadata": {},
     "output_type": "execute_result"
    },
    {
     "data": {
      "image/png": "[encoded data removed]",
      "text/plain": [
       "<Figure size 720x720 with 1 Axes>"
      ]
     },
     "metadata": {
      "needs_background": "light"
     },
     "output_type": "display_data"
    }
   ],
   "source": [
    "plt.figure(figsize=(10,10))\n",
    "plt.bar(hp_class_dist.index, hp_class_dist['text'], tick_label=emotions)\n",
    "plt.title('Happy Path Emotion Class Distribution')\n",
    "plt.xlabel('Emotion Classes')\n",
    "plt.ylabel('Number of Instances')"
   ]
  },
  {
   "cell_type": "code",
   "execution_count": 506,
   "metadata": {},
   "outputs": [],
   "source": [
    "#hp.to_csv(\"data/happypath/happypath_combined.csv\")"
   ]
  },
  {
   "cell_type": "markdown",
   "metadata": {},
   "source": [
    "# Combine Datasets"
   ]
  },
  {
   "cell_type": "markdown",
   "metadata": {},
   "source": [
    "* Combine Reddit to DailyDialog.\n",
    "* Undersampling and oversampling.\n",
    "* Add Happy Path."
   ]
  },
  {
   "cell_type": "markdown",
   "metadata": {},
   "source": [
    "### DailyDialog"
   ]
  },
  {
   "cell_type": "code",
   "execution_count": 4,
   "metadata": {},
   "outputs": [],
   "source": [
    "dd = pd.read_pickle('data/dailydialog/dialogue_cleaned.pickle')"
   ]
  },
  {
   "cell_type": "code",
   "execution_count": 5,
   "metadata": {},
   "outputs": [
    {
     "data": {
      "text/html": [
       "<div>\n",
       "<style scoped>\n",
       "    .dataframe tbody tr th:only-of-type {\n",
       "        vertical-align: middle;\n",
       "    }\n",
       "\n",
       "    .dataframe tbody tr th {\n",
       "        vertical-align: top;\n",
       "    }\n",
       "\n",
       "    .dataframe thead th {\n",
       "        text-align: right;\n",
       "    }\n",
       "</style>\n",
       "<table border=\"1\" class=\"dataframe\">\n",
       "  <thead>\n",
       "    <tr style=\"text-align: right;\">\n",
       "      <th></th>\n",
       "      <th>dialogue</th>\n",
       "      <th>topic</th>\n",
       "      <th>emotion</th>\n",
       "      <th>type</th>\n",
       "    </tr>\n",
       "  </thead>\n",
       "  <tbody>\n",
       "    <tr>\n",
       "      <td>0</td>\n",
       "      <td>The kitchen stinks.</td>\n",
       "      <td>1</td>\n",
       "      <td>2</td>\n",
       "      <td>3</td>\n",
       "    </tr>\n",
       "    <tr>\n",
       "      <td>1</td>\n",
       "      <td>I’ll throw out the garbage.</td>\n",
       "      <td>1</td>\n",
       "      <td>0</td>\n",
       "      <td>4</td>\n",
       "    </tr>\n",
       "    <tr>\n",
       "      <td>2</td>\n",
       "      <td>So Dick, how about getting some coffee for ton...</td>\n",
       "      <td>1</td>\n",
       "      <td>4</td>\n",
       "      <td>3</td>\n",
       "    </tr>\n",
       "    <tr>\n",
       "      <td>3</td>\n",
       "      <td>Coffee? I don’t honestly like that kind of stuff.</td>\n",
       "      <td>1</td>\n",
       "      <td>2</td>\n",
       "      <td>4</td>\n",
       "    </tr>\n",
       "    <tr>\n",
       "      <td>4</td>\n",
       "      <td>Come on, you can at least try a little, beside...</td>\n",
       "      <td>1</td>\n",
       "      <td>0</td>\n",
       "      <td>3</td>\n",
       "    </tr>\n",
       "  </tbody>\n",
       "</table>\n",
       "</div>"
      ],
      "text/plain": [
       "                                            dialogue  topic  emotion  type\n",
       "0                                The kitchen stinks.      1        2     3\n",
       "1                        I’ll throw out the garbage.      1        0     4\n",
       "2  So Dick, how about getting some coffee for ton...      1        4     3\n",
       "3  Coffee? I don’t honestly like that kind of stuff.      1        2     4\n",
       "4  Come on, you can at least try a little, beside...      1        0     3"
      ]
     },
     "execution_count": 5,
     "metadata": {},
     "output_type": "execute_result"
    }
   ],
   "source": [
    "dd.head()"
   ]
  },
  {
   "cell_type": "code",
   "execution_count": 29,
   "metadata": {},
   "outputs": [],
   "source": [
    "dd.drop(columns=['topic', 'type'], inplace=True)"
   ]
  },
  {
   "cell_type": "code",
   "execution_count": 30,
   "metadata": {},
   "outputs": [],
   "source": [
    "dd.rename(columns={'dialogue':'text'}, inplace=True)"
   ]
  },
  {
   "cell_type": "code",
   "execution_count": 31,
   "metadata": {
    "scrolled": false
   },
   "outputs": [
    {
     "data": {
      "text/html": [
       "<div>\n",
       "<style scoped>\n",
       "    .dataframe tbody tr th:only-of-type {\n",
       "        vertical-align: middle;\n",
       "    }\n",
       "\n",
       "    .dataframe tbody tr th {\n",
       "        vertical-align: top;\n",
       "    }\n",
       "\n",
       "    .dataframe thead th {\n",
       "        text-align: right;\n",
       "    }\n",
       "</style>\n",
       "<table border=\"1\" class=\"dataframe\">\n",
       "  <thead>\n",
       "    <tr style=\"text-align: right;\">\n",
       "      <th></th>\n",
       "      <th>text</th>\n",
       "      <th>emotion</th>\n",
       "    </tr>\n",
       "  </thead>\n",
       "  <tbody>\n",
       "    <tr>\n",
       "      <td>0</td>\n",
       "      <td>The kitchen stinks.</td>\n",
       "      <td>2</td>\n",
       "    </tr>\n",
       "    <tr>\n",
       "      <td>1</td>\n",
       "      <td>I’ll throw out the garbage.</td>\n",
       "      <td>0</td>\n",
       "    </tr>\n",
       "    <tr>\n",
       "      <td>2</td>\n",
       "      <td>So Dick, how about getting some coffee for ton...</td>\n",
       "      <td>4</td>\n",
       "    </tr>\n",
       "    <tr>\n",
       "      <td>3</td>\n",
       "      <td>Coffee? I don’t honestly like that kind of stuff.</td>\n",
       "      <td>2</td>\n",
       "    </tr>\n",
       "    <tr>\n",
       "      <td>4</td>\n",
       "      <td>Come on, you can at least try a little, beside...</td>\n",
       "      <td>0</td>\n",
       "    </tr>\n",
       "  </tbody>\n",
       "</table>\n",
       "</div>"
      ],
      "text/plain": [
       "                                                text  emotion\n",
       "0                                The kitchen stinks.        2\n",
       "1                        I’ll throw out the garbage.        0\n",
       "2  So Dick, how about getting some coffee for ton...        4\n",
       "3  Coffee? I don’t honestly like that kind of stuff.        2\n",
       "4  Come on, you can at least try a little, beside...        0"
      ]
     },
     "execution_count": 31,
     "metadata": {},
     "output_type": "execute_result"
    }
   ],
   "source": [
    "dd.head()"
   ]
  },
  {
   "cell_type": "markdown",
   "metadata": {},
   "source": [
    "The class imblanace of the DailyDialog is clear with 'no emotion' and 'happy' far exceeding the others."
   ]
  },
  {
   "cell_type": "code",
   "execution_count": 40,
   "metadata": {
    "scrolled": true
   },
   "outputs": [
    {
     "data": {
      "text/html": [
       "<div>\n",
       "<style scoped>\n",
       "    .dataframe tbody tr th:only-of-type {\n",
       "        vertical-align: middle;\n",
       "    }\n",
       "\n",
       "    .dataframe tbody tr th {\n",
       "        vertical-align: top;\n",
       "    }\n",
       "\n",
       "    .dataframe thead th {\n",
       "        text-align: right;\n",
       "    }\n",
       "</style>\n",
       "<table border=\"1\" class=\"dataframe\">\n",
       "  <thead>\n",
       "    <tr style=\"text-align: right;\">\n",
       "      <th></th>\n",
       "      <th>text</th>\n",
       "    </tr>\n",
       "    <tr>\n",
       "      <th>emotion</th>\n",
       "      <th></th>\n",
       "    </tr>\n",
       "  </thead>\n",
       "  <tbody>\n",
       "    <tr>\n",
       "      <td>0</td>\n",
       "      <td>85573</td>\n",
       "    </tr>\n",
       "    <tr>\n",
       "      <td>1</td>\n",
       "      <td>1022</td>\n",
       "    </tr>\n",
       "    <tr>\n",
       "      <td>2</td>\n",
       "      <td>353</td>\n",
       "    </tr>\n",
       "    <tr>\n",
       "      <td>3</td>\n",
       "      <td>174</td>\n",
       "    </tr>\n",
       "    <tr>\n",
       "      <td>4</td>\n",
       "      <td>12885</td>\n",
       "    </tr>\n",
       "    <tr>\n",
       "      <td>5</td>\n",
       "      <td>1150</td>\n",
       "    </tr>\n",
       "    <tr>\n",
       "      <td>6</td>\n",
       "      <td>1823</td>\n",
       "    </tr>\n",
       "  </tbody>\n",
       "</table>\n",
       "</div>"
      ],
      "text/plain": [
       "          text\n",
       "emotion       \n",
       "0        85573\n",
       "1         1022\n",
       "2          353\n",
       "3          174\n",
       "4        12885\n",
       "5         1150\n",
       "6         1823"
      ]
     },
     "execution_count": 40,
     "metadata": {},
     "output_type": "execute_result"
    }
   ],
   "source": [
    "class_dist_dd = dd.groupby('emotion').count()\n",
    "class_dist_dd"
   ]
  },
  {
   "cell_type": "markdown",
   "metadata": {},
   "source": [
    "### Reddit"
   ]
  },
  {
   "cell_type": "markdown",
   "metadata": {},
   "source": [
    "The Reddit datasets will add some to the angry and sad as well as happy, which we will ultimately undersample."
   ]
  },
  {
   "cell_type": "code",
   "execution_count": 41,
   "metadata": {},
   "outputs": [
    {
     "data": {
      "text/html": [
       "<div>\n",
       "<style scoped>\n",
       "    .dataframe tbody tr th:only-of-type {\n",
       "        vertical-align: middle;\n",
       "    }\n",
       "\n",
       "    .dataframe tbody tr th {\n",
       "        vertical-align: top;\n",
       "    }\n",
       "\n",
       "    .dataframe thead th {\n",
       "        text-align: right;\n",
       "    }\n",
       "</style>\n",
       "<table border=\"1\" class=\"dataframe\">\n",
       "  <thead>\n",
       "    <tr style=\"text-align: right;\">\n",
       "      <th></th>\n",
       "      <th>text</th>\n",
       "    </tr>\n",
       "    <tr>\n",
       "      <th>emotion</th>\n",
       "      <th></th>\n",
       "    </tr>\n",
       "  </thead>\n",
       "  <tbody>\n",
       "    <tr>\n",
       "      <td>1</td>\n",
       "      <td>1731</td>\n",
       "    </tr>\n",
       "    <tr>\n",
       "      <td>4</td>\n",
       "      <td>1141</td>\n",
       "    </tr>\n",
       "    <tr>\n",
       "      <td>5</td>\n",
       "      <td>1412</td>\n",
       "    </tr>\n",
       "  </tbody>\n",
       "</table>\n",
       "</div>"
      ],
      "text/plain": [
       "         text\n",
       "emotion      \n",
       "1        1731\n",
       "4        1141\n",
       "5        1412"
      ]
     },
     "execution_count": 41,
     "metadata": {},
     "output_type": "execute_result"
    }
   ],
   "source": [
    "class_dist_red = reddit.groupby('emotion').count()\n",
    "class_dist_red"
   ]
  },
  {
   "cell_type": "markdown",
   "metadata": {},
   "source": [
    "Combining the dataframes."
   ]
  },
  {
   "cell_type": "code",
   "execution_count": 33,
   "metadata": {
    "scrolled": true
   },
   "outputs": [
    {
     "data": {
      "text/plain": [
       "(102980, 2)"
      ]
     },
     "execution_count": 33,
     "metadata": {},
     "output_type": "execute_result"
    }
   ],
   "source": [
    "dd.shape"
   ]
  },
  {
   "cell_type": "code",
   "execution_count": 34,
   "metadata": {},
   "outputs": [
    {
     "data": {
      "text/plain": [
       "(4284, 2)"
      ]
     },
     "execution_count": 34,
     "metadata": {},
     "output_type": "execute_result"
    }
   ],
   "source": [
    "reddit.shape"
   ]
  },
  {
   "cell_type": "code",
   "execution_count": 32,
   "metadata": {},
   "outputs": [],
   "source": [
    "master = pd.concat([dd,reddit])"
   ]
  },
  {
   "cell_type": "code",
   "execution_count": 35,
   "metadata": {},
   "outputs": [
    {
     "data": {
      "text/plain": [
       "(107264, 2)"
      ]
     },
     "execution_count": 35,
     "metadata": {},
     "output_type": "execute_result"
    }
   ],
   "source": [
    "master.shape"
   ]
  },
  {
   "cell_type": "code",
   "execution_count": 39,
   "metadata": {},
   "outputs": [
    {
     "data": {
      "text/html": [
       "<div>\n",
       "<style scoped>\n",
       "    .dataframe tbody tr th:only-of-type {\n",
       "        vertical-align: middle;\n",
       "    }\n",
       "\n",
       "    .dataframe tbody tr th {\n",
       "        vertical-align: top;\n",
       "    }\n",
       "\n",
       "    .dataframe thead th {\n",
       "        text-align: right;\n",
       "    }\n",
       "</style>\n",
       "<table border=\"1\" class=\"dataframe\">\n",
       "  <thead>\n",
       "    <tr style=\"text-align: right;\">\n",
       "      <th></th>\n",
       "      <th>text</th>\n",
       "    </tr>\n",
       "    <tr>\n",
       "      <th>emotion</th>\n",
       "      <th></th>\n",
       "    </tr>\n",
       "  </thead>\n",
       "  <tbody>\n",
       "    <tr>\n",
       "      <td>0</td>\n",
       "      <td>85573</td>\n",
       "    </tr>\n",
       "    <tr>\n",
       "      <td>1</td>\n",
       "      <td>2753</td>\n",
       "    </tr>\n",
       "    <tr>\n",
       "      <td>2</td>\n",
       "      <td>353</td>\n",
       "    </tr>\n",
       "    <tr>\n",
       "      <td>3</td>\n",
       "      <td>174</td>\n",
       "    </tr>\n",
       "    <tr>\n",
       "      <td>4</td>\n",
       "      <td>14026</td>\n",
       "    </tr>\n",
       "    <tr>\n",
       "      <td>5</td>\n",
       "      <td>2562</td>\n",
       "    </tr>\n",
       "    <tr>\n",
       "      <td>6</td>\n",
       "      <td>1823</td>\n",
       "    </tr>\n",
       "  </tbody>\n",
       "</table>\n",
       "</div>"
      ],
      "text/plain": [
       "          text\n",
       "emotion       \n",
       "0        85573\n",
       "1         2753\n",
       "2          353\n",
       "3          174\n",
       "4        14026\n",
       "5         2562\n",
       "6         1823"
      ]
     },
     "execution_count": 39,
     "metadata": {},
     "output_type": "execute_result"
    }
   ],
   "source": [
    "class_dist_dd_red = master.groupby('emotion').count()\n",
    "class_dist_dd_red"
   ]
  },
  {
   "cell_type": "markdown",
   "metadata": {},
   "source": [
    "The reddit datasets have increased the angry, sad, and happy classes."
   ]
  },
  {
   "cell_type": "markdown",
   "metadata": {},
   "source": [
    "## Undersampling"
   ]
  },
  {
   "cell_type": "code",
   "execution_count": 60,
   "metadata": {},
   "outputs": [],
   "source": [
    "# Class count\n",
    "count_class_0, count_class_4, count_class_1, count_class_5, count_class_6, count_class_2, count_class_3 = master.emotion.value_counts()\n",
    "\n",
    "# Divide by class\n",
    "master_class_0 = master[master['emotion'] == 0]\n",
    "master_class_1 = master[master['emotion'] == 1]\n",
    "master_class_2 = master[master['emotion'] == 2]\n",
    "master_class_3 = master[master['emotion'] == 3]\n",
    "master_class_4 = master[master['emotion'] == 4]\n",
    "master_class_5 = master[master['emotion'] == 5]\n",
    "master_class_6 = master[master['emotion'] == 6]"
   ]
  },
  {
   "cell_type": "code",
   "execution_count": 61,
   "metadata": {
    "scrolled": false
   },
   "outputs": [
    {
     "name": "stdout",
     "output_type": "stream",
     "text": [
      "0:  85573\n",
      "1:  2753\n",
      "2:  353\n",
      "3:  174\n",
      "4:  14026\n",
      "5:  2562\n",
      "6:  1823\n"
     ]
    }
   ],
   "source": [
    "print('0: ',count_class_0)\n",
    "print('1: ',count_class_1)\n",
    "print('2: ',count_class_2)\n",
    "print('3: ',count_class_3)\n",
    "print('4: ',count_class_4)\n",
    "print('5: ',count_class_5)\n",
    "print('6: ',count_class_6)"
   ]
  },
  {
   "cell_type": "code",
   "execution_count": 71,
   "metadata": {},
   "outputs": [
    {
     "name": "stdout",
     "output_type": "stream",
     "text": [
      "Random under & oversampling:\n",
      "1    2753\n",
      "5    2562\n",
      "6    2500\n",
      "0    2500\n",
      "4    2000\n",
      "3    1800\n",
      "2    1800\n",
      "Name: emotion, dtype: int64\n"
     ]
    },
    {
     "data": {
      "image/png": "[encoded data removed]",
      "text/plain": [
       "<Figure size 432x288 with 1 Axes>"
      ]
     },
     "metadata": {
      "needs_background": "light"
     },
     "output_type": "display_data"
    }
   ],
   "source": [
    "master_class_0_under = master_class_0.sample(2500)\n",
    "master_class_4_under = master_class_4.sample(2000)\n",
    "master_class_2_over = master_class_2.sample(1800, replace=True)\n",
    "master_class_3_over = master_class_3.sample(1800, replace=True)\n",
    "master_class_6_over = master_class_6.sample(2500, replace=True)\n",
    "\n",
    "master_under = pd.concat([master_class_0_under, master_class_1, master_class_2_over, master_class_3_over, master_class_4_under, master_class_5, master_class_6_over], axis=0)\n",
    "\n",
    "print('Random under & oversampling:')\n",
    "print(master_under.emotion.value_counts())\n",
    "\n",
    "master_under.emotion.value_counts().plot(kind='bar', title='Count (target)');\n"
   ]
  },
  {
   "cell_type": "markdown",
   "metadata": {},
   "source": [
    "### Happy Path"
   ]
  },
  {
   "cell_type": "code",
   "execution_count": 42,
   "metadata": {},
   "outputs": [],
   "source": [
    "hp = pd.read_csv('data/happypath/happypath_combined.csv', index_col='Unnamed: 0') "
   ]
  },
  {
   "cell_type": "code",
   "execution_count": 43,
   "metadata": {},
   "outputs": [
    {
     "data": {
      "text/html": [
       "<div>\n",
       "<style scoped>\n",
       "    .dataframe tbody tr th:only-of-type {\n",
       "        vertical-align: middle;\n",
       "    }\n",
       "\n",
       "    .dataframe tbody tr th {\n",
       "        vertical-align: top;\n",
       "    }\n",
       "\n",
       "    .dataframe thead th {\n",
       "        text-align: right;\n",
       "    }\n",
       "</style>\n",
       "<table border=\"1\" class=\"dataframe\">\n",
       "  <thead>\n",
       "    <tr style=\"text-align: right;\">\n",
       "      <th></th>\n",
       "      <th>text</th>\n",
       "      <th>emotion</th>\n",
       "    </tr>\n",
       "  </thead>\n",
       "  <tbody>\n",
       "    <tr>\n",
       "      <td>0</td>\n",
       "      <td>I feel a little angry</td>\n",
       "      <td>1</td>\n",
       "    </tr>\n",
       "    <tr>\n",
       "      <td>1</td>\n",
       "      <td>I'm a little angry</td>\n",
       "      <td>1</td>\n",
       "    </tr>\n",
       "    <tr>\n",
       "      <td>2</td>\n",
       "      <td>I feel kind of angry</td>\n",
       "      <td>1</td>\n",
       "    </tr>\n",
       "    <tr>\n",
       "      <td>3</td>\n",
       "      <td>I'm kind of angry</td>\n",
       "      <td>1</td>\n",
       "    </tr>\n",
       "    <tr>\n",
       "      <td>4</td>\n",
       "      <td>I feel sort of angry</td>\n",
       "      <td>1</td>\n",
       "    </tr>\n",
       "  </tbody>\n",
       "</table>\n",
       "</div>"
      ],
      "text/plain": [
       "                    text  emotion\n",
       "0  I feel a little angry        1\n",
       "1     I'm a little angry        1\n",
       "2   I feel kind of angry        1\n",
       "3      I'm kind of angry        1\n",
       "4   I feel sort of angry        1"
      ]
     },
     "execution_count": 43,
     "metadata": {},
     "output_type": "execute_result"
    }
   ],
   "source": [
    "hp.head()"
   ]
  },
  {
   "cell_type": "code",
   "execution_count": 44,
   "metadata": {},
   "outputs": [
    {
     "data": {
      "text/html": [
       "<div>\n",
       "<style scoped>\n",
       "    .dataframe tbody tr th:only-of-type {\n",
       "        vertical-align: middle;\n",
       "    }\n",
       "\n",
       "    .dataframe tbody tr th {\n",
       "        vertical-align: top;\n",
       "    }\n",
       "\n",
       "    .dataframe thead th {\n",
       "        text-align: right;\n",
       "    }\n",
       "</style>\n",
       "<table border=\"1\" class=\"dataframe\">\n",
       "  <thead>\n",
       "    <tr style=\"text-align: right;\">\n",
       "      <th></th>\n",
       "      <th>text</th>\n",
       "    </tr>\n",
       "    <tr>\n",
       "      <th>emotion</th>\n",
       "      <th></th>\n",
       "    </tr>\n",
       "  </thead>\n",
       "  <tbody>\n",
       "    <tr>\n",
       "      <td>1</td>\n",
       "      <td>840</td>\n",
       "    </tr>\n",
       "    <tr>\n",
       "      <td>2</td>\n",
       "      <td>392</td>\n",
       "    </tr>\n",
       "    <tr>\n",
       "      <td>3</td>\n",
       "      <td>1512</td>\n",
       "    </tr>\n",
       "    <tr>\n",
       "      <td>4</td>\n",
       "      <td>1792</td>\n",
       "    </tr>\n",
       "    <tr>\n",
       "      <td>5</td>\n",
       "      <td>896</td>\n",
       "    </tr>\n",
       "    <tr>\n",
       "      <td>7</td>\n",
       "      <td>644</td>\n",
       "    </tr>\n",
       "  </tbody>\n",
       "</table>\n",
       "</div>"
      ],
      "text/plain": [
       "         text\n",
       "emotion      \n",
       "1         840\n",
       "2         392\n",
       "3        1512\n",
       "4        1792\n",
       "5         896\n",
       "7         644"
      ]
     },
     "execution_count": 44,
     "metadata": {},
     "output_type": "execute_result"
    }
   ],
   "source": [
    "class_dist_hp = hp.groupby('emotion').count()\n",
    "class_dist_hp"
   ]
  },
  {
   "cell_type": "code",
   "execution_count": 47,
   "metadata": {},
   "outputs": [],
   "source": [
    "hp = hp[hp.emotion != 7]"
   ]
  },
  {
   "cell_type": "code",
   "execution_count": 48,
   "metadata": {},
   "outputs": [
    {
     "data": {
      "text/html": [
       "<div>\n",
       "<style scoped>\n",
       "    .dataframe tbody tr th:only-of-type {\n",
       "        vertical-align: middle;\n",
       "    }\n",
       "\n",
       "    .dataframe tbody tr th {\n",
       "        vertical-align: top;\n",
       "    }\n",
       "\n",
       "    .dataframe thead th {\n",
       "        text-align: right;\n",
       "    }\n",
       "</style>\n",
       "<table border=\"1\" class=\"dataframe\">\n",
       "  <thead>\n",
       "    <tr style=\"text-align: right;\">\n",
       "      <th></th>\n",
       "      <th>text</th>\n",
       "    </tr>\n",
       "    <tr>\n",
       "      <th>emotion</th>\n",
       "      <th></th>\n",
       "    </tr>\n",
       "  </thead>\n",
       "  <tbody>\n",
       "    <tr>\n",
       "      <td>1</td>\n",
       "      <td>840</td>\n",
       "    </tr>\n",
       "    <tr>\n",
       "      <td>2</td>\n",
       "      <td>392</td>\n",
       "    </tr>\n",
       "    <tr>\n",
       "      <td>3</td>\n",
       "      <td>1512</td>\n",
       "    </tr>\n",
       "    <tr>\n",
       "      <td>4</td>\n",
       "      <td>1792</td>\n",
       "    </tr>\n",
       "    <tr>\n",
       "      <td>5</td>\n",
       "      <td>896</td>\n",
       "    </tr>\n",
       "  </tbody>\n",
       "</table>\n",
       "</div>"
      ],
      "text/plain": [
       "         text\n",
       "emotion      \n",
       "1         840\n",
       "2         392\n",
       "3        1512\n",
       "4        1792\n",
       "5         896"
      ]
     },
     "execution_count": 48,
     "metadata": {},
     "output_type": "execute_result"
    }
   ],
   "source": [
    "class_dist_hp = hp.groupby('emotion').count()\n",
    "class_dist_hp"
   ]
  },
  {
   "cell_type": "code",
   "execution_count": 72,
   "metadata": {},
   "outputs": [],
   "source": [
    "master_hp = pd.concat([master_under, hp])"
   ]
  },
  {
   "cell_type": "code",
   "execution_count": 76,
   "metadata": {},
   "outputs": [
    {
     "data": {
      "text/plain": [
       "(21347, 2)"
      ]
     },
     "execution_count": 76,
     "metadata": {},
     "output_type": "execute_result"
    }
   ],
   "source": [
    "master_hp.shape"
   ]
  },
  {
   "cell_type": "code",
   "execution_count": 78,
   "metadata": {},
   "outputs": [
    {
     "name": "stdout",
     "output_type": "stream",
     "text": [
      "<class 'pandas.core.frame.DataFrame'>\n",
      "Int64Index: 21347 entries, 32194 to 5431\n",
      "Data columns (total 2 columns):\n",
      "text       21347 non-null object\n",
      "emotion    21347 non-null int64\n",
      "dtypes: int64(1), object(1)\n",
      "memory usage: 500.3+ KB\n"
     ]
    }
   ],
   "source": [
    "master_hp.info()"
   ]
  },
  {
   "cell_type": "code",
   "execution_count": 79,
   "metadata": {},
   "outputs": [],
   "source": [
    "master_hp.reset_index(drop=True, inplace=True)"
   ]
  },
  {
   "cell_type": "code",
   "execution_count": 80,
   "metadata": {},
   "outputs": [
    {
     "name": "stdout",
     "output_type": "stream",
     "text": [
      "<class 'pandas.core.frame.DataFrame'>\n",
      "RangeIndex: 21347 entries, 0 to 21346\n",
      "Data columns (total 2 columns):\n",
      "text       21347 non-null object\n",
      "emotion    21347 non-null int64\n",
      "dtypes: int64(1), object(1)\n",
      "memory usage: 333.7+ KB\n"
     ]
    }
   ],
   "source": [
    "master_hp.info()"
   ]
  },
  {
   "cell_type": "code",
   "execution_count": 73,
   "metadata": {},
   "outputs": [
    {
     "data": {
      "text/html": [
       "<div>\n",
       "<style scoped>\n",
       "    .dataframe tbody tr th:only-of-type {\n",
       "        vertical-align: middle;\n",
       "    }\n",
       "\n",
       "    .dataframe tbody tr th {\n",
       "        vertical-align: top;\n",
       "    }\n",
       "\n",
       "    .dataframe thead th {\n",
       "        text-align: right;\n",
       "    }\n",
       "</style>\n",
       "<table border=\"1\" class=\"dataframe\">\n",
       "  <thead>\n",
       "    <tr style=\"text-align: right;\">\n",
       "      <th></th>\n",
       "      <th>text</th>\n",
       "    </tr>\n",
       "    <tr>\n",
       "      <th>emotion</th>\n",
       "      <th></th>\n",
       "    </tr>\n",
       "  </thead>\n",
       "  <tbody>\n",
       "    <tr>\n",
       "      <td>0</td>\n",
       "      <td>2500</td>\n",
       "    </tr>\n",
       "    <tr>\n",
       "      <td>1</td>\n",
       "      <td>3593</td>\n",
       "    </tr>\n",
       "    <tr>\n",
       "      <td>2</td>\n",
       "      <td>2192</td>\n",
       "    </tr>\n",
       "    <tr>\n",
       "      <td>3</td>\n",
       "      <td>3312</td>\n",
       "    </tr>\n",
       "    <tr>\n",
       "      <td>4</td>\n",
       "      <td>3792</td>\n",
       "    </tr>\n",
       "    <tr>\n",
       "      <td>5</td>\n",
       "      <td>3458</td>\n",
       "    </tr>\n",
       "    <tr>\n",
       "      <td>6</td>\n",
       "      <td>2500</td>\n",
       "    </tr>\n",
       "  </tbody>\n",
       "</table>\n",
       "</div>"
      ],
      "text/plain": [
       "         text\n",
       "emotion      \n",
       "0        2500\n",
       "1        3593\n",
       "2        2192\n",
       "3        3312\n",
       "4        3792\n",
       "5        3458\n",
       "6        2500"
      ]
     },
     "execution_count": 73,
     "metadata": {},
     "output_type": "execute_result"
    }
   ],
   "source": [
    "class_dist_master_hp = master_hp.groupby('emotion').count()\n",
    "class_dist_master_hp"
   ]
  },
  {
   "cell_type": "code",
   "execution_count": 74,
   "metadata": {},
   "outputs": [
    {
     "data": {
      "text/plain": [
       "Text(0, 0.5, 'Number of Instances')"
      ]
     },
     "execution_count": 74,
     "metadata": {},
     "output_type": "execute_result"
    },
    {
     "data": {
      "image/png": "[encoded data removed]",
      "text/plain": [
       "<Figure size 720x720 with 1 Axes>"
      ]
     },
     "metadata": {
      "needs_background": "light"
     },
     "output_type": "display_data"
    }
   ],
   "source": [
    "emotions = ['No emotion', 'Anger', 'Disgust', 'Fear', 'Happiness', 'Sadness', 'Surprise']\n",
    "plt.figure(figsize=(10,10))\n",
    "plt.bar(class_dist_master_hp.index, class_dist_master_hp['text'], tick_label=emotions)\n",
    "plt.title('Emotion Class Distribution')\n",
    "plt.xlabel('Emotion Classes')\n",
    "plt.ylabel('Number of Instances')"
   ]
  },
  {
   "cell_type": "code",
   "execution_count": 81,
   "metadata": {},
   "outputs": [],
   "source": [
    "master_hp.to_pickle('data/master_under.pickle')"
   ]
  },
  {
   "cell_type": "code",
   "execution_count": null,
   "metadata": {},
   "outputs": [],
   "source": []
  }
 ],
 "metadata": {
  "kernelspec": {
   "display_name": "Python 3",
   "language": "python",
   "name": "python3"
  },
  "language_info": {
   "codemirror_mode": {
    "name": "ipython",
    "version": 3
   },
   "file_extension": ".py",
   "mimetype": "text/x-python",
   "name": "python",
   "nbconvert_exporter": "python",
   "pygments_lexer": "ipython3",
   "version": "3.7.4"
  },
  "toc": {
   "base_numbering": 1,
   "nav_menu": {},
   "number_sections": true,
   "sideBar": true,
   "skip_h1_title": false,
   "title_cell": "Table of Contents",
   "title_sidebar": "Contents",
   "toc_cell": false,
   "toc_position": {},
   "toc_section_display": true,
   "toc_window_display": false
  },
  "varInspector": {
   "cols": {
    "lenName": 16,
    "lenType": 16,
    "lenVar": 40
   },
   "kernels_config": {
    "python": {
     "delete_cmd_postfix": "",
     "delete_cmd_prefix": "del ",
     "library": "var_list.py",
     "varRefreshCmd": "print(var_dic_list())"
    },
    "r": {
     "delete_cmd_postfix": ") ",
     "delete_cmd_prefix": "rm(",
     "library": "var_list.r",
     "varRefreshCmd": "cat(var_dic_list()) "
    }
   },
   "types_to_exclude": [
    "module",
    "function",
    "builtin_function_or_method",
    "instance",
    "_Feature"
   ],
   "window_display": false
  }
 },
 "nbformat": 4,
 "nbformat_minor": 2
}
