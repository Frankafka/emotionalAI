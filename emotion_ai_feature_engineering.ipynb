{
 "cells": [
  {
   "cell_type": "markdown",
   "metadata": {},
   "source": [
    "# Emotional AI: Feature Engineering"
   ]
  },
  {
   "cell_type": "markdown",
   "metadata": {},
   "source": [
    "Anaysis by Frank Flavell"
   ]
  },
  {
   "cell_type": "markdown",
   "metadata": {},
   "source": [
    "## How do people communicate about their emotions through text?\n",
    "By identifying the way people communicate about their emotions, we can determine specific features to engineer that could capture each use case.\n",
    "\n",
    "* ***Specific Emotion Words:*** Ideally the person uses specific words that get right at the emotion they currently feel as well as the causes and consequences of that emotion.  \n",
    "\n",
    "    * Example: \"I feel alienated because my friends didn't invite me to a concert and I'm not sure if they like me.\"\n",
    "<br/><br/>\n",
    "* ***Causes:*** The person can articulate the cause of the emotion they feel without having identified the emotion that has been caused.  This is like knowing the definition of a word without knowing the actual word.  The emotion must be inferred using the context of the message.\n",
    "\n",
    "    * Example: \"My friends didn't invite me to a concert.\"\n",
    "<br/><br/>\n",
    "* ***Consequences:*** Similar to causes, the person can articulate the consequences of the emotion they are feeling or how it is affecting them and/or others.  Causes and consequences are not mutually exclusive and it is sometimes easier to see the consequences of an emotion without understanding the cause.\n",
    "\n",
    "    * Example: \"I'm not sure if my friends like me.\"\n",
    "<br/><br/>\n",
    "* ***Incohate:*** The person knows they are feeling something and it is having an impact on them, but they haven't been able to even articulate the consequences of the emotion.  They use vague emotion words that signal toward a positive or negative feeling, like \"good\" or \"bad\".\n",
    "\n",
    "    * Example: \"I'm feeling bad.\"\n",
    "<br/><br/>\n",
    "* ***Buried, but Willing:*** Almost worst case scenario, which is probably to be expected, is that the person isn't even thinking about their emotions.  They are willing to discuss it, but they aren't aware of how they feel or the causes and consequences of those emotions.  They most likely unwittingly mask their true feelings by using vague emotion words like \"fine,\" \"okay,\" \"alright,\" etc.\n",
    "\n",
    "    * Example: \"I'm fine.\"\n",
    "<br/><br/>\n",
    "* ***Buried, but Unwilling:*** Worst case scenario the person is unaware of their feelings and unwilling to talk about it.\n",
    "\n",
    "    * Example: \"Can't talk right now.\"\n",
    "<br/><br/>\n",
    "\n",
    "## What new features can be engineered to match communication?\n",
    "In order of development priority.\n",
    "\n",
    "* ***Emotion Score:*** Calculate the emotional intensity of keywords to calculate to prioritize one emotion over the others.\n",
    "<br/><br/>\n",
    "* ***Key Punctuation:*** (? ! .) could help us identify emotion and possibly the intensity of the emotion.\n",
    "<br/><br/>\n",
    "* ***Parts of Speech:*** Extract the parts of speech tags to gain a more accurate contextual understanding of the person's message to help with emotion words.\n",
    "<br/><br/>\n",
    "* ***Capitalization Ratio:*** number of capital letters divided by the number of words in the utterance.\n",
    "<br/><br/>\n",
    "\n",
    "Because the main goal is to build a machine learning model sophisticated enough to recognize the linguistic patterns assoicated with emotions, I decided not to engineer the following features.  The features listed below would essentially be a crutch for the model when what I really need is more, and a wide variety of, observations in my data related to each emotion.\n",
    "\n",
    "* ***Emotion Words:*** Connect the person's words back to a specific emotion using a emotion lexicon with intensity scores.\n",
    "<br/><br/>\n",
    "* ***Synonyms:*** Use synonyms of the person's keywords to connect the message to a specific emotion.\n",
    "<br/><br/>\n",
    "\n",
    "\n",
    "## Findings\n",
    "\n",
    "#### Emotion Score Calculator\n",
    "\n",
    "Before the Emotion Score Calculator can be put into production, it requires a more robust emotional lexicon that meets the following characteristics:\n",
    "* Less or no duplicate words shared between emotions.\n",
    "* A larger vocabulary that includes more words from everyday language\n",
    "* Better intensity scoring to ensure words lead back to the correct classification.\n",
    "\n",
    "Next steps will be to find or develop a more comprehensive lexicon.\n",
    "\n",
    "#### Punctuation Calculator\n",
    "\n",
    "The punctuation calculator is useful in recognizing the intensity of an emotion and in identifying a question, which often fall into the \"no emotion\" class.  I'm not convinced this feature will truly be effective at assisting with the classification of our 6 emotions.  But I will still put it into production because clear patterns could emerge with enough data.\n",
    "\n",
    "#### Parts of Speech\n",
    "\n",
    "Parts of Speech would be useful for entity extraction, which could be combined with the emotion score calculator to more effectively identify emotional keywords.  But I'm not sure how this feature, by itself, will aid a machine learning model in learning the linguistic patterns associated with specific emotions. Until we build a more comprehensive lexicon of emotions, I do not think this feature is of use.\n",
    "\n",
    "#### Capitalization Ratio\n",
    "\n",
    "Similar to punctuation calculator, the capitalization ratio signifies emotional intensity more than actual emotion.  All caps can be used to signify excitment and happiness as well as anger and complete demoralization.  However, with enough data, I could eventually identify a pattern associated with a specific emotional class.\n",
    "\n",
    "\n",
    "\n",
    "## Table of Contents<span id=\"0\"></span>\n",
    "\n",
    "1. [**Emotion Score Calculator**](#1)\n",
    "<br/><br/>\n",
    "2. [**Punctuation Counter**](#2)\n",
    "<br/><br/>\n",
    "3. [**Parts of Speech**](#3)\n",
    "<br/><br/>\n",
    "4. [**Capitalization Ratio**](#4)\n",
    "<br/><br/>\n"
   ]
  },
  {
   "cell_type": "markdown",
   "metadata": {},
   "source": [
    "# Package Import"
   ]
  },
  {
   "cell_type": "code",
   "execution_count": 2,
   "metadata": {
    "scrolled": true
   },
   "outputs": [
    {
     "name": "stderr",
     "output_type": "stream",
     "text": [
      "[nltk_data] Downloading package stopwords to\n",
      "[nltk_data]     /Users/matthewflavell/nltk_data...\n",
      "[nltk_data]   Package stopwords is already up-to-date!\n",
      "[nltk_data] Downloading package punkt to\n",
      "[nltk_data]     /Users/matthewflavell/nltk_data...\n",
      "[nltk_data]   Package punkt is already up-to-date!\n",
      "[nltk_data] Downloading package wordnet to\n",
      "[nltk_data]     /Users/matthewflavell/nltk_data...\n",
      "[nltk_data]   Package wordnet is already up-to-date!\n"
     ]
    }
   ],
   "source": [
    "# import external libraries\n",
    "import pandas as pd\n",
    "import numpy as np\n",
    "import matplotlib as cm\n",
    "import matplotlib.pyplot as plt\n",
    "import seaborn as sns\n",
    "\n",
    "from collections import Counter\n",
    "import re #regex\n",
    "import random\n",
    "from sklearn.feature_extraction.text import CountVectorizer\n",
    "from sklearn.feature_extraction.text import TfidfVectorizer\n",
    "from sklearn.decomposition import LatentDirichletAllocation\n",
    "\n",
    "import nltk\n",
    "from nltk.probability import FreqDist\n",
    "from nltk.corpus import stopwords\n",
    "from nltk.stem import PorterStemmer\n",
    "from nltk.tokenize import word_tokenize\n",
    "\n",
    "from sklearn.feature_extraction.text import CountVectorizer\n",
    "from sklearn.feature_extraction.text import TfidfVectorizer\n",
    "from sklearn.feature_extraction.text import TfidfTransformer\n",
    "from sklearn.decomposition import LatentDirichletAllocation\n",
    "from sklearn.metrics.pairwise import linear_kernel\n",
    "from sklearn.metrics import confusion_matrix\n",
    "from sklearn.naive_bayes import MultinomialNB\n",
    "from sklearn import metrics\n",
    "from sklearn.model_selection import train_test_split\n",
    "from sklearn.ensemble import RandomForestClassifier\n",
    "from sklearn.metrics import accuracy_score\n",
    "from sklearn.metrics import f1_score\n",
    "\n",
    "nltk.download('stopwords')\n",
    "nltk.download('punkt')\n",
    "nltk.download('wordnet')\n",
    "\n",
    "# Configure matplotlib for jupyter.\n",
    "%matplotlib inline"
   ]
  },
  {
   "cell_type": "markdown",
   "metadata": {},
   "source": [
    "# Data Import"
   ]
  },
  {
   "cell_type": "code",
   "execution_count": 5,
   "metadata": {},
   "outputs": [],
   "source": [
    "#Import cleaned data from pickle\n",
    "df = pd.read_pickle('data/dailydialog/dialogue_lowered_contractions.pickle')"
   ]
  },
  {
   "cell_type": "code",
   "execution_count": 6,
   "metadata": {
    "scrolled": true
   },
   "outputs": [
    {
     "data": {
      "text/html": [
       "<div>\n",
       "<style scoped>\n",
       "    .dataframe tbody tr th:only-of-type {\n",
       "        vertical-align: middle;\n",
       "    }\n",
       "\n",
       "    .dataframe tbody tr th {\n",
       "        vertical-align: top;\n",
       "    }\n",
       "\n",
       "    .dataframe thead th {\n",
       "        text-align: right;\n",
       "    }\n",
       "</style>\n",
       "<table border=\"1\" class=\"dataframe\">\n",
       "  <thead>\n",
       "    <tr style=\"text-align: right;\">\n",
       "      <th></th>\n",
       "      <th>dialogue</th>\n",
       "      <th>topic</th>\n",
       "      <th>emotion</th>\n",
       "      <th>type</th>\n",
       "    </tr>\n",
       "  </thead>\n",
       "  <tbody>\n",
       "    <tr>\n",
       "      <td>0</td>\n",
       "      <td>the kitchen stinks.</td>\n",
       "      <td>1</td>\n",
       "      <td>2</td>\n",
       "      <td>3</td>\n",
       "    </tr>\n",
       "    <tr>\n",
       "      <td>1</td>\n",
       "      <td>i will throw out the garbage.</td>\n",
       "      <td>1</td>\n",
       "      <td>0</td>\n",
       "      <td>4</td>\n",
       "    </tr>\n",
       "  </tbody>\n",
       "</table>\n",
       "</div>"
      ],
      "text/plain": [
       "                        dialogue  topic  emotion  type\n",
       "0            the kitchen stinks.      1        2     3\n",
       "1  i will throw out the garbage.      1        0     4"
      ]
     },
     "execution_count": 6,
     "metadata": {},
     "output_type": "execute_result"
    }
   ],
   "source": [
    "df.head(2)"
   ]
  },
  {
   "cell_type": "code",
   "execution_count": 13,
   "metadata": {},
   "outputs": [
    {
     "data": {
      "text/plain": [
       "(102980, 4)"
      ]
     },
     "execution_count": 13,
     "metadata": {},
     "output_type": "execute_result"
    }
   ],
   "source": [
    "df.shape"
   ]
  },
  {
   "cell_type": "code",
   "execution_count": 11,
   "metadata": {},
   "outputs": [],
   "source": [
    "nrc_lex = pd.read_pickle('data/nrc/eai_nrc_lex.pickle')"
   ]
  },
  {
   "cell_type": "code",
   "execution_count": 12,
   "metadata": {},
   "outputs": [
    {
     "data": {
      "text/html": [
       "<div>\n",
       "<style scoped>\n",
       "    .dataframe tbody tr th:only-of-type {\n",
       "        vertical-align: middle;\n",
       "    }\n",
       "\n",
       "    .dataframe tbody tr th {\n",
       "        vertical-align: top;\n",
       "    }\n",
       "\n",
       "    .dataframe thead th {\n",
       "        text-align: right;\n",
       "    }\n",
       "</style>\n",
       "<table border=\"1\" class=\"dataframe\">\n",
       "  <thead>\n",
       "    <tr style=\"text-align: right;\">\n",
       "      <th></th>\n",
       "      <th>word</th>\n",
       "      <th>score</th>\n",
       "      <th>emotion</th>\n",
       "    </tr>\n",
       "  </thead>\n",
       "  <tbody>\n",
       "    <tr>\n",
       "      <td>0</td>\n",
       "      <td>outraged</td>\n",
       "      <td>0.964</td>\n",
       "      <td>1</td>\n",
       "    </tr>\n",
       "    <tr>\n",
       "      <td>1</td>\n",
       "      <td>brutality</td>\n",
       "      <td>0.959</td>\n",
       "      <td>1</td>\n",
       "    </tr>\n",
       "    <tr>\n",
       "      <td>2</td>\n",
       "      <td>hatred</td>\n",
       "      <td>0.953</td>\n",
       "      <td>1</td>\n",
       "    </tr>\n",
       "    <tr>\n",
       "      <td>3</td>\n",
       "      <td>hateful</td>\n",
       "      <td>0.940</td>\n",
       "      <td>1</td>\n",
       "    </tr>\n",
       "    <tr>\n",
       "      <td>4</td>\n",
       "      <td>terrorize</td>\n",
       "      <td>0.939</td>\n",
       "      <td>1</td>\n",
       "    </tr>\n",
       "  </tbody>\n",
       "</table>\n",
       "</div>"
      ],
      "text/plain": [
       "        word  score  emotion\n",
       "0   outraged  0.964        1\n",
       "1  brutality  0.959        1\n",
       "2     hatred  0.953        1\n",
       "3    hateful  0.940        1\n",
       "4  terrorize  0.939        1"
      ]
     },
     "execution_count": 12,
     "metadata": {},
     "output_type": "execute_result"
    }
   ],
   "source": [
    "nrc_lex.head()"
   ]
  },
  {
   "cell_type": "code",
   "execution_count": 14,
   "metadata": {},
   "outputs": [
    {
     "data": {
      "text/plain": [
       "(7493, 3)"
      ]
     },
     "execution_count": 14,
     "metadata": {},
     "output_type": "execute_result"
    }
   ],
   "source": [
    "nrc_lex.shape"
   ]
  },
  {
   "cell_type": "markdown",
   "metadata": {},
   "source": [
    "# <span id=\"1\"></span>1. Emotion Score Calculator\n",
    "#### [Return Contents](#0)"
   ]
  },
  {
   "cell_type": "markdown",
   "metadata": {},
   "source": [
    "Here I will build an emotion score calculator to determine how closely associated a sentence is with a specific emotion.\n",
    "\n",
    "**Input:** utterance, str\n",
    "\n",
    "**Output:** str and int, separated by comma if multiple emotions.\n",
    "\n",
    "**Function Operations:**\n",
    "1. Take in the string utterance, remove punctuation and tokenize it\n",
    "    * Could be useful to include the ability to lower case and expand contractions.\n",
    "2. Compare each token in the utterance to a lexicon of words associated with the six emotion classes.\n",
    "3. Add up the intensity scores of each word associated with each emotion.\n",
    "4. Determine which emotion(s) exceed a specific threshold and can be confidently classified with those emotions.\n",
    "5. Input the score(s) in the in the emotion score column for the utterance.\n",
    "\n",
    "**Process:**\n",
    "1. Successfully complete the process for one utterance.\n",
    "2. Build the function using the sucessful steps.\n",
    "3. Test the function on two other utterances.\n",
    "4. Use .apply to calculate the scores for all utterances in the dataset."
   ]
  },
  {
   "cell_type": "markdown",
   "metadata": {},
   "source": [
    "### Remove punctuation and tokenize"
   ]
  },
  {
   "cell_type": "code",
   "execution_count": 4,
   "metadata": {},
   "outputs": [],
   "source": [
    "REPLACE_BY_SPACE_RE = re.compile('[/(){}\\[\\]\\|@,;]')\n",
    "BAD_SYMBOLS_RE = re.compile('[^0-9a-z #+_]')\n",
    "STOPWORDS = set(stopwords.words('english'))\n",
    "\n",
    "def clean_text(text):\n",
    "    \"\"\"\n",
    "        text: a string\n",
    "        \n",
    "        return: modified initial string\n",
    "    \"\"\"\n",
    "    text = text.lower() # lowercase text\n",
    "    text = REPLACE_BY_SPACE_RE.sub(' ', text) # replace REPLACE_BY_SPACE_RE symbols by space in text. substitute the matched string in REPLACE_BY_SPACE_RE with space.\n",
    "    text = BAD_SYMBOLS_RE.sub('', text) # remove symbols which are in BAD_SYMBOLS_RE from text. substitute the matched string in BAD_SYMBOLS_RE with nothing. \n",
    "#   text = ' '.join(word for word in text.split() if word not in STOPWORDS) # remove stopwors from text\n",
    "    return text"
   ]
  },
  {
   "cell_type": "code",
   "execution_count": 189,
   "metadata": {},
   "outputs": [
    {
     "data": {
      "text/html": [
       "<div>\n",
       "<style scoped>\n",
       "    .dataframe tbody tr th:only-of-type {\n",
       "        vertical-align: middle;\n",
       "    }\n",
       "\n",
       "    .dataframe tbody tr th {\n",
       "        vertical-align: top;\n",
       "    }\n",
       "\n",
       "    .dataframe thead th {\n",
       "        text-align: right;\n",
       "    }\n",
       "</style>\n",
       "<table border=\"1\" class=\"dataframe\">\n",
       "  <thead>\n",
       "    <tr style=\"text-align: right;\">\n",
       "      <th></th>\n",
       "      <th>dialogue</th>\n",
       "      <th>topic</th>\n",
       "      <th>emotion</th>\n",
       "      <th>type</th>\n",
       "    </tr>\n",
       "  </thead>\n",
       "  <tbody>\n",
       "    <tr>\n",
       "      <td>5</td>\n",
       "      <td>what is wrong with that? cigarette is the thin...</td>\n",
       "      <td>1</td>\n",
       "      <td>1</td>\n",
       "      <td>1</td>\n",
       "    </tr>\n",
       "    <tr>\n",
       "      <td>8</td>\n",
       "      <td>getting worse. now he is eating me out of hous...</td>\n",
       "      <td>1</td>\n",
       "      <td>1</td>\n",
       "      <td>1</td>\n",
       "    </tr>\n",
       "    <tr>\n",
       "      <td>70</td>\n",
       "      <td>no, the steak was recommended, but it is not v...</td>\n",
       "      <td>1</td>\n",
       "      <td>1</td>\n",
       "      <td>1</td>\n",
       "    </tr>\n",
       "    <tr>\n",
       "      <td>72</td>\n",
       "      <td>so what? it is not fresh and i am not happy ab...</td>\n",
       "      <td>1</td>\n",
       "      <td>1</td>\n",
       "      <td>1</td>\n",
       "    </tr>\n",
       "    <tr>\n",
       "      <td>74</td>\n",
       "      <td>no, thank you.</td>\n",
       "      <td>1</td>\n",
       "      <td>1</td>\n",
       "      <td>4</td>\n",
       "    </tr>\n",
       "    <tr>\n",
       "      <td>...</td>\n",
       "      <td>...</td>\n",
       "      <td>...</td>\n",
       "      <td>...</td>\n",
       "      <td>...</td>\n",
       "    </tr>\n",
       "    <tr>\n",
       "      <td>101913</td>\n",
       "      <td>i am sorry to say it is not on the way, but du...</td>\n",
       "      <td>10</td>\n",
       "      <td>1</td>\n",
       "      <td>1</td>\n",
       "    </tr>\n",
       "    <tr>\n",
       "      <td>102708</td>\n",
       "      <td>stupid girl, making me spend so much money, no...</td>\n",
       "      <td>10</td>\n",
       "      <td>1</td>\n",
       "      <td>3</td>\n",
       "    </tr>\n",
       "    <tr>\n",
       "      <td>102710</td>\n",
       "      <td>i know where to put my card! stupid machine, t...</td>\n",
       "      <td>10</td>\n",
       "      <td>1</td>\n",
       "      <td>1</td>\n",
       "    </tr>\n",
       "    <tr>\n",
       "      <td>102712</td>\n",
       "      <td>yeah, yeah, i know what i selected. just give ...</td>\n",
       "      <td>10</td>\n",
       "      <td>1</td>\n",
       "      <td>3</td>\n",
       "    </tr>\n",
       "    <tr>\n",
       "      <td>102714</td>\n",
       "      <td>no, no! stupid machine, what are you doing! no!</td>\n",
       "      <td>10</td>\n",
       "      <td>1</td>\n",
       "      <td>2</td>\n",
       "    </tr>\n",
       "  </tbody>\n",
       "</table>\n",
       "<p>1022 rows × 4 columns</p>\n",
       "</div>"
      ],
      "text/plain": [
       "                                                 dialogue  topic  emotion  \\\n",
       "5       what is wrong with that? cigarette is the thin...      1        1   \n",
       "8       getting worse. now he is eating me out of hous...      1        1   \n",
       "70      no, the steak was recommended, but it is not v...      1        1   \n",
       "72      so what? it is not fresh and i am not happy ab...      1        1   \n",
       "74                                         no, thank you.      1        1   \n",
       "...                                                   ...    ...      ...   \n",
       "101913  i am sorry to say it is not on the way, but du...     10        1   \n",
       "102708  stupid girl, making me spend so much money, no...     10        1   \n",
       "102710  i know where to put my card! stupid machine, t...     10        1   \n",
       "102712  yeah, yeah, i know what i selected. just give ...     10        1   \n",
       "102714    no, no! stupid machine, what are you doing! no!     10        1   \n",
       "\n",
       "        type  \n",
       "5          1  \n",
       "8          1  \n",
       "70         1  \n",
       "72         1  \n",
       "74         4  \n",
       "...      ...  \n",
       "101913     1  \n",
       "102708     3  \n",
       "102710     1  \n",
       "102712     3  \n",
       "102714     2  \n",
       "\n",
       "[1022 rows x 4 columns]"
      ]
     },
     "execution_count": 189,
     "metadata": {},
     "output_type": "execute_result"
    }
   ],
   "source": [
    "df[df.emotion == 1]"
   ]
  },
  {
   "cell_type": "code",
   "execution_count": 253,
   "metadata": {},
   "outputs": [
    {
     "data": {
      "text/plain": [
       "'i know where to put my card stupid machine  talking to me like i am an idiot'"
      ]
     },
     "execution_count": 253,
     "metadata": {},
     "output_type": "execute_result"
    }
   ],
   "source": [
    "test1 = clean_text(df.dialogue[102710])\n",
    "test1"
   ]
  },
  {
   "cell_type": "code",
   "execution_count": 254,
   "metadata": {},
   "outputs": [
    {
     "data": {
      "text/plain": [
       "'no  no stupid machine  what are you doing no'"
      ]
     },
     "execution_count": 254,
     "metadata": {},
     "output_type": "execute_result"
    }
   ],
   "source": [
    "test2 = clean_text(df.dialogue[102714])\n",
    "test2"
   ]
  },
  {
   "cell_type": "code",
   "execution_count": 255,
   "metadata": {},
   "outputs": [
    {
     "data": {
      "text/plain": [
       "['i',\n",
       " 'know',\n",
       " 'where',\n",
       " 'to',\n",
       " 'put',\n",
       " 'my',\n",
       " 'card',\n",
       " 'stupid',\n",
       " 'machine',\n",
       " 'talking',\n",
       " 'to',\n",
       " 'me',\n",
       " 'like',\n",
       " 'i',\n",
       " 'am',\n",
       " 'an',\n",
       " 'idiot']"
      ]
     },
     "execution_count": 255,
     "metadata": {},
     "output_type": "execute_result"
    }
   ],
   "source": [
    "from nltk.tokenize import RegexpTokenizer\n",
    "tokenizer = RegexpTokenizer(r'[a-zA-Z0-9]+')\n",
    "\n",
    "test1 = tokenizer.tokenize(test1)\n",
    "test1"
   ]
  },
  {
   "cell_type": "code",
   "execution_count": 256,
   "metadata": {},
   "outputs": [],
   "source": [
    "def sent_clean_token(text):\n",
    "    text = text.lower()\n",
    "    REPLACE_BY_SPACE_RE = re.compile('[/(){}\\[\\]\\|@,;]')\n",
    "    text = REPLACE_BY_SPACE_RE.sub(' ', text)\n",
    "    BAD_SYMBOLS_RE = re.compile('[^0-9a-z #+_]')\n",
    "    cleaned = BAD_SYMBOLS_RE.sub('', text)\n",
    "    tokenizer = RegexpTokenizer(r'[a-zA-Z0-9]+')\n",
    "    tokened = tokenizer.tokenize(cleaned)\n",
    "    return tokened"
   ]
  },
  {
   "cell_type": "code",
   "execution_count": 257,
   "metadata": {},
   "outputs": [
    {
     "data": {
      "text/plain": [
       "['no', 'no', 'stupid', 'machine', 'what', 'are', 'you', 'doing', 'no']"
      ]
     },
     "execution_count": 257,
     "metadata": {},
     "output_type": "execute_result"
    }
   ],
   "source": [
    "test2 = sent_clean_token(test2)\n",
    "test2"
   ]
  },
  {
   "cell_type": "markdown",
   "metadata": {},
   "source": [
    "### Compare each token in the sentence with emotion lexicon"
   ]
  },
  {
   "cell_type": "markdown",
   "metadata": {},
   "source": [
    "According to my EDA of the NRC Lexicon, there are many duplicate words in the lexicon, which means we will need a way to capture multiple emotion scores per word.  I decided to iterate over an utterance and build a mini dataframe containing the key emotion words and their scores."
   ]
  },
  {
   "cell_type": "markdown",
   "metadata": {},
   "source": [
    "The word 'outrage' belongs to two classes.  I start out by building a dataframe for just this word."
   ]
  },
  {
   "cell_type": "code",
   "execution_count": 258,
   "metadata": {},
   "outputs": [],
   "source": [
    "data = pd.DataFrame(columns=['word', 'score', 'emotion'])\n",
    "word = 'outrage'\n",
    "row = nrc_lex.loc[nrc_lex['word'] == word]\n",
    "data = pd.concat([data, row])"
   ]
  },
  {
   "cell_type": "code",
   "execution_count": 259,
   "metadata": {},
   "outputs": [
    {
     "data": {
      "text/html": [
       "<div>\n",
       "<style scoped>\n",
       "    .dataframe tbody tr th:only-of-type {\n",
       "        vertical-align: middle;\n",
       "    }\n",
       "\n",
       "    .dataframe tbody tr th {\n",
       "        vertical-align: top;\n",
       "    }\n",
       "\n",
       "    .dataframe thead th {\n",
       "        text-align: right;\n",
       "    }\n",
       "</style>\n",
       "<table border=\"1\" class=\"dataframe\">\n",
       "  <thead>\n",
       "    <tr style=\"text-align: right;\">\n",
       "      <th></th>\n",
       "      <th>word</th>\n",
       "      <th>score</th>\n",
       "      <th>emotion</th>\n",
       "    </tr>\n",
       "  </thead>\n",
       "  <tbody>\n",
       "    <tr>\n",
       "      <td>75</td>\n",
       "      <td>outrage</td>\n",
       "      <td>0.848</td>\n",
       "      <td>1</td>\n",
       "    </tr>\n",
       "    <tr>\n",
       "      <td>2089</td>\n",
       "      <td>outrage</td>\n",
       "      <td>0.469</td>\n",
       "      <td>2</td>\n",
       "    </tr>\n",
       "  </tbody>\n",
       "</table>\n",
       "</div>"
      ],
      "text/plain": [
       "         word  score emotion\n",
       "75    outrage  0.848       1\n",
       "2089  outrage  0.469       2"
      ]
     },
     "execution_count": 259,
     "metadata": {},
     "output_type": "execute_result"
    }
   ],
   "source": [
    "data"
   ]
  },
  {
   "cell_type": "markdown",
   "metadata": {},
   "source": [
    "Next I iterate over a list of multiple words and see my code works at building a dataframe containing all key words and their scores."
   ]
  },
  {
   "cell_type": "code",
   "execution_count": 260,
   "metadata": {},
   "outputs": [
    {
     "name": "stdout",
     "output_type": "stream",
     "text": [
      "         word  score emotion\n",
      "1635    gross  0.719       2\n",
      "75    outrage  0.848       1\n",
      "2089  outrage  0.469       2\n",
      "3500    worse  0.484       3\n",
      "6369    worse  0.453       5\n"
     ]
    }
   ],
   "source": [
    "sentence = ['gross', 'outrage', 'worse']\n",
    "data = pd.DataFrame(columns=['word', 'score', 'emotion'])\n",
    "for word in sentence:\n",
    "    row = nrc_lex.loc[nrc_lex['word'] == word]\n",
    "    data = pd.concat([data, row])\n",
    "print(data)"
   ]
  },
  {
   "cell_type": "markdown",
   "metadata": {},
   "source": [
    "I built a function to output this mini dataframe of key emotional words, scores, and classes."
   ]
  },
  {
   "cell_type": "code",
   "execution_count": 261,
   "metadata": {},
   "outputs": [],
   "source": [
    "def sent_df(sentence):\n",
    "    data = pd.DataFrame(columns=['word', 'score', 'emotion'])\n",
    "    for word in sentence:\n",
    "        row = nrc_lex.loc[nrc_lex['word'] == word]\n",
    "        data = pd.concat([data, row])\n",
    "    return data"
   ]
  },
  {
   "cell_type": "code",
   "execution_count": 262,
   "metadata": {},
   "outputs": [
    {
     "data": {
      "text/html": [
       "<div>\n",
       "<style scoped>\n",
       "    .dataframe tbody tr th:only-of-type {\n",
       "        vertical-align: middle;\n",
       "    }\n",
       "\n",
       "    .dataframe tbody tr th {\n",
       "        vertical-align: top;\n",
       "    }\n",
       "\n",
       "    .dataframe thead th {\n",
       "        text-align: right;\n",
       "    }\n",
       "</style>\n",
       "<table border=\"1\" class=\"dataframe\">\n",
       "  <thead>\n",
       "    <tr style=\"text-align: right;\">\n",
       "      <th></th>\n",
       "      <th>word</th>\n",
       "      <th>score</th>\n",
       "      <th>emotion</th>\n",
       "    </tr>\n",
       "  </thead>\n",
       "  <tbody>\n",
       "    <tr>\n",
       "      <td>2051</td>\n",
       "      <td>idiot</td>\n",
       "      <td>0.492</td>\n",
       "      <td>2</td>\n",
       "    </tr>\n",
       "  </tbody>\n",
       "</table>\n",
       "</div>"
      ],
      "text/plain": [
       "       word  score emotion\n",
       "2051  idiot  0.492       2"
      ]
     },
     "execution_count": 262,
     "metadata": {},
     "output_type": "execute_result"
    }
   ],
   "source": [
    "test1 = sent_df(test1)\n",
    "test1"
   ]
  },
  {
   "cell_type": "code",
   "execution_count": 263,
   "metadata": {},
   "outputs": [
    {
     "data": {
      "text/html": [
       "<div>\n",
       "<style scoped>\n",
       "    .dataframe tbody tr th:only-of-type {\n",
       "        vertical-align: middle;\n",
       "    }\n",
       "\n",
       "    .dataframe tbody tr th {\n",
       "        vertical-align: top;\n",
       "    }\n",
       "\n",
       "    .dataframe thead th {\n",
       "        text-align: right;\n",
       "    }\n",
       "</style>\n",
       "<table border=\"1\" class=\"dataframe\">\n",
       "  <thead>\n",
       "    <tr style=\"text-align: right;\">\n",
       "      <th></th>\n",
       "      <th>word</th>\n",
       "      <th>score</th>\n",
       "      <th>emotion</th>\n",
       "    </tr>\n",
       "  </thead>\n",
       "  <tbody>\n",
       "  </tbody>\n",
       "</table>\n",
       "</div>"
      ],
      "text/plain": [
       "Empty DataFrame\n",
       "Columns: [word, score, emotion]\n",
       "Index: []"
      ]
     },
     "execution_count": 263,
     "metadata": {},
     "output_type": "execute_result"
    }
   ],
   "source": [
    "test2 = sent_df(test2)\n",
    "test2"
   ]
  },
  {
   "cell_type": "markdown",
   "metadata": {},
   "source": [
    "### Add up scores for each emotion."
   ]
  },
  {
   "cell_type": "code",
   "execution_count": 203,
   "metadata": {},
   "outputs": [],
   "source": [
    "mini_df = sent_df(['gross', 'outrage', 'worse'])"
   ]
  },
  {
   "cell_type": "code",
   "execution_count": 205,
   "metadata": {},
   "outputs": [
    {
     "data": {
      "text/html": [
       "<div>\n",
       "<style scoped>\n",
       "    .dataframe tbody tr th:only-of-type {\n",
       "        vertical-align: middle;\n",
       "    }\n",
       "\n",
       "    .dataframe tbody tr th {\n",
       "        vertical-align: top;\n",
       "    }\n",
       "\n",
       "    .dataframe thead th {\n",
       "        text-align: right;\n",
       "    }\n",
       "</style>\n",
       "<table border=\"1\" class=\"dataframe\">\n",
       "  <thead>\n",
       "    <tr style=\"text-align: right;\">\n",
       "      <th></th>\n",
       "      <th>word</th>\n",
       "      <th>score</th>\n",
       "      <th>emotion</th>\n",
       "    </tr>\n",
       "  </thead>\n",
       "  <tbody>\n",
       "    <tr>\n",
       "      <td>1635</td>\n",
       "      <td>gross</td>\n",
       "      <td>0.719</td>\n",
       "      <td>2</td>\n",
       "    </tr>\n",
       "    <tr>\n",
       "      <td>75</td>\n",
       "      <td>outrage</td>\n",
       "      <td>0.848</td>\n",
       "      <td>1</td>\n",
       "    </tr>\n",
       "    <tr>\n",
       "      <td>2089</td>\n",
       "      <td>outrage</td>\n",
       "      <td>0.469</td>\n",
       "      <td>2</td>\n",
       "    </tr>\n",
       "    <tr>\n",
       "      <td>3500</td>\n",
       "      <td>worse</td>\n",
       "      <td>0.484</td>\n",
       "      <td>3</td>\n",
       "    </tr>\n",
       "    <tr>\n",
       "      <td>6369</td>\n",
       "      <td>worse</td>\n",
       "      <td>0.453</td>\n",
       "      <td>5</td>\n",
       "    </tr>\n",
       "  </tbody>\n",
       "</table>\n",
       "</div>"
      ],
      "text/plain": [
       "         word  score emotion\n",
       "1635    gross  0.719       2\n",
       "75    outrage  0.848       1\n",
       "2089  outrage  0.469       2\n",
       "3500    worse  0.484       3\n",
       "6369    worse  0.453       5"
      ]
     },
     "execution_count": 205,
     "metadata": {},
     "output_type": "execute_result"
    }
   ],
   "source": [
    "mini_df"
   ]
  },
  {
   "cell_type": "markdown",
   "metadata": {},
   "source": [
    "I made an even smaller dataframe for anger and then calculated the sentence's overall anger score."
   ]
  },
  {
   "cell_type": "code",
   "execution_count": 218,
   "metadata": {},
   "outputs": [],
   "source": [
    "anger = mini_df[mini_df.emotion == 1]"
   ]
  },
  {
   "cell_type": "code",
   "execution_count": 219,
   "metadata": {},
   "outputs": [
    {
     "data": {
      "text/plain": [
       "0.848"
      ]
     },
     "execution_count": 219,
     "metadata": {},
     "output_type": "execute_result"
    }
   ],
   "source": [
    "anger.score.sum()"
   ]
  },
  {
   "cell_type": "markdown",
   "metadata": {},
   "source": [
    "I then used the same code to build a function that calculates the overall emotional score for each emotion and outputs the scores in a dictionary."
   ]
  },
  {
   "cell_type": "code",
   "execution_count": 226,
   "metadata": {},
   "outputs": [],
   "source": [
    "def emo_scores(mini_df):\n",
    "    score = {1: 0, 2: 0, 3: 0, 4: 0, 5: 0, 6: 0}\n",
    "    #anger\n",
    "    anger = mini_df[mini_df.emotion == 1]\n",
    "    score[1] += anger.score.sum()\n",
    "    #disgust\n",
    "    disgust = mini_df[mini_df.emotion == 2]\n",
    "    score[2] += disgust.score.sum()\n",
    "    #fear\n",
    "    fear = mini_df[mini_df.emotion == 3]\n",
    "    score[3] += fear.score.sum()\n",
    "    #happy\n",
    "    happy = mini_df[mini_df.emotion == 4]\n",
    "    score[4] += happy.score.sum()   \n",
    "    #sad\n",
    "    sad = mini_df[mini_df.emotion == 5]\n",
    "    score[5] += sad.score.sum()\n",
    "    #surprise\n",
    "    surprise = mini_df[mini_df.emotion == 6]\n",
    "    score[6] += surprise.score.sum()\n",
    "    return score"
   ]
  },
  {
   "cell_type": "code",
   "execution_count": 227,
   "metadata": {
    "scrolled": false
   },
   "outputs": [
    {
     "data": {
      "text/plain": [
       "{1: 0.848,\n",
       " 2: 1.1880000000000002,\n",
       " 3: 0.484,\n",
       " 4: 0.0,\n",
       " 5: 0.45299999999999996,\n",
       " 6: 0.0}"
      ]
     },
     "execution_count": 227,
     "metadata": {},
     "output_type": "execute_result"
    }
   ],
   "source": [
    "score = emo_scores(mini_df)\n",
    "score"
   ]
  },
  {
   "cell_type": "code",
   "execution_count": 264,
   "metadata": {},
   "outputs": [
    {
     "data": {
      "text/plain": [
       "{1: 0.0, 2: 0.49200000000000005, 3: 0.0, 4: 0.0, 5: 0.0, 6: 0.0}"
      ]
     },
     "execution_count": 264,
     "metadata": {},
     "output_type": "execute_result"
    }
   ],
   "source": [
    "test1 = emo_scores(test1)\n",
    "test1"
   ]
  },
  {
   "cell_type": "code",
   "execution_count": 265,
   "metadata": {},
   "outputs": [
    {
     "data": {
      "text/plain": [
       "{1: 0, 2: 0, 3: 0, 4: 0, 5: 0, 6: 0}"
      ]
     },
     "execution_count": 265,
     "metadata": {},
     "output_type": "execute_result"
    }
   ],
   "source": [
    "test2 = emo_scores(test2)\n",
    "test2"
   ]
  },
  {
   "cell_type": "markdown",
   "metadata": {},
   "source": [
    "### Choose the emotion score to include"
   ]
  },
  {
   "cell_type": "markdown",
   "metadata": {},
   "source": [
    "Now I need to decide exactly what should be output and inserted into the new feature column.\n",
    "\n",
    "People often feel more than one emotion at a time.  It is common to feel angry and sad, angry and disgusted, sad and disgusted or happy and surprised at the same time.  Humans have complex emotions and combinations of emotions.  \n",
    "\n",
    "However, the purpose of this pipeline is to identify the main emotion someone is feeling so the bot can mirror that emotion back to the person. \n",
    "\n",
    "However, if there isn't a score for any of the emotion classes, then we need to output a 0."
   ]
  },
  {
   "cell_type": "code",
   "execution_count": 228,
   "metadata": {},
   "outputs": [
    {
     "data": {
      "text/plain": [
       "2"
      ]
     },
     "execution_count": 228,
     "metadata": {},
     "output_type": "execute_result"
    }
   ],
   "source": [
    "max_key = max(score, key=score.get)\n",
    "max_key"
   ]
  },
  {
   "cell_type": "code",
   "execution_count": 268,
   "metadata": {},
   "outputs": [],
   "source": [
    "def highest_score(score):\n",
    "    max_key = max(score, key=score.get)\n",
    "    if score[max_key] == 0:\n",
    "        return 0\n",
    "    else:\n",
    "        return max_key"
   ]
  },
  {
   "cell_type": "code",
   "execution_count": 269,
   "metadata": {},
   "outputs": [
    {
     "data": {
      "text/plain": [
       "2"
      ]
     },
     "execution_count": 269,
     "metadata": {},
     "output_type": "execute_result"
    }
   ],
   "source": [
    "test1 = highest_score(test1)\n",
    "test1"
   ]
  },
  {
   "cell_type": "code",
   "execution_count": 270,
   "metadata": {},
   "outputs": [
    {
     "data": {
      "text/plain": [
       "0"
      ]
     },
     "execution_count": 270,
     "metadata": {},
     "output_type": "execute_result"
    }
   ],
   "source": [
    "test2 = highest_score(test2)\n",
    "test2"
   ]
  },
  {
   "cell_type": "markdown",
   "metadata": {},
   "source": [
    "### Build Emotion Score Function & Test Cases"
   ]
  },
  {
   "cell_type": "code",
   "execution_count": 282,
   "metadata": {},
   "outputs": [],
   "source": [
    "def emotion_score_calc(text=str, df=False, cls=False):\n",
    "    \"\"\"\n",
    "        text: a string\n",
    "        \n",
    "        df: bool\n",
    "            function returns a dataframe containg the emotion keywords, \n",
    "            their scores, and associated emotion.\n",
    "            \n",
    "        cls: bool\n",
    "            If False, function returns a dictionary of the emotion scores.\n",
    "            If True, funtion returns the emotion classification with the highest score.\n",
    "    \"\"\"    \n",
    "    sentence = sent_clean_token(text)\n",
    "    mini_df = sent_df(sentence)\n",
    "    if df:\n",
    "        return mini_df\n",
    "    score = emo_scores(mini_df)\n",
    "    if cls:\n",
    "        return highest_score(score)\n",
    "    else:\n",
    "        return score"
   ]
  },
  {
   "cell_type": "code",
   "execution_count": 272,
   "metadata": {},
   "outputs": [
    {
     "data": {
      "text/html": [
       "<div>\n",
       "<style scoped>\n",
       "    .dataframe tbody tr th:only-of-type {\n",
       "        vertical-align: middle;\n",
       "    }\n",
       "\n",
       "    .dataframe tbody tr th {\n",
       "        vertical-align: top;\n",
       "    }\n",
       "\n",
       "    .dataframe thead th {\n",
       "        text-align: right;\n",
       "    }\n",
       "</style>\n",
       "<table border=\"1\" class=\"dataframe\">\n",
       "  <thead>\n",
       "    <tr style=\"text-align: right;\">\n",
       "      <th></th>\n",
       "      <th>dialogue</th>\n",
       "      <th>topic</th>\n",
       "      <th>emotion</th>\n",
       "      <th>type</th>\n",
       "    </tr>\n",
       "  </thead>\n",
       "  <tbody>\n",
       "    <tr>\n",
       "      <td>4389</td>\n",
       "      <td>promise that you will not get angry.</td>\n",
       "      <td>1</td>\n",
       "      <td>3</td>\n",
       "      <td>3</td>\n",
       "    </tr>\n",
       "    <tr>\n",
       "      <td>5076</td>\n",
       "      <td>i think it is dangerous. what if i cannot turn...</td>\n",
       "      <td>1</td>\n",
       "      <td>3</td>\n",
       "      <td>2</td>\n",
       "    </tr>\n",
       "    <tr>\n",
       "      <td>11304</td>\n",
       "      <td>i am worrying about it too. i want to install ...</td>\n",
       "      <td>1</td>\n",
       "      <td>3</td>\n",
       "      <td>1</td>\n",
       "    </tr>\n",
       "    <tr>\n",
       "      <td>11902</td>\n",
       "      <td>too bad. i really like it.</td>\n",
       "      <td>1</td>\n",
       "      <td>3</td>\n",
       "      <td>1</td>\n",
       "    </tr>\n",
       "    <tr>\n",
       "      <td>12876</td>\n",
       "      <td>really, it is so beautiful.</td>\n",
       "      <td>1</td>\n",
       "      <td>3</td>\n",
       "      <td>1</td>\n",
       "    </tr>\n",
       "    <tr>\n",
       "      <td>...</td>\n",
       "      <td>...</td>\n",
       "      <td>...</td>\n",
       "      <td>...</td>\n",
       "      <td>...</td>\n",
       "    </tr>\n",
       "    <tr>\n",
       "      <td>95125</td>\n",
       "      <td>i have not gone to the interview yet. it is to...</td>\n",
       "      <td>8</td>\n",
       "      <td>3</td>\n",
       "      <td>1</td>\n",
       "    </tr>\n",
       "    <tr>\n",
       "      <td>95181</td>\n",
       "      <td>ah, thanks.</td>\n",
       "      <td>8</td>\n",
       "      <td>3</td>\n",
       "      <td>1</td>\n",
       "    </tr>\n",
       "    <tr>\n",
       "      <td>96492</td>\n",
       "      <td>yeah?</td>\n",
       "      <td>9</td>\n",
       "      <td>3</td>\n",
       "      <td>2</td>\n",
       "    </tr>\n",
       "    <tr>\n",
       "      <td>98089</td>\n",
       "      <td>i do not know anything about the bills or laws...</td>\n",
       "      <td>9</td>\n",
       "      <td>3</td>\n",
       "      <td>1</td>\n",
       "    </tr>\n",
       "    <tr>\n",
       "      <td>98091</td>\n",
       "      <td>nobody told me that before.</td>\n",
       "      <td>9</td>\n",
       "      <td>3</td>\n",
       "      <td>1</td>\n",
       "    </tr>\n",
       "  </tbody>\n",
       "</table>\n",
       "<p>174 rows × 4 columns</p>\n",
       "</div>"
      ],
      "text/plain": [
       "                                                dialogue  topic  emotion  type\n",
       "4389                promise that you will not get angry.      1        3     3\n",
       "5076   i think it is dangerous. what if i cannot turn...      1        3     2\n",
       "11304  i am worrying about it too. i want to install ...      1        3     1\n",
       "11902                         too bad. i really like it.      1        3     1\n",
       "12876                        really, it is so beautiful.      1        3     1\n",
       "...                                                  ...    ...      ...   ...\n",
       "95125  i have not gone to the interview yet. it is to...      8        3     1\n",
       "95181                                        ah, thanks.      8        3     1\n",
       "96492                                              yeah?      9        3     2\n",
       "98089  i do not know anything about the bills or laws...      9        3     1\n",
       "98091                        nobody told me that before.      9        3     1\n",
       "\n",
       "[174 rows x 4 columns]"
      ]
     },
     "execution_count": 272,
     "metadata": {},
     "output_type": "execute_result"
    }
   ],
   "source": [
    "df[df.emotion == 3]"
   ]
  },
  {
   "cell_type": "markdown",
   "metadata": {},
   "source": [
    "### Test Case 3"
   ]
  },
  {
   "cell_type": "code",
   "execution_count": 288,
   "metadata": {},
   "outputs": [
    {
     "data": {
      "text/plain": [
       "'i think it is dangerous. what if i cannot turn it off?'"
      ]
     },
     "execution_count": 288,
     "metadata": {},
     "output_type": "execute_result"
    }
   ],
   "source": [
    "df.dialogue[5076]"
   ]
  },
  {
   "cell_type": "code",
   "execution_count": 278,
   "metadata": {},
   "outputs": [
    {
     "data": {
      "text/html": [
       "<div>\n",
       "<style scoped>\n",
       "    .dataframe tbody tr th:only-of-type {\n",
       "        vertical-align: middle;\n",
       "    }\n",
       "\n",
       "    .dataframe tbody tr th {\n",
       "        vertical-align: top;\n",
       "    }\n",
       "\n",
       "    .dataframe thead th {\n",
       "        text-align: right;\n",
       "    }\n",
       "</style>\n",
       "<table border=\"1\" class=\"dataframe\">\n",
       "  <thead>\n",
       "    <tr style=\"text-align: right;\">\n",
       "      <th></th>\n",
       "      <th>word</th>\n",
       "      <th>score</th>\n",
       "      <th>emotion</th>\n",
       "    </tr>\n",
       "  </thead>\n",
       "  <tbody>\n",
       "    <tr>\n",
       "      <td>2793</td>\n",
       "      <td>dangerous</td>\n",
       "      <td>0.750</td>\n",
       "      <td>3</td>\n",
       "    </tr>\n",
       "    <tr>\n",
       "      <td>2552</td>\n",
       "      <td>turn</td>\n",
       "      <td>0.133</td>\n",
       "      <td>2</td>\n",
       "    </tr>\n",
       "  </tbody>\n",
       "</table>\n",
       "</div>"
      ],
      "text/plain": [
       "           word  score emotion\n",
       "2793  dangerous  0.750       3\n",
       "2552       turn  0.133       2"
      ]
     },
     "execution_count": 278,
     "metadata": {},
     "output_type": "execute_result"
    }
   ],
   "source": [
    "emotion_score_calc(df.dialogue[5076], df=True)"
   ]
  },
  {
   "cell_type": "code",
   "execution_count": 279,
   "metadata": {},
   "outputs": [
    {
     "data": {
      "text/plain": [
       "{1: 0.0, 2: 0.133, 3: 0.75, 4: 0.0, 5: 0.0, 6: 0.0}"
      ]
     },
     "execution_count": 279,
     "metadata": {},
     "output_type": "execute_result"
    }
   ],
   "source": [
    "emotion_score_calc(df.dialogue[5076], cls=False)"
   ]
  },
  {
   "cell_type": "code",
   "execution_count": 280,
   "metadata": {},
   "outputs": [
    {
     "data": {
      "text/plain": [
       "3"
      ]
     },
     "execution_count": 280,
     "metadata": {},
     "output_type": "execute_result"
    }
   ],
   "source": [
    "emotion_score_calc(df.dialogue[5076], cls=True)"
   ]
  },
  {
   "cell_type": "markdown",
   "metadata": {},
   "source": [
    "### Test Case 4"
   ]
  },
  {
   "cell_type": "code",
   "execution_count": 287,
   "metadata": {},
   "outputs": [
    {
     "data": {
      "text/plain": [
       "'i am worrying about it too. i want to install a security door.'"
      ]
     },
     "execution_count": 287,
     "metadata": {},
     "output_type": "execute_result"
    }
   ],
   "source": [
    "df.dialogue[11304]"
   ]
  },
  {
   "cell_type": "code",
   "execution_count": 283,
   "metadata": {},
   "outputs": [
    {
     "data": {
      "text/html": [
       "<div>\n",
       "<style scoped>\n",
       "    .dataframe tbody tr th:only-of-type {\n",
       "        vertical-align: middle;\n",
       "    }\n",
       "\n",
       "    .dataframe tbody tr th {\n",
       "        vertical-align: top;\n",
       "    }\n",
       "\n",
       "    .dataframe thead th {\n",
       "        text-align: right;\n",
       "    }\n",
       "</style>\n",
       "<table border=\"1\" class=\"dataframe\">\n",
       "  <thead>\n",
       "    <tr style=\"text-align: right;\">\n",
       "      <th></th>\n",
       "      <th>word</th>\n",
       "      <th>score</th>\n",
       "      <th>emotion</th>\n",
       "    </tr>\n",
       "  </thead>\n",
       "  <tbody>\n",
       "    <tr>\n",
       "      <td>3526</td>\n",
       "      <td>worrying</td>\n",
       "      <td>0.484</td>\n",
       "      <td>3</td>\n",
       "    </tr>\n",
       "    <tr>\n",
       "      <td>6127</td>\n",
       "      <td>worrying</td>\n",
       "      <td>0.562</td>\n",
       "      <td>5</td>\n",
       "    </tr>\n",
       "  </tbody>\n",
       "</table>\n",
       "</div>"
      ],
      "text/plain": [
       "          word  score emotion\n",
       "3526  worrying  0.484       3\n",
       "6127  worrying  0.562       5"
      ]
     },
     "execution_count": 283,
     "metadata": {},
     "output_type": "execute_result"
    }
   ],
   "source": [
    "emotion_score_calc(df.dialogue[11304], df=True)"
   ]
  },
  {
   "cell_type": "code",
   "execution_count": 284,
   "metadata": {},
   "outputs": [
    {
     "data": {
      "text/plain": [
       "{1: 0.0, 2: 0.0, 3: 0.484, 4: 0.0, 5: 0.562, 6: 0.0}"
      ]
     },
     "execution_count": 284,
     "metadata": {},
     "output_type": "execute_result"
    }
   ],
   "source": [
    "emotion_score_calc(df.dialogue[11304], cls=False)"
   ]
  },
  {
   "cell_type": "code",
   "execution_count": 286,
   "metadata": {},
   "outputs": [
    {
     "data": {
      "text/plain": [
       "5"
      ]
     },
     "execution_count": 286,
     "metadata": {},
     "output_type": "execute_result"
    }
   ],
   "source": [
    "emotion_score_calc(df.dialogue[11304], cls=True)"
   ]
  },
  {
   "cell_type": "markdown",
   "metadata": {},
   "source": [
    "### Emotion Score Calculator Findings\n",
    "\n",
    "The calculator is only as good as the lexicon behind it and the emotional intelligence of the person feeding it messages.  We cannot expect the user to improve their vocabulary for the sake of the machine, so that means the lexicon must be robust enough to account for the language used to express everyday emotions.  The scores behind those words must also be accurate.\n",
    "\n",
    "Although the lexicon seems comprehensive on the surface, I do not think it actually meets the requirements of this specific project.  It failed to recognize the emotion classification for 3 out of 4 of the test cases.  It also seems the large number of duplicate words ultimately undermines the calculator's ability to classify the main emotion correctly.  \n",
    "\n",
    "I will need to find or build a more robust lexicon before implementing this feature in the model.\n",
    "\n",
    "However, the lexicon also brings to light some weaknesses of the DailyDialog dataset.  I do not agree with every classification I encounter and I also recognize that the structure of the utterances often do not adequately represent the types of inputs a chatbot will receive.  I will need to address this with more data."
   ]
  },
  {
   "cell_type": "markdown",
   "metadata": {},
   "source": [
    "# <span id=\"2\"></span>2. Punctuation Counter\n",
    "#### [Return Contents](#0)"
   ]
  },
  {
   "cell_type": "code",
   "execution_count": 294,
   "metadata": {},
   "outputs": [],
   "source": [
    "def punc_calc(text=str):\n",
    "    punc = {'?': 0, '!': 0}\n",
    "    #question mark\n",
    "    question = text.count('?')\n",
    "    punc['?'] += question\n",
    "    #exclamation point\n",
    "    exclaim = text.count('!')\n",
    "    punc['!'] += exclaim\n",
    "    return punc"
   ]
  },
  {
   "cell_type": "markdown",
   "metadata": {},
   "source": [
    "### Test 1"
   ]
  },
  {
   "cell_type": "code",
   "execution_count": 295,
   "metadata": {},
   "outputs": [
    {
     "data": {
      "text/plain": [
       "'yeah?'"
      ]
     },
     "execution_count": 295,
     "metadata": {},
     "output_type": "execute_result"
    }
   ],
   "source": [
    "df.dialogue[96492]"
   ]
  },
  {
   "cell_type": "code",
   "execution_count": 296,
   "metadata": {},
   "outputs": [
    {
     "data": {
      "text/plain": [
       "{'?': 1, '!': 0}"
      ]
     },
     "execution_count": 296,
     "metadata": {},
     "output_type": "execute_result"
    }
   ],
   "source": [
    "punc_calc(df.dialogue[96492])"
   ]
  },
  {
   "cell_type": "markdown",
   "metadata": {},
   "source": [
    "### Test 2"
   ]
  },
  {
   "cell_type": "code",
   "execution_count": 297,
   "metadata": {},
   "outputs": [
    {
     "data": {
      "text/plain": [
       "'no, no! stupid machine, what are you doing! no!'"
      ]
     },
     "execution_count": 297,
     "metadata": {},
     "output_type": "execute_result"
    }
   ],
   "source": [
    "df.dialogue[102714]"
   ]
  },
  {
   "cell_type": "code",
   "execution_count": 298,
   "metadata": {},
   "outputs": [
    {
     "data": {
      "text/plain": [
       "{'?': 0, '!': 3}"
      ]
     },
     "execution_count": 298,
     "metadata": {},
     "output_type": "execute_result"
    }
   ],
   "source": [
    "punc_calc(df.dialogue[102714])"
   ]
  },
  {
   "cell_type": "markdown",
   "metadata": {},
   "source": [
    "### Test 3"
   ]
  },
  {
   "cell_type": "code",
   "execution_count": 299,
   "metadata": {},
   "outputs": [
    {
     "data": {
      "text/plain": [
       "'i know where to put my card! stupid machine, talking to me like i am an idiot...'"
      ]
     },
     "execution_count": 299,
     "metadata": {},
     "output_type": "execute_result"
    }
   ],
   "source": [
    "df.dialogue[102710]"
   ]
  },
  {
   "cell_type": "code",
   "execution_count": 300,
   "metadata": {},
   "outputs": [
    {
     "data": {
      "text/plain": [
       "{'?': 0, '!': 1}"
      ]
     },
     "execution_count": 300,
     "metadata": {},
     "output_type": "execute_result"
    }
   ],
   "source": [
    "punc_calc(df.dialogue[102710])"
   ]
  },
  {
   "cell_type": "markdown",
   "metadata": {},
   "source": [
    "# <span id=\"3\"></span>3. Parts of Speech\n",
    "#### [Return Contents](#0)"
   ]
  },
  {
   "cell_type": "markdown",
   "metadata": {},
   "source": [
    "I will return to this feature once I have found or built a more comprehensive emotional lexicon."
   ]
  },
  {
   "cell_type": "code",
   "execution_count": null,
   "metadata": {},
   "outputs": [],
   "source": []
  },
  {
   "cell_type": "markdown",
   "metadata": {},
   "source": [
    "# <span id=\"4\"></span>4. Capitalization Ratio\n",
    "#### [Return Contents](#0)"
   ]
  },
  {
   "cell_type": "code",
   "execution_count": 301,
   "metadata": {},
   "outputs": [],
   "source": [
    "message = 'ONE TWO three'"
   ]
  },
  {
   "cell_type": "code",
   "execution_count": 308,
   "metadata": {
    "scrolled": true
   },
   "outputs": [
    {
     "data": {
      "text/plain": [
       "11"
      ]
     },
     "execution_count": 308,
     "metadata": {},
     "output_type": "execute_result"
    }
   ],
   "source": [
    "len(message.replace(\" \", \"\"))"
   ]
  },
  {
   "cell_type": "code",
   "execution_count": 303,
   "metadata": {},
   "outputs": [
    {
     "data": {
      "text/plain": [
       "6"
      ]
     },
     "execution_count": 303,
     "metadata": {},
     "output_type": "execute_result"
    }
   ],
   "source": [
    "caps = sum(1 for c in message if c.isupper())\n",
    "caps"
   ]
  },
  {
   "cell_type": "code",
   "execution_count": 304,
   "metadata": {},
   "outputs": [],
   "source": [
    "message2 = 'One, Two, Three'"
   ]
  },
  {
   "cell_type": "code",
   "execution_count": 309,
   "metadata": {},
   "outputs": [
    {
     "data": {
      "text/plain": [
       "13"
      ]
     },
     "execution_count": 309,
     "metadata": {},
     "output_type": "execute_result"
    }
   ],
   "source": [
    "len(message2.replace(\" \", \"\"))"
   ]
  },
  {
   "cell_type": "code",
   "execution_count": 305,
   "metadata": {},
   "outputs": [
    {
     "data": {
      "text/plain": [
       "3"
      ]
     },
     "execution_count": 305,
     "metadata": {},
     "output_type": "execute_result"
    }
   ],
   "source": [
    "caps = sum(1 for c in message2 if c.isupper())\n",
    "caps"
   ]
  },
  {
   "cell_type": "code",
   "execution_count": 341,
   "metadata": {},
   "outputs": [],
   "source": [
    "def cap_ratio(text=str):\n",
    "    REPLACE_BY_SPACE_RE = re.compile('[/(){}\\[\\]\\|@,;]')\n",
    "    text = REPLACE_BY_SPACE_RE.sub(' ', text)\n",
    "    BAD_SYMBOLS_RE = re.compile('[^0-9a-zA-Z #+_]')\n",
    "    text = BAD_SYMBOLS_RE.sub('', text)\n",
    "    caps = sum(1 for c in text if c.isupper())\n",
    "    leng = len(text.replace(\" \", \"\"))\n",
    "    return round((caps/leng),2)"
   ]
  },
  {
   "cell_type": "code",
   "execution_count": 342,
   "metadata": {},
   "outputs": [],
   "source": [
    "Message3 = \"HOW MANY TIMES!!!\""
   ]
  },
  {
   "cell_type": "code",
   "execution_count": 343,
   "metadata": {},
   "outputs": [
    {
     "data": {
      "text/plain": [
       "1.0"
      ]
     },
     "execution_count": 343,
     "metadata": {},
     "output_type": "execute_result"
    }
   ],
   "source": [
    "cap_ratio(Message3)"
   ]
  },
  {
   "cell_type": "code",
   "execution_count": 344,
   "metadata": {},
   "outputs": [],
   "source": [
    "Message4 = \"How many times?\""
   ]
  },
  {
   "cell_type": "code",
   "execution_count": 345,
   "metadata": {},
   "outputs": [
    {
     "data": {
      "text/plain": [
       "0.08"
      ]
     },
     "execution_count": 345,
     "metadata": {},
     "output_type": "execute_result"
    }
   ],
   "source": [
    "cap_ratio(Message4)"
   ]
  },
  {
   "cell_type": "code",
   "execution_count": null,
   "metadata": {},
   "outputs": [],
   "source": []
  }
 ],
 "metadata": {
  "kernelspec": {
   "display_name": "Python 3",
   "language": "python",
   "name": "python3"
  },
  "language_info": {
   "codemirror_mode": {
    "name": "ipython",
    "version": 3
   },
   "file_extension": ".py",
   "mimetype": "text/x-python",
   "name": "python",
   "nbconvert_exporter": "python",
   "pygments_lexer": "ipython3",
   "version": "3.7.4"
  },
  "toc": {
   "base_numbering": 1,
   "nav_menu": {},
   "number_sections": true,
   "sideBar": true,
   "skip_h1_title": false,
   "title_cell": "Table of Contents",
   "title_sidebar": "Contents",
   "toc_cell": false,
   "toc_position": {},
   "toc_section_display": true,
   "toc_window_display": false
  },
  "varInspector": {
   "cols": {
    "lenName": 16,
    "lenType": 16,
    "lenVar": 40
   },
   "kernels_config": {
    "python": {
     "delete_cmd_postfix": "",
     "delete_cmd_prefix": "del ",
     "library": "var_list.py",
     "varRefreshCmd": "print(var_dic_list())"
    },
    "r": {
     "delete_cmd_postfix": ") ",
     "delete_cmd_prefix": "rm(",
     "library": "var_list.r",
     "varRefreshCmd": "cat(var_dic_list()) "
    }
   },
   "types_to_exclude": [
    "module",
    "function",
    "builtin_function_or_method",
    "instance",
    "_Feature"
   ],
   "window_display": false
  }
 },
 "nbformat": 4,
 "nbformat_minor": 2
}
