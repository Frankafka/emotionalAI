{
 "cells": [
  {
   "cell_type": "markdown",
   "metadata": {},
   "source": [
    "# EmotionalAI: Baseline Modeling"
   ]
  },
  {
   "cell_type": "markdown",
   "metadata": {},
   "source": [
    "Analysis by Frank Flavell"
   ]
  },
  {
   "cell_type": "markdown",
   "metadata": {},
   "source": [
    "# Modeling\n",
    "\n",
    "After addressing the class imbalance, I trained several models using the updated dataset.\n",
    "\n",
    "### Target\n",
    "* Emotion: 0: No emotion, 1: Anger, 2: Disgust, 3: Fear, 4: Happiness, 5: Sadness, 6: Surprise\n"
   ]
  },
  {
   "cell_type": "markdown",
   "metadata": {},
   "source": [
    "## Table of Contents<span id=\"0\"></span>\n",
    "\n",
    "1. [**Train/ Test Split & Dummy Classifier**](#1)\n",
    "<br/><br/>\n",
    "2. [**Logistic Regression**](#2)\n",
    "<br/><br/>\n",
    "3. [**Naive Bayes**](#3)\n",
    "<br/><br/>\n",
    "4. [**Support Vector Machine**](#4)\n",
    "<br/><br/>\n",
    "5. [**Random Forest**](#5)\n",
    "<br/><br/>\n",
    "6. [**Evaluation & Findings**](#6)\n",
    "    * Class Imbalance\n",
    "    * Feature Engineering\n",
    "<br/><br/>\n",
    "7. [**In-Notebook Demo**](#6)"
   ]
  },
  {
   "cell_type": "markdown",
   "metadata": {},
   "source": [
    "# Package Import"
   ]
  },
  {
   "cell_type": "code",
   "execution_count": 92,
   "metadata": {},
   "outputs": [],
   "source": [
    "import numpy as np\n",
    "import pandas as pd\n",
    "import matplotlib.pyplot as plt\n",
    "%matplotlib inline\n",
    "import seaborn as sns\n",
    "\n",
    "#Pre-Processing\n",
    "from nltk.tokenize import RegexpTokenizer\n",
    "from nltk.stem import WordNetLemmatizer\n",
    "\n",
    "#Train/Test Split\n",
    "from sklearn.model_selection import train_test_split\n",
    "\n",
    "#Modeling Processing Pipeline\n",
    "from sklearn.pipeline import Pipeline\n",
    "from sklearn.feature_extraction.text import CountVectorizer\n",
    "from sklearn.feature_extraction.text import TfidfVectorizer\n",
    "from sklearn.feature_extraction.text import TfidfTransformer\n",
    "\n",
    "#Models\n",
    "from sklearn.dummy import DummyClassifier\n",
    "from sklearn.linear_model import LogisticRegression\n",
    "from sklearn.naive_bayes import MultinomialNB\n",
    "from sklearn.ensemble import RandomForestClassifier\n",
    "from sklearn.linear_model import SGDClassifier\n",
    "\n",
    "#Evaluation\n",
    "from sklearn import metrics\n",
    "from sklearn.metrics import classification_report\n",
    "from sklearn.metrics import confusion_matrix\n",
    "from sklearn.metrics import accuracy_score\n",
    "from sklearn.metrics import f1_score\n",
    "from sklearn.model_selection import cross_val_score\n",
    "\n",
    "import warnings\n",
    "warnings.filterwarnings('ignore')"
   ]
  },
  {
   "cell_type": "markdown",
   "metadata": {},
   "source": [
    "# Data Import and Review"
   ]
  },
  {
   "cell_type": "code",
   "execution_count": 11,
   "metadata": {},
   "outputs": [],
   "source": [
    "df = pd.read_pickle('data/master_under.pickle')"
   ]
  },
  {
   "cell_type": "code",
   "execution_count": 12,
   "metadata": {},
   "outputs": [
    {
     "data": {
      "text/html": [
       "<div>\n",
       "<style scoped>\n",
       "    .dataframe tbody tr th:only-of-type {\n",
       "        vertical-align: middle;\n",
       "    }\n",
       "\n",
       "    .dataframe tbody tr th {\n",
       "        vertical-align: top;\n",
       "    }\n",
       "\n",
       "    .dataframe thead th {\n",
       "        text-align: right;\n",
       "    }\n",
       "</style>\n",
       "<table border=\"1\" class=\"dataframe\">\n",
       "  <thead>\n",
       "    <tr style=\"text-align: right;\">\n",
       "      <th></th>\n",
       "      <th>text</th>\n",
       "      <th>emotion</th>\n",
       "    </tr>\n",
       "  </thead>\n",
       "  <tbody>\n",
       "    <tr>\n",
       "      <td>0</td>\n",
       "      <td>You sound relieved.</td>\n",
       "      <td>0</td>\n",
       "    </tr>\n",
       "    <tr>\n",
       "      <td>1</td>\n",
       "      <td>You are welcome. Please feel free to ask if yo...</td>\n",
       "      <td>0</td>\n",
       "    </tr>\n",
       "    <tr>\n",
       "      <td>2</td>\n",
       "      <td>What should I do with the token?</td>\n",
       "      <td>0</td>\n",
       "    </tr>\n",
       "    <tr>\n",
       "      <td>3</td>\n",
       "      <td>Pardon?</td>\n",
       "      <td>0</td>\n",
       "    </tr>\n",
       "    <tr>\n",
       "      <td>4</td>\n",
       "      <td>This is a precious opportunity for us and our ...</td>\n",
       "      <td>0</td>\n",
       "    </tr>\n",
       "  </tbody>\n",
       "</table>\n",
       "</div>"
      ],
      "text/plain": [
       "                                                text  emotion\n",
       "0                                You sound relieved.        0\n",
       "1  You are welcome. Please feel free to ask if yo...        0\n",
       "2                   What should I do with the token?        0\n",
       "3                                            Pardon?        0\n",
       "4  This is a precious opportunity for us and our ...        0"
      ]
     },
     "execution_count": 12,
     "metadata": {},
     "output_type": "execute_result"
    }
   ],
   "source": [
    "df.head()"
   ]
  },
  {
   "cell_type": "code",
   "execution_count": 13,
   "metadata": {},
   "outputs": [
    {
     "data": {
      "text/plain": [
       "(21347, 2)"
      ]
     },
     "execution_count": 13,
     "metadata": {},
     "output_type": "execute_result"
    }
   ],
   "source": [
    "df.shape"
   ]
  },
  {
   "cell_type": "code",
   "execution_count": 14,
   "metadata": {},
   "outputs": [
    {
     "name": "stdout",
     "output_type": "stream",
     "text": [
      "<class 'pandas.core.frame.DataFrame'>\n",
      "RangeIndex: 21347 entries, 0 to 21346\n",
      "Data columns (total 2 columns):\n",
      "text       21347 non-null object\n",
      "emotion    21347 non-null int64\n",
      "dtypes: int64(1), object(1)\n",
      "memory usage: 333.7+ KB\n"
     ]
    }
   ],
   "source": [
    "df.info()"
   ]
  },
  {
   "cell_type": "markdown",
   "metadata": {},
   "source": [
    "# <span id=\"1\"></span>1. Train/ Test Split\n",
    "#### [Return Contents](#0)"
   ]
  },
  {
   "cell_type": "code",
   "execution_count": 15,
   "metadata": {},
   "outputs": [],
   "source": [
    "X = df.text\n",
    "y = df.emotion\n",
    "X_train, X_test, y_train, y_test = train_test_split(X, y, test_size=0.20, random_state = 42)"
   ]
  },
  {
   "cell_type": "code",
   "execution_count": 16,
   "metadata": {},
   "outputs": [],
   "source": [
    "emotions = ['No emotion', 'Anger', 'Disgust', 'Fear', 'Happiness', 'Sadness', 'Surprise']"
   ]
  },
  {
   "cell_type": "code",
   "execution_count": 106,
   "metadata": {},
   "outputs": [],
   "source": [
    "evaluation = pd.DataFrame({'Model': [],\n",
    "                           'Details':[],\n",
    "                           'Accuracy':[],\n",
    "                           'Precision':[],\n",
    "                           'FP':[],\n",
    "                           'Recall':[],\n",
    "                           'FN':[],\n",
    "                           'F1-Score':[]})"
   ]
  },
  {
   "cell_type": "markdown",
   "metadata": {},
   "source": [
    "### Dummy Classifiers"
   ]
  },
  {
   "cell_type": "code",
   "execution_count": 102,
   "metadata": {},
   "outputs": [],
   "source": [
    "all_strategies = ['most_frequent', 'stratified', 'uniform', 'logreg', 'naive bayes', 'random forest', 'SVM']"
   ]
  },
  {
   "cell_type": "code",
   "execution_count": 113,
   "metadata": {},
   "outputs": [
    {
     "data": {
      "text/plain": [
       "[0.17096018735362997,\n",
       " 0.1522248243559719,\n",
       " 0.1451990632318501,\n",
       " 0.8079625292740047,\n",
       " 0.7484777517564403,\n",
       " 0.322248243559719,\n",
       " 0.7552693208430913]"
      ]
     },
     "execution_count": 113,
     "metadata": {},
     "output_type": "execute_result"
    }
   ],
   "source": [
    "test_scores"
   ]
  },
  {
   "cell_type": "code",
   "execution_count": 99,
   "metadata": {},
   "outputs": [],
   "source": [
    "dc_strategies = ['most_frequent', 'stratified', 'uniform'] \n",
    "  \n",
    "test_scores = [] \n",
    "for s in strategies: \n",
    "    dclf = DummyClassifier(strategy = s, random_state = 0) \n",
    "    dclf.fit(X_train, y_train) \n",
    "    score = dclf.score(X_test, y_test) \n",
    "    test_scores.append(score)"
   ]
  },
  {
   "cell_type": "code",
   "execution_count": 100,
   "metadata": {},
   "outputs": [
    {
     "name": "stdout",
     "output_type": "stream",
     "text": [
      "[0.17096018735362997, 0.1522248243559719, 0.1451990632318501]\n"
     ]
    }
   ],
   "source": [
    "print(dc_test_scores)"
   ]
  },
  {
   "cell_type": "code",
   "execution_count": 125,
   "metadata": {},
   "outputs": [
    {
     "data": {
      "image/png": "[encoded data removed]",
      "text/plain": [
       "<Figure size 432x288 with 1 Axes>"
      ]
     },
     "metadata": {
      "needs_background": "light"
     },
     "output_type": "display_data"
    }
   ],
   "source": [
    "pal = sns.color_palette((\"#7449f6\", \"#ee823e\"))\n",
    "sns.set_palette(pal)\n",
    "ax = sns.barplot(dc_strategies, dc_test_scores); \n",
    "ax.set(xlabel ='Strategy', ylabel ='Test Score', title='Accuracy by Dummy Classifier') \n",
    "plt.show()"
   ]
  },
  {
   "cell_type": "markdown",
   "metadata": {},
   "source": [
    "# <span id=\"2\"></span>2. Logistic Regression\n",
    "#### [Return Contents](#0)"
   ]
  },
  {
   "cell_type": "code",
   "execution_count": 18,
   "metadata": {},
   "outputs": [],
   "source": [
    "from sklearn.naive_bayes import MultinomialNB\n",
    "from sklearn.pipeline import Pipeline\n",
    "from sklearn.feature_extraction.text import TfidfTransformer\n",
    "# INSERT VECTORIZER INSTEAD\n",
    "from sklearn.metrics import classification_report\n",
    "from sklearn.linear_model import SGDClassifier\n",
    "from sklearn.linear_model import LogisticRegression"
   ]
  },
  {
   "cell_type": "code",
   "execution_count": 107,
   "metadata": {
    "scrolled": true
   },
   "outputs": [
    {
     "name": "stdout",
     "output_type": "stream",
     "text": [
      "accuracy 0.8079625292740047\n",
      "              precision    recall  f1-score   support\n",
      "\n",
      "  No emotion       0.47      0.52      0.50       451\n",
      "       Anger       0.78      0.76      0.77       744\n",
      "     Disgust       0.89      0.96      0.92       472\n",
      "        Fear       0.96      0.99      0.98       678\n",
      "   Happiness       0.82      0.74      0.78       730\n",
      "     Sadness       0.87      0.80      0.83       686\n",
      "    Surprise       0.79      0.85      0.82       509\n",
      "\n",
      "    accuracy                           0.81      4270\n",
      "   macro avg       0.80      0.80      0.80      4270\n",
      "weighted avg       0.81      0.81      0.81      4270\n",
      "\n"
     ]
    },
    {
     "data": {
      "text/html": [
       "<div>\n",
       "<style scoped>\n",
       "    .dataframe tbody tr th:only-of-type {\n",
       "        vertical-align: middle;\n",
       "    }\n",
       "\n",
       "    .dataframe tbody tr th {\n",
       "        vertical-align: top;\n",
       "    }\n",
       "\n",
       "    .dataframe thead th {\n",
       "        text-align: right;\n",
       "    }\n",
       "</style>\n",
       "<table border=\"1\" class=\"dataframe\">\n",
       "  <thead>\n",
       "    <tr style=\"text-align: right;\">\n",
       "      <th></th>\n",
       "      <th>Model</th>\n",
       "      <th>Details</th>\n",
       "      <th>Accuracy</th>\n",
       "      <th>Precision</th>\n",
       "      <th>FP</th>\n",
       "      <th>Recall</th>\n",
       "      <th>FN</th>\n",
       "      <th>F1-Score</th>\n",
       "    </tr>\n",
       "  </thead>\n",
       "  <tbody>\n",
       "    <tr>\n",
       "      <td>0</td>\n",
       "      <td>Logistic Regression-1</td>\n",
       "      <td>text only</td>\n",
       "      <td>0.808</td>\n",
       "      <td>0.798</td>\n",
       "      <td>56.0</td>\n",
       "      <td>0.804</td>\n",
       "      <td>76.0</td>\n",
       "      <td>0.8</td>\n",
       "    </tr>\n",
       "  </tbody>\n",
       "</table>\n",
       "</div>"
      ],
      "text/plain": [
       "                   Model    Details  Accuracy  Precision    FP  Recall    FN  \\\n",
       "0  Logistic Regression-1  text only     0.808      0.798  56.0   0.804  76.0   \n",
       "\n",
       "   F1-Score  \n",
       "0       0.8  "
      ]
     },
     "execution_count": 107,
     "metadata": {},
     "output_type": "execute_result"
    }
   ],
   "source": [
    "logreg = Pipeline([('vect', CountVectorizer()),\n",
    "                ('tfidf', TfidfTransformer()),\n",
    "                ('clf', LogisticRegression(n_jobs=1, C=1e5)),\n",
    "               ])\n",
    "logreg.fit(X_train, y_train)\n",
    "\n",
    "y_pred_log1 = logreg.predict(X_test)\n",
    "\n",
    "print('accuracy %s' % accuracy_score(y_test, y_pred_log1))\n",
    "#test_scores.append(accuracy_score(y_test, y_pred_log1))\n",
    "print(classification_report(y_test, y_pred_log1,target_names=emotions))\n",
    "\n",
    "cm = metrics.confusion_matrix(y_test, y_pred_log1)\n",
    "acc = float(format(metrics.accuracy_score(y_test, y_pred_log1, sample_weight=None), '.3f'))\n",
    "prec = float(format(metrics.precision_score(y_test, y_pred_log1, average='macro'),'.3f'))\n",
    "fp = cm[0,1]\n",
    "rec = float(format(metrics.recall_score(y_test, y_pred_log1, average='macro'),'.3f'))\n",
    "fn = cm[1,0]\n",
    "f1 = float(format(metrics.f1_score(y_test, y_pred_log1, average='macro'),'.3f'))\n",
    "\n",
    "r = evaluation.shape[0]\n",
    "evaluation.loc[r] = ['Logistic Regression-1','text only',acc,prec,fp,rec,fn,f1]\n",
    "evaluation.sort_values(by = 'F1-Score', ascending=False)\n"
   ]
  },
  {
   "cell_type": "markdown",
   "metadata": {},
   "source": [
    "Testing trained model on new inputs."
   ]
  },
  {
   "cell_type": "code",
   "execution_count": 52,
   "metadata": {},
   "outputs": [],
   "source": [
    "message = ['I am feeling delight']"
   ]
  },
  {
   "cell_type": "code",
   "execution_count": 54,
   "metadata": {},
   "outputs": [],
   "source": [
    "pred = logreg.predict(message)"
   ]
  },
  {
   "cell_type": "code",
   "execution_count": 57,
   "metadata": {},
   "outputs": [
    {
     "data": {
      "text/plain": [
       "True"
      ]
     },
     "execution_count": 57,
     "metadata": {},
     "output_type": "execute_result"
    }
   ],
   "source": [
    "pred[0] == 5"
   ]
  },
  {
   "cell_type": "code",
   "execution_count": 108,
   "metadata": {},
   "outputs": [
    {
     "data": {
      "image/png": "[encoded data removed]",
      "text/plain": [
       "<Figure size 720x720 with 2 Axes>"
      ]
     },
     "metadata": {
      "needs_background": "light"
     },
     "output_type": "display_data"
    }
   ],
   "source": [
    "conf_mat = confusion_matrix(y_test, y_pred)\n",
    "fig, ax = plt.subplots(figsize=(10,10))\n",
    "sns.heatmap(conf_mat, annot=True, fmt='d',\n",
    "            xticklabels=emotions, yticklabels=emotions)\n",
    "plt.ylabel('Actual')\n",
    "plt.xlabel('Predicted')\n",
    "plt.show()"
   ]
  },
  {
   "cell_type": "markdown",
   "metadata": {},
   "source": [
    "# <span id=\"3\"></span>3. Naive Bayes\n",
    "#### [Return Contents](#0)"
   ]
  },
  {
   "cell_type": "code",
   "execution_count": 109,
   "metadata": {},
   "outputs": [
    {
     "name": "stdout",
     "output_type": "stream",
     "text": [
      "accuracy 0.7484777517564403\n",
      "              precision    recall  f1-score   support\n",
      "\n",
      "  No emotion       0.58      0.40      0.47       451\n",
      "       Anger       0.64      0.83      0.72       744\n",
      "     Disgust       0.89      0.68      0.77       472\n",
      "        Fear       0.89      0.92      0.90       678\n",
      "   Happiness       0.79      0.75      0.77       730\n",
      "     Sadness       0.71      0.85      0.77       686\n",
      "    Surprise       0.75      0.64      0.69       509\n",
      "\n",
      "    accuracy                           0.75      4270\n",
      "   macro avg       0.75      0.72      0.73      4270\n",
      "weighted avg       0.75      0.75      0.74      4270\n",
      "\n"
     ]
    },
    {
     "data": {
      "text/html": [
       "<div>\n",
       "<style scoped>\n",
       "    .dataframe tbody tr th:only-of-type {\n",
       "        vertical-align: middle;\n",
       "    }\n",
       "\n",
       "    .dataframe tbody tr th {\n",
       "        vertical-align: top;\n",
       "    }\n",
       "\n",
       "    .dataframe thead th {\n",
       "        text-align: right;\n",
       "    }\n",
       "</style>\n",
       "<table border=\"1\" class=\"dataframe\">\n",
       "  <thead>\n",
       "    <tr style=\"text-align: right;\">\n",
       "      <th></th>\n",
       "      <th>Model</th>\n",
       "      <th>Details</th>\n",
       "      <th>Accuracy</th>\n",
       "      <th>Precision</th>\n",
       "      <th>FP</th>\n",
       "      <th>Recall</th>\n",
       "      <th>FN</th>\n",
       "      <th>F1-Score</th>\n",
       "    </tr>\n",
       "  </thead>\n",
       "  <tbody>\n",
       "    <tr>\n",
       "      <td>0</td>\n",
       "      <td>Logistic Regression-1</td>\n",
       "      <td>text only</td>\n",
       "      <td>0.808</td>\n",
       "      <td>0.798</td>\n",
       "      <td>56.0</td>\n",
       "      <td>0.804</td>\n",
       "      <td>76.0</td>\n",
       "      <td>0.80</td>\n",
       "    </tr>\n",
       "    <tr>\n",
       "      <td>1</td>\n",
       "      <td>Naive Bayes-1</td>\n",
       "      <td>text only</td>\n",
       "      <td>0.748</td>\n",
       "      <td>0.752</td>\n",
       "      <td>94.0</td>\n",
       "      <td>0.723</td>\n",
       "      <td>14.0</td>\n",
       "      <td>0.73</td>\n",
       "    </tr>\n",
       "  </tbody>\n",
       "</table>\n",
       "</div>"
      ],
      "text/plain": [
       "                   Model    Details  Accuracy  Precision    FP  Recall    FN  \\\n",
       "0  Logistic Regression-1  text only     0.808      0.798  56.0   0.804  76.0   \n",
       "1          Naive Bayes-1  text only     0.748      0.752  94.0   0.723  14.0   \n",
       "\n",
       "   F1-Score  \n",
       "0      0.80  \n",
       "1      0.73  "
      ]
     },
     "execution_count": 109,
     "metadata": {},
     "output_type": "execute_result"
    }
   ],
   "source": [
    "nb = Pipeline([('vect', CountVectorizer()),\n",
    "               ('tfidf', TfidfTransformer()),\n",
    "               ('clf', MultinomialNB()),\n",
    "              ])\n",
    "nb.fit(X_train, y_train)\n",
    "\n",
    "y_pred_nb1 = nb.predict(X_test)\n",
    "\n",
    "print('accuracy %s' % accuracy_score(y_test, y_pre_nb1))\n",
    "test_scores.append(accuracy_score(y_test, y_pre_nb1))\n",
    "print(classification_report(y_test, y_pred_nb1,target_names=emotions))\n",
    "\n",
    "cm = metrics.confusion_matrix(y_test, y_pred_nb1)\n",
    "acc = float(format(metrics.accuracy_score(y_test, y_pred_nb1, sample_weight=None), '.3f'))\n",
    "prec = float(format(metrics.precision_score(y_test, y_pred_nb1, average='macro'),'.3f'))\n",
    "fp = cm[0,1]\n",
    "rec = float(format(metrics.recall_score(y_test, y_pred_nb1, average='macro'),'.3f'))\n",
    "fn = cm[1,0]\n",
    "f1 = float(format(metrics.f1_score(y_test, y_pred_nb1, average='macro'),'.3f'))\n",
    "\n",
    "r = evaluation.shape[0]\n",
    "evaluation.loc[r] = ['Naive Bayes-1','text only',acc,prec,fp,rec,fn,f1]\n",
    "evaluation.sort_values(by = 'F1-Score', ascending=False)"
   ]
  },
  {
   "cell_type": "markdown",
   "metadata": {},
   "source": [
    "# <span id=\"4\"></span>4. Random Forest\n",
    "#### [Return Contents](#0)"
   ]
  },
  {
   "cell_type": "code",
   "execution_count": 110,
   "metadata": {},
   "outputs": [
    {
     "name": "stdout",
     "output_type": "stream",
     "text": [
      "accuracy 0.322248243559719\n",
      "              precision    recall  f1-score   support\n",
      "\n",
      "  No emotion       0.00      0.00      0.00       451\n",
      "       Anger       0.53      0.39      0.45       744\n",
      "     Disgust       0.00      0.00      0.00       472\n",
      "        Fear       0.98      0.18      0.30       678\n",
      "   Happiness       0.21      0.96      0.35       730\n",
      "     Sadness       0.95      0.38      0.54       686\n",
      "    Surprise       0.83      0.02      0.04       509\n",
      "\n",
      "    accuracy                           0.32      4270\n",
      "   macro avg       0.50      0.27      0.24      4270\n",
      "weighted avg       0.54      0.32      0.28      4270\n",
      "\n"
     ]
    },
    {
     "data": {
      "text/html": [
       "<div>\n",
       "<style scoped>\n",
       "    .dataframe tbody tr th:only-of-type {\n",
       "        vertical-align: middle;\n",
       "    }\n",
       "\n",
       "    .dataframe tbody tr th {\n",
       "        vertical-align: top;\n",
       "    }\n",
       "\n",
       "    .dataframe thead th {\n",
       "        text-align: right;\n",
       "    }\n",
       "</style>\n",
       "<table border=\"1\" class=\"dataframe\">\n",
       "  <thead>\n",
       "    <tr style=\"text-align: right;\">\n",
       "      <th></th>\n",
       "      <th>Model</th>\n",
       "      <th>Details</th>\n",
       "      <th>Accuracy</th>\n",
       "      <th>Precision</th>\n",
       "      <th>FP</th>\n",
       "      <th>Recall</th>\n",
       "      <th>FN</th>\n",
       "      <th>F1-Score</th>\n",
       "    </tr>\n",
       "  </thead>\n",
       "  <tbody>\n",
       "    <tr>\n",
       "      <td>0</td>\n",
       "      <td>Logistic Regression-1</td>\n",
       "      <td>text only</td>\n",
       "      <td>0.808</td>\n",
       "      <td>0.798</td>\n",
       "      <td>56.0</td>\n",
       "      <td>0.804</td>\n",
       "      <td>76.0</td>\n",
       "      <td>0.800</td>\n",
       "    </tr>\n",
       "    <tr>\n",
       "      <td>1</td>\n",
       "      <td>Naive Bayes-1</td>\n",
       "      <td>text only</td>\n",
       "      <td>0.748</td>\n",
       "      <td>0.752</td>\n",
       "      <td>94.0</td>\n",
       "      <td>0.723</td>\n",
       "      <td>14.0</td>\n",
       "      <td>0.730</td>\n",
       "    </tr>\n",
       "    <tr>\n",
       "      <td>2</td>\n",
       "      <td>Random Forest-1</td>\n",
       "      <td>text only</td>\n",
       "      <td>0.322</td>\n",
       "      <td>0.500</td>\n",
       "      <td>40.0</td>\n",
       "      <td>0.274</td>\n",
       "      <td>0.0</td>\n",
       "      <td>0.238</td>\n",
       "    </tr>\n",
       "  </tbody>\n",
       "</table>\n",
       "</div>"
      ],
      "text/plain": [
       "                   Model    Details  Accuracy  Precision    FP  Recall    FN  \\\n",
       "0  Logistic Regression-1  text only     0.808      0.798  56.0   0.804  76.0   \n",
       "1          Naive Bayes-1  text only     0.748      0.752  94.0   0.723  14.0   \n",
       "2        Random Forest-1  text only     0.322      0.500  40.0   0.274   0.0   \n",
       "\n",
       "   F1-Score  \n",
       "0     0.800  \n",
       "1     0.730  \n",
       "2     0.238  "
      ]
     },
     "execution_count": 110,
     "metadata": {},
     "output_type": "execute_result"
    }
   ],
   "source": [
    "rdf = Pipeline([('vect', CountVectorizer()),\n",
    "                ('tfidf', TfidfTransformer()),\n",
    "                ('clf', RandomForestClassifier(n_estimators=100, max_depth= 5)),\n",
    "               ])\n",
    "rdf.fit(X_train, y_train)\n",
    "\n",
    "y_pred_rf1 = rdf.predict(X_test)\n",
    "\n",
    "print('accuracy %s' % accuracy_score(y_test, y_pred_rf1))\n",
    "test_scores.append(accuracy_score(y_test, y_pred_rf1))\n",
    "print(classification_report(y_test, y_pred_rf1,target_names=emotions))\n",
    "\n",
    "cm = metrics.confusion_matrix(y_test, y_pred_rf1)\n",
    "acc = float(format(metrics.accuracy_score(y_test, y_pred_rf1, sample_weight=None), '.3f'))\n",
    "prec = float(format(metrics.precision_score(y_test, y_pred_rf1, average='macro'),'.3f'))\n",
    "fp = cm[0,1]\n",
    "rec = float(format(metrics.recall_score(y_test, y_pred_rf1, average='macro'),'.3f'))\n",
    "fn = cm[1,0]\n",
    "f1 = float(format(metrics.f1_score(y_test, y_pred_rf1, average='macro'),'.3f'))\n",
    "\n",
    "r = evaluation.shape[0]\n",
    "evaluation.loc[r] = ['Random Forest-1','text only',acc,prec,fp,rec,fn,f1]\n",
    "evaluation.sort_values(by = 'F1-Score', ascending=False)"
   ]
  },
  {
   "cell_type": "markdown",
   "metadata": {},
   "source": [
    "# <span id=\"5\"></span>5. Support Vector Machine\n",
    "#### [Return Contents](#0)"
   ]
  },
  {
   "cell_type": "code",
   "execution_count": 111,
   "metadata": {
    "scrolled": false
   },
   "outputs": [
    {
     "name": "stdout",
     "output_type": "stream",
     "text": [
      "accuracy 0.7552693208430913\n",
      "              precision    recall  f1-score   support\n",
      "\n",
      "  No emotion       0.60      0.33      0.43       451\n",
      "       Anger       0.79      0.68      0.73       744\n",
      "     Disgust       0.77      0.79      0.78       472\n",
      "        Fear       0.81      0.94      0.87       678\n",
      "   Happiness       0.74      0.82      0.78       730\n",
      "     Sadness       0.82      0.83      0.82       686\n",
      "    Surprise       0.65      0.77      0.70       509\n",
      "\n",
      "    accuracy                           0.76      4270\n",
      "   macro avg       0.74      0.74      0.73      4270\n",
      "weighted avg       0.75      0.76      0.75      4270\n",
      "\n"
     ]
    },
    {
     "data": {
      "text/html": [
       "<div>\n",
       "<style scoped>\n",
       "    .dataframe tbody tr th:only-of-type {\n",
       "        vertical-align: middle;\n",
       "    }\n",
       "\n",
       "    .dataframe tbody tr th {\n",
       "        vertical-align: top;\n",
       "    }\n",
       "\n",
       "    .dataframe thead th {\n",
       "        text-align: right;\n",
       "    }\n",
       "</style>\n",
       "<table border=\"1\" class=\"dataframe\">\n",
       "  <thead>\n",
       "    <tr style=\"text-align: right;\">\n",
       "      <th></th>\n",
       "      <th>Model</th>\n",
       "      <th>Details</th>\n",
       "      <th>Accuracy</th>\n",
       "      <th>Precision</th>\n",
       "      <th>FP</th>\n",
       "      <th>Recall</th>\n",
       "      <th>FN</th>\n",
       "      <th>F1-Score</th>\n",
       "    </tr>\n",
       "  </thead>\n",
       "  <tbody>\n",
       "    <tr>\n",
       "      <td>0</td>\n",
       "      <td>Logistic Regression-1</td>\n",
       "      <td>text only</td>\n",
       "      <td>0.808</td>\n",
       "      <td>0.798</td>\n",
       "      <td>56.0</td>\n",
       "      <td>0.804</td>\n",
       "      <td>76.0</td>\n",
       "      <td>0.800</td>\n",
       "    </tr>\n",
       "    <tr>\n",
       "      <td>3</td>\n",
       "      <td>SVM-1</td>\n",
       "      <td>text only</td>\n",
       "      <td>0.755</td>\n",
       "      <td>0.740</td>\n",
       "      <td>48.0</td>\n",
       "      <td>0.737</td>\n",
       "      <td>23.0</td>\n",
       "      <td>0.731</td>\n",
       "    </tr>\n",
       "    <tr>\n",
       "      <td>1</td>\n",
       "      <td>Naive Bayes-1</td>\n",
       "      <td>text only</td>\n",
       "      <td>0.748</td>\n",
       "      <td>0.752</td>\n",
       "      <td>94.0</td>\n",
       "      <td>0.723</td>\n",
       "      <td>14.0</td>\n",
       "      <td>0.730</td>\n",
       "    </tr>\n",
       "    <tr>\n",
       "      <td>2</td>\n",
       "      <td>Random Forest-1</td>\n",
       "      <td>text only</td>\n",
       "      <td>0.322</td>\n",
       "      <td>0.500</td>\n",
       "      <td>40.0</td>\n",
       "      <td>0.274</td>\n",
       "      <td>0.0</td>\n",
       "      <td>0.238</td>\n",
       "    </tr>\n",
       "  </tbody>\n",
       "</table>\n",
       "</div>"
      ],
      "text/plain": [
       "                   Model    Details  Accuracy  Precision    FP  Recall    FN  \\\n",
       "0  Logistic Regression-1  text only     0.808      0.798  56.0   0.804  76.0   \n",
       "3                  SVM-1  text only     0.755      0.740  48.0   0.737  23.0   \n",
       "1          Naive Bayes-1  text only     0.748      0.752  94.0   0.723  14.0   \n",
       "2        Random Forest-1  text only     0.322      0.500  40.0   0.274   0.0   \n",
       "\n",
       "   F1-Score  \n",
       "0     0.800  \n",
       "3     0.731  \n",
       "1     0.730  \n",
       "2     0.238  "
      ]
     },
     "execution_count": 111,
     "metadata": {},
     "output_type": "execute_result"
    }
   ],
   "source": [
    "sgd = Pipeline([('vect', CountVectorizer()),\n",
    "                ('tfidf', TfidfTransformer()),\n",
    "                ('clf', SGDClassifier(loss='hinge', penalty='l2',alpha=1e-3, random_state=42, max_iter=5, tol=None)),\n",
    "               ])\n",
    "sgd.fit(X_train, y_train)\n",
    "\n",
    "y_pred_svm1 = sgd.predict(X_test)\n",
    "\n",
    "print('accuracy %s' % accuracy_score(y_test, y_pred_svm1))\n",
    "test_scores.append(accuracy_score(y_test, y_pred_svm1))\n",
    "print(classification_report(y_test, y_pred_svm1,target_names=emotions))\n",
    "\n",
    "cm = metrics.confusion_matrix(y_test, y_pred_svm1)\n",
    "acc = float(format(metrics.accuracy_score(y_test, y_pred_svm1, sample_weight=None), '.3f'))\n",
    "prec = float(format(metrics.precision_score(y_test, y_pred_svm1, average='macro'),'.3f'))\n",
    "fp = cm[0,1]\n",
    "rec = float(format(metrics.recall_score(y_test, y_pred_svm1, average='macro'),'.3f'))\n",
    "fn = cm[1,0]\n",
    "f1 = float(format(metrics.f1_score(y_test, y_pred_svm1, average='macro'),'.3f'))\n",
    "\n",
    "r = evaluation.shape[0]\n",
    "evaluation.loc[r] = ['SVM-1','text only',acc,prec,fp,rec,fn,f1]\n",
    "evaluation.sort_values(by = 'F1-Score', ascending=False)"
   ]
  },
  {
   "cell_type": "code",
   "execution_count": 127,
   "metadata": {
    "scrolled": true
   },
   "outputs": [
    {
     "data": {
      "image/png": "[encoded data removed]",
      "text/plain": [
       "<Figure size 432x288 with 1 Axes>"
      ]
     },
     "metadata": {
      "needs_background": "light"
     },
     "output_type": "display_data"
    }
   ],
   "source": [
    "# all_strategies = ['Most_Freq', 'Strat', 'Uniform', 'LogReg', 'NB', 'RF', 'SVM']\n",
    "pal = sns.color_palette((\"#7449f6\", \"#ee823e\"))\n",
    "sns.set_palette(pal)\n",
    "ax = sns.barplot(['Most_Freq', 'Strat', 'Uniform', 'LogReg', 'NB', 'RF', 'SVM'], test_scores); \n",
    "ax.set(xlabel ='Strategy', ylabel ='Test Score', title='Model Accuracy') \n",
    "plt.show()"
   ]
  },
  {
   "cell_type": "markdown",
   "metadata": {},
   "source": [
    "# <span id=\"6\"></span>6. Evaluation & Findings\n",
    "#### [Return Contents](#0)"
   ]
  },
  {
   "cell_type": "markdown",
   "metadata": {},
   "source": [
    "### Evaluation\n",
    "\n",
    "The best model was a logistic regression model that achieved 80% accuracy with an F1-Score of 0.8.  I focused primarily on the F1-Score because the cost of a false negative and a false positive are essentially the same - both result in a false prediction for the user.  I also focused on accuracy because I want to see how overall effective the model is at outputting an accurate prediction while understanding that the accuracy of predictions vary by emotion class.\n",
    "\n",
    "\n",
    "### Findings\n",
    "\n",
    "The goal here is to build a model that's good enough to put into production for a beta phase where I can test the model within a chatbot framework and gather more and more user data to train new models.\n",
    "\n",
    "The model does well as classifying utterances containing emotion keywords like \"down\" for sad.\n",
    "\n",
    "The model also does relatively well on short utterances that don't contain keywords.\n",
    "\n",
    "The model fails when handling large utterances that contain complex sentence structure and mention of several different emotions.  My hope is that the emotion score feature could help to improve the model's effectiveness in this regard."
   ]
  },
  {
   "cell_type": "markdown",
   "metadata": {},
   "source": [
    "# <span id=\"7\"></span>7. In-Notebook Demo\n",
    "#### [Return Contents](#0)"
   ]
  },
  {
   "cell_type": "markdown",
   "metadata": {},
   "source": [
    "I built a function that takes in a string and outputs a prediction and checks for validation."
   ]
  },
  {
   "cell_type": "code",
   "execution_count": 79,
   "metadata": {},
   "outputs": [],
   "source": [
    "def emotion_ai(response):\n",
    "#     reponse = raw_input(\"Hi! How're you feeling today?\")\n",
    "#     cleaned = pipeline(response)\n",
    "    emotion = logreg.predict([response])\n",
    "    if emotion[0] == 0:\n",
    "        print('\\n')\n",
    "        print(\"Hmm...tell me more.\\n\")\n",
    "    elif emotion[0] == 1:\n",
    "        print('\\n')\n",
    "        print(\"I'm sorry you're feeling angry.\\n\")\n",
    "        val = input(\"Is that correct?\\n\\n\")\n",
    "    elif emotion[0] == 2:\n",
    "        print('\\n')\n",
    "        print(\"I'm sorry you're feeling disgusted.\\n\")\n",
    "        val = input(\"Is that correct?\\n\\n\")\n",
    "    elif emotion[0] == 3:\n",
    "        print('\\n')\n",
    "        print(\"I'm sorry you're feeling scared.\\n\")\n",
    "        val = input(\"Is that correct?\\n\\n\")\n",
    "    elif emotion[0] == 4:\n",
    "        print('\\n')\n",
    "        print(\"That's great you're feeling happy.\\n\")\n",
    "        val = input(\"Is that correct?\\n\\n\")\n",
    "    elif emotion[0] == 5:\n",
    "        print('\\n')\n",
    "        print(\"I'm sorry you're feeling sad.\\n\")\n",
    "        val = input(\"Is that correct?\\n\\n\")\n",
    "    elif emotion[0] == 6:\n",
    "        print('\\n')\n",
    "        print(\"You're feeling surprised.\\n\")\n",
    "        val = input(\"Is that correct?\\n\\n\")"
   ]
  },
  {
   "cell_type": "code",
   "execution_count": 90,
   "metadata": {},
   "outputs": [
    {
     "name": "stdout",
     "output_type": "stream",
     "text": [
      "Hi!  How're you feeling today?\n",
      "\n",
      "All my friends are at the movies and they didn't invite me.\n",
      "\n",
      "\n",
      "I'm sorry you're feeling sad.\n",
      "\n",
      "Is that correct?\n",
      "\n",
      "Yes.\n"
     ]
    }
   ],
   "source": [
    "message = input(\"Hi!  How're you feeling today?\\n\\n\")\n",
    "emotion_ai(message)"
   ]
  },
  {
   "cell_type": "code",
   "execution_count": null,
   "metadata": {},
   "outputs": [],
   "source": []
  }
 ],
 "metadata": {
  "kernelspec": {
   "display_name": "Python 3",
   "language": "python",
   "name": "python3"
  },
  "language_info": {
   "codemirror_mode": {
    "name": "ipython",
    "version": 3
   },
   "file_extension": ".py",
   "mimetype": "text/x-python",
   "name": "python",
   "nbconvert_exporter": "python",
   "pygments_lexer": "ipython3",
   "version": "3.7.4"
  }
 },
 "nbformat": 4,
 "nbformat_minor": 2
}
